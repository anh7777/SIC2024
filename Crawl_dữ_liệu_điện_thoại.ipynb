{
  "cells": [
    {
      "cell_type": "markdown",
      "metadata": {
        "id": "view-in-github",
        "colab_type": "text"
      },
      "source": [
        "<a href=\"https://colab.research.google.com/github/anh7777/SIC2024/blob/main/Crawl_d%E1%BB%AF_li%E1%BB%87u_%C4%91i%E1%BB%87n_tho%E1%BA%A1i.ipynb\" target=\"_parent\"><img src=\"https://colab.research.google.com/assets/colab-badge.svg\" alt=\"Open In Colab\"/></a>"
      ]
    },
    {
      "cell_type": "markdown",
      "metadata": {
        "id": "p9aPxoiuzc4Y"
      },
      "source": [
        "#**Thu thập dữ liệu từ trang web Tiki**#"
      ]
    },
    {
      "cell_type": "code",
      "execution_count": null,
      "metadata": {
        "colab": {
          "base_uri": "https://localhost:8080/"
        },
        "collapsed": true,
        "id": "Wj_OSOuwpeN3",
        "outputId": "af0950da-aa91-4e38-bc70-7cb7be8050c0"
      },
      "outputs": [
        {
          "name": "stdout",
          "output_type": "stream",
          "text": [
            "request success!!!\n",
            "request success!!!\n",
            "request success!!!\n",
            "request success!!!\n",
            "request success!!!\n",
            "request success!!!\n",
            "request success!!!\n",
            "request success!!!\n",
            "request success!!!\n",
            "request success!!!\n",
            "request success!!!\n",
            "request success!!!\n",
            "request success!!!\n",
            "request success!!!\n",
            "request success!!!\n",
            "request success!!!\n",
            "request success!!!\n",
            "request success!!!\n",
            "request success!!!\n",
            "request success!!!\n",
            "request success!!!\n",
            "request success!!!\n",
            "request success!!!\n",
            "request success!!!\n",
            "request success!!!\n",
            "request success!!!\n",
            "request success!!!\n",
            "request success!!!\n",
            "request success!!!\n",
            "request success!!!\n",
            "request success!!!\n",
            "request success!!!\n",
            "request success!!!\n",
            "request success!!!\n",
            "request success!!!\n",
            "request success!!!\n",
            "request success!!!\n",
            "request success!!!\n",
            "request success!!!\n",
            "request success!!!\n",
            "request success!!!\n",
            "request success!!!\n",
            "request success!!!\n",
            "request success!!!\n",
            "request success!!!\n",
            "request success!!!\n",
            "request success!!!\n",
            "request success!!!\n",
            "request success!!!\n",
            "request success!!!\n"
          ]
        }
      ],
      "source": [
        "import requests\n",
        "import time\n",
        "import random\n",
        "import pandas as pd\n",
        "\n",
        "headers = {\n",
        "    'User-Agent': 'Mozilla/5.0 (Windows NT 6.3; Win64; x64; rv:83.0) Gecko/20100101 Firefox/83.0',\n",
        "    'Accept': 'application/json, text/plain, */*',\n",
        "    'Accept-Language': 'vi-VN,vi;q=0.8,en-US;q=0.5,en;q=0.3',\n",
        "    'Referer': 'https://tiki.vn/?src=header_tiki',\n",
        "    'x-guest-token': '8jWSuIDBb2NGVzr6hsUZXpkP1FRin7lY',\n",
        "    'Connection': 'keep-alive',\n",
        "    'TE': 'Trailers',\n",
        "}\n",
        "\n",
        "params = {\n",
        "    'limit': '48',\n",
        "    'include': 'sale-attrs,badges,product_links,brand,category,stock_item,advertisement',\n",
        "    'aggregations': '1',\n",
        "    'trackity_id': '70e316b0-96f2-dbe1-a2ed-43ff60419991',\n",
        "    'category': '1789',\n",
        "    'page': '1',\n",
        "    'src': 'c1789',\n",
        "    'urlKey':  'dien-thoai-smartphone',\n",
        "}\n",
        "\n",
        "product_id = []\n",
        "for i in range(1, 51):\n",
        "    params['page'] = i\n",
        "    response = requests.get('https://tiki.vn/api/v2/products', headers=headers, params=params)#, cookies=cookies)\n",
        "    if response.status_code == 200:\n",
        "        print('request success!!!')\n",
        "        for record in response.json().get('data'):\n",
        "            product_id.append({'id': record.get('id'),'name': record.get('name')})\n",
        "    time.sleep(random.randrange(3, 10))\n",
        "\n",
        "df = pd.DataFrame(product_id)"
      ]
    },
    {
      "cell_type": "code",
      "execution_count": null,
      "metadata": {
        "id": "IJh4V1xkiEJR"
      },
      "outputs": [],
      "source": [
        "df.to_csv('product_id_ncds.csv', index=False)"
      ]
    },
    {
      "cell_type": "code",
      "execution_count": null,
      "metadata": {
        "colab": {
          "base_uri": "https://localhost:8080/"
        },
        "collapsed": true,
        "id": "K8Wj6mMjr95h",
        "outputId": "9e6336f4-14ca-4292-c097-2d07e02ff88b"
      },
      "outputs": [
        {
          "name": "stdout",
          "output_type": "stream",
          "text": [
            "[273951550, 273258830, 273947792, 275571988, 275572013, 273252926, 271973414, 270975124, 184059211, 273258830, 275571989, 275571990, 125182567, 217706932, 217645692, 271972435, 184036446, 271046571, 274037360, 274037365, 217640502, 271362153, 173387789, 273559020, 273559306, 273951550, 273348837, 135332196, 275263668, 275585819, 275355779, 205815576, 274536294, 274095168, 274101255, 270977740, 275583801, 273942001, 125182567, 183330021, 274681248, 274681250, 275307093, 214756058, 274989836, 274101262, 271966786, 120295859, 197214029, 275042829, 275093800, 273947792, 274069052, 275254316, 275786395, 273951550, 273258830, 275571989, 275572013, 275571988, 271967379, 275618846, 275093810, 275349801, 272151221, 275571990, 273947792, 125182567, 217706932, 217645692, 274721231, 274959691, 274544634, 275237083, 274507025, 271362153, 173387789, 217640502, 273559306, 273559020, 273610368, 274721226, 274945338, 274959118, 226552005, 274638659, 275018185, 140184098, 275177234, 275496965, 272222033, 275206906, 163914808, 181928208, 275583785, 230157205, 217706932, 260406257, 217645692, 201067649, 273029857, 200819471, 275571989, 273559020, 275206903, 275510579, 139632023, 209872337, 263675862, 270495179, 168526284, 274946446, 270814388, 273897681, 273553649, 164213695, 11415485, 274424330, 204237269, 273454566, 126050455, 263798932, 270260682, 125590981, 274869053, 274948704, 121744434, 274946444, 273718967, 274946440, 214603586, 274638430, 274840015, 273774937, 242434782, 252586291, 173387789, 272394241, 184578632, 274948708, 181928189, 118102328, 273559306, 273958619, 275618841, 274638822, 273990229, 217640502, 273412211, 252428990, 273175604, 270707514, 273258825, 273498357, 230203067, 275543365, 274542883, 170165701, 274415640, 274866839, 275295008, 274959114, 263073555, 272392928, 272328188, 275042833, 143359355, 217505430, 270794184, 179547641, 209927605, 271467653, 170165658, 84757299, 271798615, 11251735, 16521748, 4048581, 11376644, 274617822, 275572013, 275510581, 274619667, 275175815, 271362153, 274839974, 274625676, 274568845, 275510578, 274610468, 274559076, 275778981, 275583780, 271128271, 275773755, 274904904, 275786454, 271284934, 274840120, 275571990, 274840089, 258373871, 271451188, 250113073, 274164375, 274440344, 274610380, 270512785, 208171115, 249890677, 275761381, 274958868, 207883258, 275774865, 273897523, 246163082, 273366296, 275543373, 270791102, 274456687, 274611998, 274840632, 275786792, 275486710, 274625697, 275093801, 274456447, 263041214, 270164674, 273440662, 275774243, 217548686, 275774867, 274762125, 275543388, 257683120, 275504632, 11251770, 272234493, 274172292, 275775792, 275774890, 275254310, 160450655, 275543355, 275407523, 273897590, 270510406, 274638556, 262908601, 203853390, 275774858, 181927774, 192694043, 274625942, 272273680, 273610105, 274166857, 176909016, 248766283, 275093806, 274839939, 252427658, 274625981, 275774883, 271982547, 181918564, 273367316, 274378214, 251514670, 275774874, 270814316, 275295006, 274393574, 196197701, 275774758, 275152276, 275335546, 273685412, 250109584, 274375122, 262706645, 272348047, 72310352, 274868116, 274908645, 273958512, 275605662, 275276075, 258667842, 72310420, 275773463, 273373420, 274065023, 273668660, 206218031, 254125720, 273438724, 167466044, 273373436, 261965186, 273653444, 274392442, 273683300, 275773451, 273636845, 274099409, 126682340, 247730209, 275775850, 271087979, 273595363, 273378164, 197666071, 275629952, 274541336, 162866839, 275773237, 275773774, 275776790, 271235147, 274868043, 272238679, 271954384, 271530789, 43924153, 140747649, 188030974, 118486668, 274065746, 249955152, 215746882, 275774279, 274516245, 273357326, 273359059, 140940220, 275773333, 91281318, 272113804, 273411988, 270814412, 215097578, 273186334, 249956458, 274839897, 273438458, 275774759, 275773424, 274030201, 273185467, 23142193, 147969070, 204872160, 31820638, 273430216, 274162900, 274560616, 274506430, 198968094, 275774751, 275577204, 4048043, 275775859, 275746497, 217505504, 275774453, 248929458, 275774462, 275773232, 23865953, 53380152, 11251743, 196193895, 252884859, 275773244, 274364026, 215119245, 275773257, 271329051, 140144656, 29440849, 251407092, 275775836, 25949745, 272241346, 117929538, 203278278, 215125094, 258787119, 275773470, 275044287, 273227290, 178311123, 14508445, 157835051, 275776155, 274361820, 181927736, 221518066, 272270730, 271801317, 113475741, 252884932, 273407277, 271799133, 11251711, 52326343, 215135773, 173789184, 117347869, 156222386, 181977398, 117929342, 118100268, 94453667, 102620086, 164318507, 275774235, 118100164, 125171841, 251772653, 15428119, 181927718, 118136229, 198868573, 198868735, 172537996, 170727305, 249890023, 274116886, 247299188, 204671569, 275716541, 249178196, 249168949, 118103703, 275774747, 275773881, 273360836, 275775952, 271730109, 193366048, 273232944, 262516014, 274156763, 263438199, 270832077, 274639670, 275774237, 249782771, 52002453, 273231495, 273659145, 248754839, 275504716, 249534908, 200848570, 275774447, 219400421, 275773562, 275776403, 275775805, 16523479, 275386465, 275621214, 273511450, 248762051, 217276360, 11251937, 221274391, 275716542, 249169833, 275774763, 275774892, 275774627, 247427990, 273684137, 191764688, 263438008, 219392186, 251448280, 275773439, 16518729, 249143473, 248005118, 275775821, 198648645, 275571988]\n"
          ]
        },
        {
          "name": "stderr",
          "output_type": "stream",
          "text": [
            "\r  0%|          | 0/489 [00:00<?, ?it/s]"
          ]
        },
        {
          "name": "stdout",
          "output_type": "stream",
          "text": [
            "Crawl data 273951550 success !!!\n"
          ]
        },
        {
          "name": "stderr",
          "output_type": "stream",
          "text": [
            "\r  0%|          | 1/489 [00:03<27:56,  3.43s/it]"
          ]
        },
        {
          "name": "stdout",
          "output_type": "stream",
          "text": [
            "Crawl data 273258830 success !!!\n"
          ]
        },
        {
          "name": "stderr",
          "output_type": "stream",
          "text": [
            "\r  0%|          | 2/489 [00:06<27:47,  3.42s/it]"
          ]
        },
        {
          "name": "stdout",
          "output_type": "stream",
          "text": [
            "Crawl data 273947792 success !!!\n"
          ]
        },
        {
          "name": "stderr",
          "output_type": "stream",
          "text": [
            "\r  1%|          | 3/489 [00:10<27:48,  3.43s/it]"
          ]
        },
        {
          "name": "stdout",
          "output_type": "stream",
          "text": [
            "Crawl data 275571988 success !!!\n"
          ]
        },
        {
          "name": "stderr",
          "output_type": "stream",
          "text": [
            "\r  1%|          | 4/489 [00:14<30:56,  3.83s/it]"
          ]
        },
        {
          "name": "stdout",
          "output_type": "stream",
          "text": [
            "Crawl data 275572013 success !!!\n"
          ]
        },
        {
          "name": "stderr",
          "output_type": "stream",
          "text": [
            "\r  1%|          | 5/489 [00:18<29:40,  3.68s/it]"
          ]
        },
        {
          "name": "stdout",
          "output_type": "stream",
          "text": [
            "Crawl data 273252926 success !!!\n"
          ]
        },
        {
          "name": "stderr",
          "output_type": "stream",
          "text": [
            "\r  1%|          | 6/489 [00:21<28:54,  3.59s/it]"
          ]
        },
        {
          "name": "stdout",
          "output_type": "stream",
          "text": [
            "Crawl data 271973414 success !!!\n"
          ]
        },
        {
          "name": "stderr",
          "output_type": "stream",
          "text": [
            "\r  1%|▏         | 7/489 [00:25<28:43,  3.58s/it]"
          ]
        },
        {
          "name": "stdout",
          "output_type": "stream",
          "text": [
            "Crawl data 270975124 success !!!\n"
          ]
        },
        {
          "name": "stderr",
          "output_type": "stream",
          "text": [
            "\r  2%|▏         | 8/489 [00:29<30:51,  3.85s/it]"
          ]
        },
        {
          "name": "stdout",
          "output_type": "stream",
          "text": [
            "Crawl data 184059211 success !!!\n"
          ]
        },
        {
          "name": "stderr",
          "output_type": "stream",
          "text": [
            "\r  2%|▏         | 9/489 [00:34<32:19,  4.04s/it]"
          ]
        },
        {
          "name": "stdout",
          "output_type": "stream",
          "text": [
            "Crawl data 273258830 success !!!\n"
          ]
        },
        {
          "name": "stderr",
          "output_type": "stream",
          "text": [
            "\r  2%|▏         | 10/489 [00:38<33:10,  4.16s/it]"
          ]
        },
        {
          "name": "stdout",
          "output_type": "stream",
          "text": [
            "Crawl data 275571989 success !!!\n"
          ]
        },
        {
          "name": "stderr",
          "output_type": "stream",
          "text": [
            "\r  2%|▏         | 11/489 [00:42<33:53,  4.25s/it]"
          ]
        },
        {
          "name": "stdout",
          "output_type": "stream",
          "text": [
            "Crawl data 275571990 success !!!\n"
          ]
        },
        {
          "name": "stderr",
          "output_type": "stream",
          "text": [
            "\r  2%|▏         | 12/489 [00:47<34:15,  4.31s/it]"
          ]
        },
        {
          "name": "stdout",
          "output_type": "stream",
          "text": [
            "Crawl data 125182567 success !!!\n"
          ]
        },
        {
          "name": "stderr",
          "output_type": "stream",
          "text": [
            "\r  3%|▎         | 13/489 [00:50<32:14,  4.07s/it]"
          ]
        },
        {
          "name": "stdout",
          "output_type": "stream",
          "text": [
            "Crawl data 217706932 success !!!\n"
          ]
        },
        {
          "name": "stderr",
          "output_type": "stream",
          "text": [
            "\r  3%|▎         | 14/489 [00:55<33:11,  4.19s/it]"
          ]
        },
        {
          "name": "stdout",
          "output_type": "stream",
          "text": [
            "Crawl data 217645692 success !!!\n"
          ]
        },
        {
          "name": "stderr",
          "output_type": "stream",
          "text": [
            "\r  3%|▎         | 15/489 [00:58<31:28,  3.98s/it]"
          ]
        },
        {
          "name": "stdout",
          "output_type": "stream",
          "text": [
            "Crawl data 271972435 success !!!\n"
          ]
        },
        {
          "name": "stderr",
          "output_type": "stream",
          "text": [
            "\r  3%|▎         | 16/489 [01:03<32:38,  4.14s/it]"
          ]
        },
        {
          "name": "stdout",
          "output_type": "stream",
          "text": [
            "Crawl data 184036446 success !!!\n"
          ]
        },
        {
          "name": "stderr",
          "output_type": "stream",
          "text": [
            "\r  3%|▎         | 17/489 [01:07<33:26,  4.25s/it]"
          ]
        },
        {
          "name": "stdout",
          "output_type": "stream",
          "text": [
            "Crawl data 271046571 success !!!\n"
          ]
        },
        {
          "name": "stderr",
          "output_type": "stream",
          "text": [
            "\r  4%|▎         | 18/489 [01:12<33:48,  4.31s/it]"
          ]
        },
        {
          "name": "stdout",
          "output_type": "stream",
          "text": [
            "Crawl data 274037360 success !!!\n"
          ]
        },
        {
          "name": "stderr",
          "output_type": "stream",
          "text": [
            "\r  4%|▍         | 19/489 [01:16<34:00,  4.34s/it]"
          ]
        },
        {
          "name": "stdout",
          "output_type": "stream",
          "text": [
            "Crawl data 274037365 success !!!\n"
          ]
        },
        {
          "name": "stderr",
          "output_type": "stream",
          "text": [
            "\r  4%|▍         | 20/489 [01:20<31:56,  4.09s/it]"
          ]
        },
        {
          "name": "stdout",
          "output_type": "stream",
          "text": [
            "Crawl data 217640502 success !!!\n"
          ]
        },
        {
          "name": "stderr",
          "output_type": "stream",
          "text": [
            "\r  4%|▍         | 21/489 [01:24<32:44,  4.20s/it]"
          ]
        },
        {
          "name": "stdout",
          "output_type": "stream",
          "text": [
            "Crawl data 271362153 success !!!\n"
          ]
        },
        {
          "name": "stderr",
          "output_type": "stream",
          "text": [
            "\r  4%|▍         | 22/489 [01:28<31:00,  3.98s/it]"
          ]
        },
        {
          "name": "stdout",
          "output_type": "stream",
          "text": [
            "Crawl data 173387789 success !!!\n"
          ]
        },
        {
          "name": "stderr",
          "output_type": "stream",
          "text": [
            "\r  5%|▍         | 23/489 [01:32<32:12,  4.15s/it]"
          ]
        },
        {
          "name": "stdout",
          "output_type": "stream",
          "text": [
            "Crawl data 273559020 success !!!\n"
          ]
        },
        {
          "name": "stderr",
          "output_type": "stream",
          "text": [
            "\r  5%|▍         | 24/489 [01:37<32:50,  4.24s/it]"
          ]
        },
        {
          "name": "stdout",
          "output_type": "stream",
          "text": [
            "Crawl data 273559306 success !!!\n"
          ]
        },
        {
          "name": "stderr",
          "output_type": "stream",
          "text": [
            "\r  5%|▌         | 25/489 [01:41<33:03,  4.27s/it]"
          ]
        },
        {
          "name": "stdout",
          "output_type": "stream",
          "text": [
            "Crawl data 273951550 success !!!\n"
          ]
        },
        {
          "name": "stderr",
          "output_type": "stream",
          "text": [
            "\r  5%|▌         | 26/489 [01:45<33:23,  4.33s/it]"
          ]
        },
        {
          "name": "stdout",
          "output_type": "stream",
          "text": [
            "Crawl data 273348837 success !!!\n"
          ]
        },
        {
          "name": "stderr",
          "output_type": "stream",
          "text": [
            "\r  6%|▌         | 27/489 [01:49<31:15,  4.06s/it]"
          ]
        },
        {
          "name": "stdout",
          "output_type": "stream",
          "text": [
            "Crawl data 135332196 success !!!\n"
          ]
        },
        {
          "name": "stderr",
          "output_type": "stream",
          "text": [
            "\r  6%|▌         | 28/489 [01:52<29:38,  3.86s/it]"
          ]
        },
        {
          "name": "stdout",
          "output_type": "stream",
          "text": [
            "Crawl data 275263668 success !!!\n"
          ]
        },
        {
          "name": "stderr",
          "output_type": "stream",
          "text": [
            "\r  6%|▌         | 29/489 [01:56<28:39,  3.74s/it]"
          ]
        },
        {
          "name": "stdout",
          "output_type": "stream",
          "text": [
            "Crawl data 275585819 success !!!\n"
          ]
        },
        {
          "name": "stderr",
          "output_type": "stream",
          "text": [
            "\r  6%|▌         | 30/489 [02:00<30:10,  3.95s/it]"
          ]
        },
        {
          "name": "stdout",
          "output_type": "stream",
          "text": [
            "Crawl data 275355779 success !!!\n"
          ]
        },
        {
          "name": "stderr",
          "output_type": "stream",
          "text": [
            "\r  6%|▋         | 31/489 [02:05<31:15,  4.10s/it]"
          ]
        },
        {
          "name": "stdout",
          "output_type": "stream",
          "text": [
            "Crawl data 205815576 success !!!\n"
          ]
        },
        {
          "name": "stderr",
          "output_type": "stream",
          "text": [
            "\r  7%|▋         | 32/489 [02:09<32:00,  4.20s/it]"
          ]
        },
        {
          "name": "stdout",
          "output_type": "stream",
          "text": [
            "Crawl data 274536294 success !!!\n"
          ]
        },
        {
          "name": "stderr",
          "output_type": "stream",
          "text": [
            "\r  7%|▋         | 33/489 [02:13<32:19,  4.25s/it]"
          ]
        },
        {
          "name": "stdout",
          "output_type": "stream",
          "text": [
            "Crawl data 274095168 success !!!\n"
          ]
        },
        {
          "name": "stderr",
          "output_type": "stream",
          "text": [
            "\r  7%|▋         | 34/489 [02:17<30:23,  4.01s/it]"
          ]
        },
        {
          "name": "stdout",
          "output_type": "stream",
          "text": [
            "Crawl data 274101255 success !!!\n"
          ]
        },
        {
          "name": "stderr",
          "output_type": "stream",
          "text": [
            "\r  7%|▋         | 35/489 [02:20<29:06,  3.85s/it]"
          ]
        },
        {
          "name": "stdout",
          "output_type": "stream",
          "text": [
            "Crawl data 270977740 success !!!\n"
          ]
        },
        {
          "name": "stderr",
          "output_type": "stream",
          "text": [
            "\r  7%|▋         | 36/489 [02:24<28:03,  3.72s/it]"
          ]
        },
        {
          "name": "stdout",
          "output_type": "stream",
          "text": [
            "Crawl data 275583801 success !!!\n"
          ]
        },
        {
          "name": "stderr",
          "output_type": "stream",
          "text": [
            "\r  8%|▊         | 37/489 [02:28<29:44,  3.95s/it]"
          ]
        },
        {
          "name": "stdout",
          "output_type": "stream",
          "text": [
            "Crawl data 273942001 success !!!\n"
          ]
        },
        {
          "name": "stderr",
          "output_type": "stream",
          "text": [
            "\r  8%|▊         | 38/489 [02:33<30:42,  4.09s/it]"
          ]
        },
        {
          "name": "stdout",
          "output_type": "stream",
          "text": [
            "Crawl data 125182567 success !!!\n"
          ]
        },
        {
          "name": "stderr",
          "output_type": "stream",
          "text": [
            "\r  8%|▊         | 39/489 [02:37<31:29,  4.20s/it]"
          ]
        },
        {
          "name": "stdout",
          "output_type": "stream",
          "text": [
            "Crawl data 183330021 success !!!\n"
          ]
        },
        {
          "name": "stderr",
          "output_type": "stream",
          "text": [
            "\r  8%|▊         | 40/489 [02:40<29:39,  3.96s/it]"
          ]
        },
        {
          "name": "stdout",
          "output_type": "stream",
          "text": [
            "Crawl data 274681248 success !!!\n"
          ]
        },
        {
          "name": "stderr",
          "output_type": "stream",
          "text": [
            "\r  8%|▊         | 41/489 [02:44<28:28,  3.81s/it]"
          ]
        },
        {
          "name": "stdout",
          "output_type": "stream",
          "text": [
            "Crawl data 274681250 success !!!\n"
          ]
        },
        {
          "name": "stderr",
          "output_type": "stream",
          "text": [
            "\r  9%|▊         | 42/489 [02:47<27:35,  3.70s/it]"
          ]
        },
        {
          "name": "stdout",
          "output_type": "stream",
          "text": [
            "Crawl data 275307093 success !!!\n"
          ]
        },
        {
          "name": "stderr",
          "output_type": "stream",
          "text": [
            "\r  9%|▉         | 43/489 [02:51<26:55,  3.62s/it]"
          ]
        },
        {
          "name": "stdout",
          "output_type": "stream",
          "text": [
            "Crawl data 214756058 success !!!\n"
          ]
        },
        {
          "name": "stderr",
          "output_type": "stream",
          "text": [
            "\r  9%|▉         | 44/489 [02:55<28:43,  3.87s/it]"
          ]
        },
        {
          "name": "stdout",
          "output_type": "stream",
          "text": [
            "Crawl data 274989836 success !!!\n"
          ]
        },
        {
          "name": "stderr",
          "output_type": "stream",
          "text": [
            "\r  9%|▉         | 45/489 [03:00<29:54,  4.04s/it]"
          ]
        },
        {
          "name": "stdout",
          "output_type": "stream",
          "text": [
            "Crawl data 274101262 success !!!\n"
          ]
        },
        {
          "name": "stderr",
          "output_type": "stream",
          "text": [
            "\r  9%|▉         | 46/489 [03:04<30:42,  4.16s/it]"
          ]
        },
        {
          "name": "stdout",
          "output_type": "stream",
          "text": [
            "Crawl data 271966786 success !!!\n"
          ]
        },
        {
          "name": "stderr",
          "output_type": "stream",
          "text": [
            "\r 10%|▉         | 47/489 [03:09<31:28,  4.27s/it]"
          ]
        },
        {
          "name": "stdout",
          "output_type": "stream",
          "text": [
            "Crawl data 120295859 success !!!\n"
          ]
        },
        {
          "name": "stderr",
          "output_type": "stream",
          "text": [
            "\r 10%|▉         | 48/489 [03:13<31:47,  4.32s/it]"
          ]
        },
        {
          "name": "stdout",
          "output_type": "stream",
          "text": [
            "Crawl data 197214029 success !!!\n"
          ]
        },
        {
          "name": "stderr",
          "output_type": "stream",
          "text": [
            "\r 10%|█         | 49/489 [03:17<29:49,  4.07s/it]"
          ]
        },
        {
          "name": "stdout",
          "output_type": "stream",
          "text": [
            "Crawl data 275042829 success !!!\n"
          ]
        },
        {
          "name": "stderr",
          "output_type": "stream",
          "text": [
            "\r 10%|█         | 50/489 [03:20<28:28,  3.89s/it]"
          ]
        },
        {
          "name": "stdout",
          "output_type": "stream",
          "text": [
            "Crawl data 275093800 success !!!\n"
          ]
        },
        {
          "name": "stderr",
          "output_type": "stream",
          "text": [
            "\r 10%|█         | 51/489 [03:24<27:32,  3.77s/it]"
          ]
        },
        {
          "name": "stdout",
          "output_type": "stream",
          "text": [
            "Crawl data 273947792 success !!!\n"
          ]
        },
        {
          "name": "stderr",
          "output_type": "stream",
          "text": [
            "\r 11%|█         | 52/489 [03:27<26:42,  3.67s/it]"
          ]
        },
        {
          "name": "stdout",
          "output_type": "stream",
          "text": [
            "Crawl data 274069052 success !!!\n"
          ]
        },
        {
          "name": "stderr",
          "output_type": "stream",
          "text": [
            "\r 11%|█         | 53/489 [03:31<28:22,  3.90s/it]"
          ]
        },
        {
          "name": "stdout",
          "output_type": "stream",
          "text": [
            "Crawl data 275254316 success !!!\n"
          ]
        },
        {
          "name": "stderr",
          "output_type": "stream",
          "text": [
            "\r 11%|█         | 54/489 [03:35<27:32,  3.80s/it]"
          ]
        },
        {
          "name": "stdout",
          "output_type": "stream",
          "text": [
            "Crawl data 275786395 success !!!\n"
          ]
        },
        {
          "name": "stderr",
          "output_type": "stream",
          "text": [
            "\r 11%|█         | 55/489 [03:38<26:39,  3.69s/it]"
          ]
        },
        {
          "name": "stdout",
          "output_type": "stream",
          "text": [
            "Crawl data 273951550 success !!!\n"
          ]
        },
        {
          "name": "stderr",
          "output_type": "stream",
          "text": [
            "\r 11%|█▏        | 56/489 [03:43<28:15,  3.92s/it]"
          ]
        },
        {
          "name": "stdout",
          "output_type": "stream",
          "text": [
            "Crawl data 273258830 success !!!\n"
          ]
        },
        {
          "name": "stderr",
          "output_type": "stream",
          "text": [
            "\r 12%|█▏        | 57/489 [03:46<27:07,  3.77s/it]"
          ]
        },
        {
          "name": "stdout",
          "output_type": "stream",
          "text": [
            "Crawl data 275571989 success !!!\n"
          ]
        },
        {
          "name": "stderr",
          "output_type": "stream",
          "text": [
            "\r 12%|█▏        | 58/489 [03:51<28:29,  3.97s/it]"
          ]
        },
        {
          "name": "stdout",
          "output_type": "stream",
          "text": [
            "Crawl data 275572013 success !!!\n"
          ]
        },
        {
          "name": "stderr",
          "output_type": "stream",
          "text": [
            "\r 12%|█▏        | 59/489 [03:54<27:13,  3.80s/it]"
          ]
        },
        {
          "name": "stdout",
          "output_type": "stream",
          "text": [
            "Crawl data 275571988 success !!!\n"
          ]
        },
        {
          "name": "stderr",
          "output_type": "stream",
          "text": [
            "\r 12%|█▏        | 60/489 [03:59<28:29,  3.98s/it]"
          ]
        },
        {
          "name": "stdout",
          "output_type": "stream",
          "text": [
            "Crawl data 271967379 success !!!\n"
          ]
        },
        {
          "name": "stderr",
          "output_type": "stream",
          "text": [
            "\r 12%|█▏        | 61/489 [04:03<29:31,  4.14s/it]"
          ]
        },
        {
          "name": "stdout",
          "output_type": "stream",
          "text": [
            "Crawl data 275618846 success !!!\n"
          ]
        },
        {
          "name": "stderr",
          "output_type": "stream",
          "text": [
            "\r 13%|█▎        | 62/489 [04:07<30:04,  4.23s/it]"
          ]
        },
        {
          "name": "stdout",
          "output_type": "stream",
          "text": [
            "Crawl data 275093810 success !!!\n"
          ]
        },
        {
          "name": "stderr",
          "output_type": "stream",
          "text": [
            "\r 13%|█▎        | 63/489 [04:12<30:32,  4.30s/it]"
          ]
        },
        {
          "name": "stdout",
          "output_type": "stream",
          "text": [
            "Crawl data 275349801 success !!!\n"
          ]
        },
        {
          "name": "stderr",
          "output_type": "stream",
          "text": [
            "\r 13%|█▎        | 64/489 [04:15<28:38,  4.04s/it]"
          ]
        },
        {
          "name": "stdout",
          "output_type": "stream",
          "text": [
            "Crawl data 272151221 success !!!\n"
          ]
        },
        {
          "name": "stderr",
          "output_type": "stream",
          "text": [
            "\r 13%|█▎        | 65/489 [04:20<29:17,  4.15s/it]"
          ]
        },
        {
          "name": "stdout",
          "output_type": "stream",
          "text": [
            "Crawl data 275571990 success !!!\n"
          ]
        },
        {
          "name": "stderr",
          "output_type": "stream",
          "text": [
            "\r 13%|█▎        | 66/489 [04:24<29:46,  4.22s/it]"
          ]
        },
        {
          "name": "stdout",
          "output_type": "stream",
          "text": [
            "Crawl data 273947792 success !!!\n"
          ]
        },
        {
          "name": "stderr",
          "output_type": "stream",
          "text": [
            "\r 14%|█▎        | 67/489 [04:28<28:04,  3.99s/it]"
          ]
        },
        {
          "name": "stdout",
          "output_type": "stream",
          "text": [
            "Crawl data 125182567 success !!!\n"
          ]
        },
        {
          "name": "stderr",
          "output_type": "stream",
          "text": [
            "\r 14%|█▍        | 68/489 [04:31<26:50,  3.83s/it]"
          ]
        },
        {
          "name": "stdout",
          "output_type": "stream",
          "text": [
            "Crawl data 217706932 success !!!\n"
          ]
        },
        {
          "name": "stderr",
          "output_type": "stream",
          "text": [
            "\r 14%|█▍        | 69/489 [04:36<28:09,  4.02s/it]"
          ]
        },
        {
          "name": "stdout",
          "output_type": "stream",
          "text": [
            "Crawl data 217645692 success !!!\n"
          ]
        },
        {
          "name": "stderr",
          "output_type": "stream",
          "text": [
            "\r 14%|█▍        | 70/489 [04:39<26:53,  3.85s/it]"
          ]
        },
        {
          "name": "stdout",
          "output_type": "stream",
          "text": [
            "Crawl data 274721231 success !!!\n"
          ]
        },
        {
          "name": "stderr",
          "output_type": "stream",
          "text": [
            "\r 15%|█▍        | 71/489 [04:43<26:08,  3.75s/it]"
          ]
        },
        {
          "name": "stdout",
          "output_type": "stream",
          "text": [
            "Crawl data 274959691 success !!!\n"
          ]
        },
        {
          "name": "stderr",
          "output_type": "stream",
          "text": [
            "\r 15%|█▍        | 72/489 [04:46<25:25,  3.66s/it]"
          ]
        },
        {
          "name": "stdout",
          "output_type": "stream",
          "text": [
            "Crawl data 274544634 success !!!\n"
          ]
        },
        {
          "name": "stderr",
          "output_type": "stream",
          "text": [
            "\r 15%|█▍        | 73/489 [04:50<26:59,  3.89s/it]"
          ]
        },
        {
          "name": "stdout",
          "output_type": "stream",
          "text": [
            "Crawl data 275237083 success !!!\n"
          ]
        },
        {
          "name": "stderr",
          "output_type": "stream",
          "text": [
            "\r 15%|█▌        | 74/489 [04:54<26:00,  3.76s/it]"
          ]
        },
        {
          "name": "stdout",
          "output_type": "stream",
          "text": [
            "Crawl data 274507025 success !!!\n"
          ]
        },
        {
          "name": "stderr",
          "output_type": "stream",
          "text": [
            "\r 15%|█▌        | 75/489 [04:58<27:18,  3.96s/it]"
          ]
        },
        {
          "name": "stdout",
          "output_type": "stream",
          "text": [
            "Crawl data 271362153 success !!!\n"
          ]
        },
        {
          "name": "stderr",
          "output_type": "stream",
          "text": [
            "\r 16%|█▌        | 76/489 [05:02<26:13,  3.81s/it]"
          ]
        },
        {
          "name": "stdout",
          "output_type": "stream",
          "text": [
            "Crawl data 173387789 success !!!\n"
          ]
        },
        {
          "name": "stderr",
          "output_type": "stream",
          "text": [
            "\r 16%|█▌        | 77/489 [05:05<25:25,  3.70s/it]"
          ]
        },
        {
          "name": "stdout",
          "output_type": "stream",
          "text": [
            "Crawl data 217640502 success !!!\n"
          ]
        },
        {
          "name": "stderr",
          "output_type": "stream",
          "text": [
            "\r 16%|█▌        | 78/489 [05:09<24:46,  3.62s/it]"
          ]
        },
        {
          "name": "stdout",
          "output_type": "stream",
          "text": [
            "Crawl data 273559306 success !!!\n"
          ]
        },
        {
          "name": "stderr",
          "output_type": "stream",
          "text": [
            "\r 16%|█▌        | 79/489 [05:13<26:15,  3.84s/it]"
          ]
        },
        {
          "name": "stdout",
          "output_type": "stream",
          "text": [
            "Crawl data 273559020 success !!!\n"
          ]
        },
        {
          "name": "stderr",
          "output_type": "stream",
          "text": [
            "\r 16%|█▋        | 80/489 [05:17<27:25,  4.02s/it]"
          ]
        },
        {
          "name": "stdout",
          "output_type": "stream",
          "text": [
            "Crawl data 273610368 success !!!\n"
          ]
        },
        {
          "name": "stderr",
          "output_type": "stream",
          "text": [
            "\r 17%|█▋        | 81/489 [05:21<26:09,  3.85s/it]"
          ]
        },
        {
          "name": "stdout",
          "output_type": "stream",
          "text": [
            "Crawl data 274721226 success !!!\n"
          ]
        },
        {
          "name": "stderr",
          "output_type": "stream",
          "text": [
            "\r 17%|█▋        | 82/489 [05:25<27:24,  4.04s/it]"
          ]
        },
        {
          "name": "stdout",
          "output_type": "stream",
          "text": [
            "Crawl data 274945338 success !!!\n"
          ]
        },
        {
          "name": "stderr",
          "output_type": "stream",
          "text": [
            "\r 17%|█▋        | 83/489 [05:30<28:18,  4.18s/it]"
          ]
        },
        {
          "name": "stdout",
          "output_type": "stream",
          "text": [
            "Crawl data 274959118 success !!!\n"
          ]
        },
        {
          "name": "stderr",
          "output_type": "stream",
          "text": [
            "\r 17%|█▋        | 84/489 [05:33<26:45,  3.96s/it]"
          ]
        },
        {
          "name": "stdout",
          "output_type": "stream",
          "text": [
            "Crawl data 226552005 success !!!\n"
          ]
        },
        {
          "name": "stderr",
          "output_type": "stream",
          "text": [
            "\r 17%|█▋        | 85/489 [05:37<25:28,  3.78s/it]"
          ]
        },
        {
          "name": "stdout",
          "output_type": "stream",
          "text": [
            "Crawl data 274638659 success !!!\n"
          ]
        },
        {
          "name": "stderr",
          "output_type": "stream",
          "text": [
            "\r 18%|█▊        | 86/489 [05:41<26:45,  3.98s/it]"
          ]
        },
        {
          "name": "stdout",
          "output_type": "stream",
          "text": [
            "Crawl data 275018185 success !!!\n"
          ]
        },
        {
          "name": "stderr",
          "output_type": "stream",
          "text": [
            "\r 18%|█▊        | 87/489 [05:46<27:40,  4.13s/it]"
          ]
        },
        {
          "name": "stdout",
          "output_type": "stream",
          "text": [
            "Crawl data 140184098 success !!!\n"
          ]
        },
        {
          "name": "stderr",
          "output_type": "stream",
          "text": [
            "\r 18%|█▊        | 88/489 [05:50<28:05,  4.20s/it]"
          ]
        },
        {
          "name": "stdout",
          "output_type": "stream",
          "text": [
            "Crawl data 275177234 success !!!\n"
          ]
        },
        {
          "name": "stderr",
          "output_type": "stream",
          "text": [
            "\r 18%|█▊        | 89/489 [05:54<28:32,  4.28s/it]"
          ]
        },
        {
          "name": "stdout",
          "output_type": "stream",
          "text": [
            "Crawl data 275496965 success !!!\n"
          ]
        },
        {
          "name": "stderr",
          "output_type": "stream",
          "text": [
            "\r 18%|█▊        | 90/489 [05:59<28:40,  4.31s/it]"
          ]
        },
        {
          "name": "stdout",
          "output_type": "stream",
          "text": [
            "Crawl data 272222033 success !!!\n"
          ]
        },
        {
          "name": "stderr",
          "output_type": "stream",
          "text": [
            "\r 19%|█▊        | 91/489 [06:03<28:50,  4.35s/it]"
          ]
        },
        {
          "name": "stdout",
          "output_type": "stream",
          "text": [
            "Crawl data 275206906 success !!!\n"
          ]
        },
        {
          "name": "stderr",
          "output_type": "stream",
          "text": [
            "\r 19%|█▉        | 92/489 [06:08<29:54,  4.52s/it]"
          ]
        },
        {
          "name": "stdout",
          "output_type": "stream",
          "text": [
            "Crawl data 163914808 success !!!\n"
          ]
        },
        {
          "name": "stderr",
          "output_type": "stream",
          "text": [
            "\r 19%|█▉        | 93/489 [06:13<29:35,  4.48s/it]"
          ]
        },
        {
          "name": "stdout",
          "output_type": "stream",
          "text": [
            "Crawl data 181928208 success !!!\n"
          ]
        },
        {
          "name": "stderr",
          "output_type": "stream",
          "text": [
            "\r 19%|█▉        | 94/489 [06:16<27:15,  4.14s/it]"
          ]
        },
        {
          "name": "stdout",
          "output_type": "stream",
          "text": [
            "Crawl data 275583785 success !!!\n"
          ]
        },
        {
          "name": "stderr",
          "output_type": "stream",
          "text": [
            "\r 19%|█▉        | 95/489 [06:21<28:26,  4.33s/it]"
          ]
        },
        {
          "name": "stdout",
          "output_type": "stream",
          "text": [
            "Crawl data 230157205 success !!!\n"
          ]
        },
        {
          "name": "stderr",
          "output_type": "stream",
          "text": [
            "\r 20%|█▉        | 96/489 [06:24<26:36,  4.06s/it]"
          ]
        },
        {
          "name": "stdout",
          "output_type": "stream",
          "text": [
            "Crawl data 217706932 success !!!\n"
          ]
        },
        {
          "name": "stderr",
          "output_type": "stream",
          "text": [
            "\r 20%|█▉        | 97/489 [06:28<25:23,  3.89s/it]"
          ]
        },
        {
          "name": "stdout",
          "output_type": "stream",
          "text": [
            "Crawl data 260406257 success !!!\n"
          ]
        },
        {
          "name": "stderr",
          "output_type": "stream",
          "text": [
            "\r 20%|██        | 98/489 [06:32<26:13,  4.02s/it]"
          ]
        },
        {
          "name": "stdout",
          "output_type": "stream",
          "text": [
            "Crawl data 217645692 success !!!\n"
          ]
        },
        {
          "name": "stderr",
          "output_type": "stream",
          "text": [
            "\r 20%|██        | 99/489 [06:36<27:00,  4.16s/it]"
          ]
        },
        {
          "name": "stdout",
          "output_type": "stream",
          "text": [
            "Crawl data 201067649 success !!!\n"
          ]
        },
        {
          "name": "stderr",
          "output_type": "stream",
          "text": [
            "\r 20%|██        | 100/489 [06:40<25:43,  3.97s/it]"
          ]
        },
        {
          "name": "stdout",
          "output_type": "stream",
          "text": [
            "Crawl data 273029857 success !!!\n"
          ]
        },
        {
          "name": "stderr",
          "output_type": "stream",
          "text": [
            "\r 21%|██        | 101/489 [06:43<24:37,  3.81s/it]"
          ]
        },
        {
          "name": "stdout",
          "output_type": "stream",
          "text": [
            "Crawl data 200819471 success !!!\n"
          ]
        },
        {
          "name": "stderr",
          "output_type": "stream",
          "text": [
            "\r 21%|██        | 102/489 [06:48<26:09,  4.06s/it]"
          ]
        },
        {
          "name": "stdout",
          "output_type": "stream",
          "text": [
            "Crawl data 275571989 success !!!\n"
          ]
        },
        {
          "name": "stderr",
          "output_type": "stream",
          "text": [
            "\r 21%|██        | 103/489 [06:52<26:49,  4.17s/it]"
          ]
        },
        {
          "name": "stdout",
          "output_type": "stream",
          "text": [
            "Crawl data 273559020 success !!!\n"
          ]
        },
        {
          "name": "stderr",
          "output_type": "stream",
          "text": [
            "\r 21%|██▏       | 104/489 [06:56<25:15,  3.94s/it]"
          ]
        },
        {
          "name": "stdout",
          "output_type": "stream",
          "text": [
            "Crawl data 275206903 success !!!\n"
          ]
        },
        {
          "name": "stderr",
          "output_type": "stream",
          "text": [
            "\r 21%|██▏       | 105/489 [07:01<26:44,  4.18s/it]"
          ]
        },
        {
          "name": "stdout",
          "output_type": "stream",
          "text": [
            "Crawl data 275510579 success !!!\n"
          ]
        },
        {
          "name": "stderr",
          "output_type": "stream",
          "text": [
            "\r 22%|██▏       | 106/489 [07:05<27:05,  4.24s/it]"
          ]
        },
        {
          "name": "stdout",
          "output_type": "stream",
          "text": [
            "Crawl data 139632023 success !!!\n"
          ]
        },
        {
          "name": "stderr",
          "output_type": "stream",
          "text": [
            "\r 22%|██▏       | 107/489 [07:08<25:32,  4.01s/it]"
          ]
        },
        {
          "name": "stdout",
          "output_type": "stream",
          "text": [
            "Crawl data 209872337 success !!!\n"
          ]
        },
        {
          "name": "stderr",
          "output_type": "stream",
          "text": [
            "\r 22%|██▏       | 108/489 [07:13<26:19,  4.15s/it]"
          ]
        },
        {
          "name": "stdout",
          "output_type": "stream",
          "text": [
            "Crawl data 263675862 success !!!\n"
          ]
        },
        {
          "name": "stderr",
          "output_type": "stream",
          "text": [
            "\r 22%|██▏       | 109/489 [07:17<26:50,  4.24s/it]"
          ]
        },
        {
          "name": "stdout",
          "output_type": "stream",
          "text": [
            "Crawl data 270495179 success !!!\n"
          ]
        },
        {
          "name": "stderr",
          "output_type": "stream",
          "text": [
            "\r 22%|██▏       | 110/489 [07:22<27:11,  4.31s/it]"
          ]
        },
        {
          "name": "stdout",
          "output_type": "stream",
          "text": [
            "Crawl data 168526284 success !!!\n"
          ]
        },
        {
          "name": "stderr",
          "output_type": "stream",
          "text": [
            "\r 23%|██▎       | 111/489 [07:26<27:21,  4.34s/it]"
          ]
        },
        {
          "name": "stdout",
          "output_type": "stream",
          "text": [
            "Crawl data 274946446 success !!!\n"
          ]
        },
        {
          "name": "stderr",
          "output_type": "stream",
          "text": [
            "\r 23%|██▎       | 112/489 [07:30<25:37,  4.08s/it]"
          ]
        },
        {
          "name": "stdout",
          "output_type": "stream",
          "text": [
            "Crawl data 270814388 success !!!\n"
          ]
        },
        {
          "name": "stderr",
          "output_type": "stream",
          "text": [
            "\r 23%|██▎       | 113/489 [07:33<24:18,  3.88s/it]"
          ]
        },
        {
          "name": "stdout",
          "output_type": "stream",
          "text": [
            "Crawl data 273897681 success !!!\n"
          ]
        },
        {
          "name": "stderr",
          "output_type": "stream",
          "text": [
            "\r 23%|██▎       | 114/489 [07:37<23:19,  3.73s/it]"
          ]
        },
        {
          "name": "stdout",
          "output_type": "stream",
          "text": [
            "Crawl data 273553649 success !!!\n"
          ]
        },
        {
          "name": "stderr",
          "output_type": "stream",
          "text": [
            "\r 24%|██▎       | 115/489 [07:41<24:38,  3.95s/it]"
          ]
        },
        {
          "name": "stdout",
          "output_type": "stream",
          "text": [
            "Crawl data 164213695 success !!!\n"
          ]
        },
        {
          "name": "stderr",
          "output_type": "stream",
          "text": [
            "\r 24%|██▎       | 116/489 [07:45<25:16,  4.07s/it]"
          ]
        },
        {
          "name": "stdout",
          "output_type": "stream",
          "text": [
            "Crawl data 11415485 success !!!\n"
          ]
        },
        {
          "name": "stderr",
          "output_type": "stream",
          "text": [
            "\r 24%|██▍       | 117/489 [07:50<25:52,  4.17s/it]"
          ]
        },
        {
          "name": "stdout",
          "output_type": "stream",
          "text": [
            "Crawl data 274424330 success !!!\n"
          ]
        },
        {
          "name": "stderr",
          "output_type": "stream",
          "text": [
            "\r 24%|██▍       | 118/489 [07:53<24:23,  3.94s/it]"
          ]
        },
        {
          "name": "stdout",
          "output_type": "stream",
          "text": [
            "Crawl data 204237269 success !!!\n"
          ]
        },
        {
          "name": "stderr",
          "output_type": "stream",
          "text": [
            "\r 24%|██▍       | 119/489 [07:57<23:15,  3.77s/it]"
          ]
        },
        {
          "name": "stdout",
          "output_type": "stream",
          "text": [
            "Crawl data 273454566 success !!!\n"
          ]
        },
        {
          "name": "stderr",
          "output_type": "stream",
          "text": [
            "\r 25%|██▍       | 120/489 [08:01<24:27,  3.98s/it]"
          ]
        },
        {
          "name": "stdout",
          "output_type": "stream",
          "text": [
            "Crawl data 126050455 success !!!\n"
          ]
        },
        {
          "name": "stderr",
          "output_type": "stream",
          "text": [
            "\r 25%|██▍       | 121/489 [08:05<25:11,  4.11s/it]"
          ]
        },
        {
          "name": "stdout",
          "output_type": "stream",
          "text": [
            "Crawl data 263798932 success !!!\n"
          ]
        },
        {
          "name": "stderr",
          "output_type": "stream",
          "text": [
            "\r 25%|██▍       | 122/489 [08:10<25:37,  4.19s/it]"
          ]
        },
        {
          "name": "stdout",
          "output_type": "stream",
          "text": [
            "Crawl data 270260682 success !!!\n"
          ]
        },
        {
          "name": "stderr",
          "output_type": "stream",
          "text": [
            "\r 25%|██▌       | 123/489 [08:14<26:00,  4.26s/it]"
          ]
        },
        {
          "name": "stdout",
          "output_type": "stream",
          "text": [
            "Crawl data 125590981 success !!!\n"
          ]
        },
        {
          "name": "stderr",
          "output_type": "stream",
          "text": [
            "\r 25%|██▌       | 124/489 [08:18<24:21,  4.00s/it]"
          ]
        },
        {
          "name": "stdout",
          "output_type": "stream",
          "text": [
            "Crawl data 274869053 success !!!\n"
          ]
        },
        {
          "name": "stderr",
          "output_type": "stream",
          "text": [
            "\r 26%|██▌       | 125/489 [08:22<24:57,  4.11s/it]"
          ]
        },
        {
          "name": "stdout",
          "output_type": "stream",
          "text": [
            "Crawl data 274948704 success !!!\n"
          ]
        },
        {
          "name": "stderr",
          "output_type": "stream",
          "text": [
            "\r 26%|██▌       | 126/489 [08:26<25:34,  4.23s/it]"
          ]
        },
        {
          "name": "stdout",
          "output_type": "stream",
          "text": [
            "Crawl data 121744434 success !!!\n"
          ]
        },
        {
          "name": "stderr",
          "output_type": "stream",
          "text": [
            "\r 26%|██▌       | 127/489 [08:31<25:50,  4.28s/it]"
          ]
        },
        {
          "name": "stdout",
          "output_type": "stream",
          "text": [
            "Crawl data 274946444 success !!!\n"
          ]
        },
        {
          "name": "stderr",
          "output_type": "stream",
          "text": [
            "\r 26%|██▌       | 128/489 [08:35<26:09,  4.35s/it]"
          ]
        },
        {
          "name": "stdout",
          "output_type": "stream",
          "text": [
            "Crawl data 273718967 success !!!\n"
          ]
        },
        {
          "name": "stderr",
          "output_type": "stream",
          "text": [
            "\r 26%|██▋       | 129/489 [08:40<26:13,  4.37s/it]"
          ]
        },
        {
          "name": "stdout",
          "output_type": "stream",
          "text": [
            "Crawl data 274946440 success !!!\n"
          ]
        },
        {
          "name": "stderr",
          "output_type": "stream",
          "text": [
            "\r 27%|██▋       | 130/489 [08:45<26:43,  4.47s/it]"
          ]
        },
        {
          "name": "stdout",
          "output_type": "stream",
          "text": [
            "Crawl data 214603586 success !!!\n"
          ]
        },
        {
          "name": "stderr",
          "output_type": "stream",
          "text": [
            "\r 27%|██▋       | 131/489 [08:49<26:37,  4.46s/it]"
          ]
        },
        {
          "name": "stdout",
          "output_type": "stream",
          "text": [
            "Crawl data 274638430 success !!!\n"
          ]
        },
        {
          "name": "stderr",
          "output_type": "stream",
          "text": [
            "\r 27%|██▋       | 132/489 [08:53<26:28,  4.45s/it]"
          ]
        },
        {
          "name": "stdout",
          "output_type": "stream",
          "text": [
            "Crawl data 274840015 success !!!\n"
          ]
        },
        {
          "name": "stderr",
          "output_type": "stream",
          "text": [
            "\r 27%|██▋       | 133/489 [08:57<24:38,  4.15s/it]"
          ]
        },
        {
          "name": "stdout",
          "output_type": "stream",
          "text": [
            "Crawl data 273774937 success !!!\n"
          ]
        },
        {
          "name": "stderr",
          "output_type": "stream",
          "text": [
            "\r 27%|██▋       | 134/489 [09:01<24:59,  4.22s/it]"
          ]
        },
        {
          "name": "stdout",
          "output_type": "stream",
          "text": [
            "Crawl data 242434782 success !!!\n"
          ]
        },
        {
          "name": "stderr",
          "output_type": "stream",
          "text": [
            "\r 28%|██▊       | 135/489 [09:05<23:58,  4.06s/it]"
          ]
        },
        {
          "name": "stdout",
          "output_type": "stream",
          "text": [
            "Crawl data 252586291 success !!!\n"
          ]
        },
        {
          "name": "stderr",
          "output_type": "stream",
          "text": [
            "\r 28%|██▊       | 136/489 [09:10<24:50,  4.22s/it]"
          ]
        },
        {
          "name": "stdout",
          "output_type": "stream",
          "text": [
            "Crawl data 173387789 success !!!\n"
          ]
        },
        {
          "name": "stderr",
          "output_type": "stream",
          "text": [
            "\r 28%|██▊       | 137/489 [09:13<23:27,  4.00s/it]"
          ]
        },
        {
          "name": "stdout",
          "output_type": "stream",
          "text": [
            "Crawl data 272394241 success !!!\n"
          ]
        },
        {
          "name": "stderr",
          "output_type": "stream",
          "text": [
            "\r 28%|██▊       | 138/489 [09:17<24:10,  4.13s/it]"
          ]
        },
        {
          "name": "stdout",
          "output_type": "stream",
          "text": [
            "Crawl data 184578632 success !!!\n"
          ]
        },
        {
          "name": "stderr",
          "output_type": "stream",
          "text": [
            "\r 28%|██▊       | 139/489 [09:22<24:37,  4.22s/it]"
          ]
        },
        {
          "name": "stdout",
          "output_type": "stream",
          "text": [
            "Crawl data 274948708 success !!!\n"
          ]
        },
        {
          "name": "stderr",
          "output_type": "stream",
          "text": [
            "\r 29%|██▊       | 140/489 [09:26<25:10,  4.33s/it]"
          ]
        },
        {
          "name": "stdout",
          "output_type": "stream",
          "text": [
            "Crawl data 181928189 success !!!\n"
          ]
        },
        {
          "name": "stderr",
          "output_type": "stream",
          "text": [
            "\r 29%|██▉       | 141/489 [09:30<23:23,  4.03s/it]"
          ]
        },
        {
          "name": "stdout",
          "output_type": "stream",
          "text": [
            "Crawl data 118102328 success !!!\n"
          ]
        },
        {
          "name": "stderr",
          "output_type": "stream",
          "text": [
            "\r 29%|██▉       | 142/489 [09:33<22:07,  3.82s/it]"
          ]
        },
        {
          "name": "stdout",
          "output_type": "stream",
          "text": [
            "Crawl data 273559306 success !!!\n"
          ]
        },
        {
          "name": "stderr",
          "output_type": "stream",
          "text": [
            "\r 29%|██▉       | 143/489 [09:36<21:14,  3.68s/it]"
          ]
        },
        {
          "name": "stdout",
          "output_type": "stream",
          "text": [
            "Crawl data 273958619 success !!!\n"
          ]
        },
        {
          "name": "stderr",
          "output_type": "stream",
          "text": [
            "\r 29%|██▉       | 144/489 [09:41<22:30,  3.91s/it]"
          ]
        },
        {
          "name": "stdout",
          "output_type": "stream",
          "text": [
            "Crawl data 275618841 success !!!\n"
          ]
        },
        {
          "name": "stderr",
          "output_type": "stream",
          "text": [
            "\r 30%|██▉       | 145/489 [09:44<21:26,  3.74s/it]"
          ]
        },
        {
          "name": "stdout",
          "output_type": "stream",
          "text": [
            "Crawl data 274638822 success !!!\n"
          ]
        },
        {
          "name": "stderr",
          "output_type": "stream",
          "text": [
            "\r 30%|██▉       | 146/489 [09:49<22:35,  3.95s/it]"
          ]
        },
        {
          "name": "stdout",
          "output_type": "stream",
          "text": [
            "Crawl data 273990229 success !!!\n"
          ]
        },
        {
          "name": "stderr",
          "output_type": "stream",
          "text": [
            "\r 30%|███       | 147/489 [09:52<21:34,  3.79s/it]"
          ]
        },
        {
          "name": "stdout",
          "output_type": "stream",
          "text": [
            "Crawl data 217640502 success !!!\n"
          ]
        },
        {
          "name": "stderr",
          "output_type": "stream",
          "text": [
            "\r 30%|███       | 148/489 [09:56<21:00,  3.70s/it]"
          ]
        },
        {
          "name": "stdout",
          "output_type": "stream",
          "text": [
            "Crawl data 273412211 success !!!\n"
          ]
        },
        {
          "name": "stderr",
          "output_type": "stream",
          "text": [
            "\r 30%|███       | 149/489 [10:00<22:24,  3.95s/it]"
          ]
        },
        {
          "name": "stdout",
          "output_type": "stream",
          "text": [
            "Crawl data 252428990 success !!!\n"
          ]
        },
        {
          "name": "stderr",
          "output_type": "stream",
          "text": [
            "\r 31%|███       | 150/489 [10:05<23:11,  4.11s/it]"
          ]
        },
        {
          "name": "stdout",
          "output_type": "stream",
          "text": [
            "Crawl data 273175604 success !!!\n"
          ]
        },
        {
          "name": "stderr",
          "output_type": "stream",
          "text": [
            "\r 31%|███       | 151/489 [10:08<21:54,  3.89s/it]"
          ]
        },
        {
          "name": "stdout",
          "output_type": "stream",
          "text": [
            "Crawl data 270707514 success !!!\n"
          ]
        },
        {
          "name": "stderr",
          "output_type": "stream",
          "text": [
            "\r 31%|███       | 152/489 [10:11<20:59,  3.74s/it]"
          ]
        },
        {
          "name": "stdout",
          "output_type": "stream",
          "text": [
            "Crawl data 273258825 success !!!\n"
          ]
        },
        {
          "name": "stderr",
          "output_type": "stream",
          "text": [
            "\r 31%|███▏      | 153/489 [10:16<22:04,  3.94s/it]"
          ]
        },
        {
          "name": "stdout",
          "output_type": "stream",
          "text": [
            "Crawl data 273498357 success !!!\n"
          ]
        },
        {
          "name": "stderr",
          "output_type": "stream",
          "text": [
            "\r 31%|███▏      | 154/489 [10:20<22:51,  4.09s/it]"
          ]
        },
        {
          "name": "stdout",
          "output_type": "stream",
          "text": [
            "Crawl data 230203067 success !!!\n"
          ]
        },
        {
          "name": "stderr",
          "output_type": "stream",
          "text": [
            "\r 32%|███▏      | 155/489 [10:25<23:21,  4.19s/it]"
          ]
        },
        {
          "name": "stdout",
          "output_type": "stream",
          "text": [
            "Crawl data 275543365 success !!!\n"
          ]
        },
        {
          "name": "stderr",
          "output_type": "stream",
          "text": [
            "\r 32%|███▏      | 156/489 [10:28<22:00,  3.96s/it]"
          ]
        },
        {
          "name": "stdout",
          "output_type": "stream",
          "text": [
            "Crawl data 274542883 success !!!\n"
          ]
        },
        {
          "name": "stderr",
          "output_type": "stream",
          "text": [
            "\r 32%|███▏      | 157/489 [10:33<22:40,  4.10s/it]"
          ]
        },
        {
          "name": "stdout",
          "output_type": "stream",
          "text": [
            "Crawl data 170165701 success !!!\n"
          ]
        },
        {
          "name": "stderr",
          "output_type": "stream",
          "text": [
            "\r 32%|███▏      | 158/489 [10:37<23:04,  4.18s/it]"
          ]
        },
        {
          "name": "stdout",
          "output_type": "stream",
          "text": [
            "Crawl data 274415640 success !!!\n"
          ]
        },
        {
          "name": "stderr",
          "output_type": "stream",
          "text": [
            "\r 33%|███▎      | 159/489 [10:40<21:42,  3.95s/it]"
          ]
        },
        {
          "name": "stdout",
          "output_type": "stream",
          "text": [
            "Crawl data 274866839 success !!!\n"
          ]
        },
        {
          "name": "stderr",
          "output_type": "stream",
          "text": [
            "\r 33%|███▎      | 160/489 [10:44<20:45,  3.79s/it]"
          ]
        },
        {
          "name": "stdout",
          "output_type": "stream",
          "text": [
            "Crawl data 275295008 success !!!\n"
          ]
        },
        {
          "name": "stderr",
          "output_type": "stream",
          "text": [
            "\r 33%|███▎      | 161/489 [10:47<20:00,  3.66s/it]"
          ]
        },
        {
          "name": "stdout",
          "output_type": "stream",
          "text": [
            "Crawl data 274959114 success !!!\n"
          ]
        },
        {
          "name": "stderr",
          "output_type": "stream",
          "text": [
            "\r 33%|███▎      | 162/489 [10:50<19:31,  3.58s/it]"
          ]
        },
        {
          "name": "stdout",
          "output_type": "stream",
          "text": [
            "Crawl data 263073555 success !!!\n"
          ]
        },
        {
          "name": "stderr",
          "output_type": "stream",
          "text": [
            "\r 33%|███▎      | 163/489 [10:54<19:11,  3.53s/it]"
          ]
        },
        {
          "name": "stdout",
          "output_type": "stream",
          "text": [
            "Crawl data 272392928 success !!!\n"
          ]
        },
        {
          "name": "stderr",
          "output_type": "stream",
          "text": [
            "\r 34%|███▎      | 164/489 [10:58<20:42,  3.82s/it]"
          ]
        },
        {
          "name": "stdout",
          "output_type": "stream",
          "text": [
            "Crawl data 272328188 success !!!\n"
          ]
        },
        {
          "name": "stderr",
          "output_type": "stream",
          "text": [
            "\r 34%|███▎      | 165/489 [11:03<21:49,  4.04s/it]"
          ]
        },
        {
          "name": "stdout",
          "output_type": "stream",
          "text": [
            "Crawl data 275042833 success !!!\n"
          ]
        },
        {
          "name": "stderr",
          "output_type": "stream",
          "text": [
            "\r 34%|███▍      | 166/489 [11:07<22:27,  4.17s/it]"
          ]
        },
        {
          "name": "stdout",
          "output_type": "stream",
          "text": [
            "Crawl data 143359355 success !!!\n"
          ]
        },
        {
          "name": "stderr",
          "output_type": "stream",
          "text": [
            "\r 34%|███▍      | 167/489 [11:11<21:09,  3.94s/it]"
          ]
        },
        {
          "name": "stdout",
          "output_type": "stream",
          "text": [
            "Crawl data 217505430 success !!!\n"
          ]
        },
        {
          "name": "stderr",
          "output_type": "stream",
          "text": [
            "\r 34%|███▍      | 168/489 [11:14<20:15,  3.79s/it]"
          ]
        },
        {
          "name": "stdout",
          "output_type": "stream",
          "text": [
            "Crawl data 270794184 success !!!\n"
          ]
        },
        {
          "name": "stderr",
          "output_type": "stream",
          "text": [
            "\r 35%|███▍      | 169/489 [11:19<21:17,  3.99s/it]"
          ]
        },
        {
          "name": "stdout",
          "output_type": "stream",
          "text": [
            "Crawl data 179547641 success !!!\n"
          ]
        },
        {
          "name": "stderr",
          "output_type": "stream",
          "text": [
            "\r 35%|███▍      | 170/489 [11:23<21:47,  4.10s/it]"
          ]
        },
        {
          "name": "stdout",
          "output_type": "stream",
          "text": [
            "Crawl data 209927605 success !!!\n"
          ]
        },
        {
          "name": "stderr",
          "output_type": "stream",
          "text": [
            "\r 35%|███▍      | 171/489 [11:28<22:19,  4.21s/it]"
          ]
        },
        {
          "name": "stdout",
          "output_type": "stream",
          "text": [
            "Crawl data 271467653 success !!!\n"
          ]
        },
        {
          "name": "stderr",
          "output_type": "stream",
          "text": [
            "\r 35%|███▌      | 172/489 [11:32<22:38,  4.28s/it]"
          ]
        },
        {
          "name": "stdout",
          "output_type": "stream",
          "text": [
            "Crawl data 170165658 success !!!\n"
          ]
        },
        {
          "name": "stderr",
          "output_type": "stream",
          "text": [
            "\r 35%|███▌      | 173/489 [11:35<21:10,  4.02s/it]"
          ]
        },
        {
          "name": "stdout",
          "output_type": "stream",
          "text": [
            "Crawl data 84757299 success !!!\n"
          ]
        },
        {
          "name": "stderr",
          "output_type": "stream",
          "text": [
            "\r 36%|███▌      | 174/489 [11:39<20:03,  3.82s/it]"
          ]
        },
        {
          "name": "stdout",
          "output_type": "stream",
          "text": [
            "Crawl data 271798615 success !!!\n"
          ]
        },
        {
          "name": "stderr",
          "output_type": "stream",
          "text": [
            "\r 36%|███▌      | 175/489 [11:43<20:48,  3.97s/it]"
          ]
        },
        {
          "name": "stdout",
          "output_type": "stream",
          "text": [
            "Crawl data 11251735 success !!!\n"
          ]
        },
        {
          "name": "stderr",
          "output_type": "stream",
          "text": [
            "\r 36%|███▌      | 176/489 [11:47<21:20,  4.09s/it]"
          ]
        },
        {
          "name": "stdout",
          "output_type": "stream",
          "text": [
            "Crawl data 16521748 success !!!\n"
          ]
        },
        {
          "name": "stderr",
          "output_type": "stream",
          "text": [
            "\r 36%|███▌      | 177/489 [11:51<20:05,  3.86s/it]"
          ]
        },
        {
          "name": "stdout",
          "output_type": "stream",
          "text": [
            "Crawl data 4048581 success !!!\n"
          ]
        },
        {
          "name": "stderr",
          "output_type": "stream",
          "text": [
            "\r 36%|███▋      | 178/489 [11:54<19:17,  3.72s/it]"
          ]
        },
        {
          "name": "stdout",
          "output_type": "stream",
          "text": [
            "Crawl data 11376644 success !!!\n"
          ]
        },
        {
          "name": "stderr",
          "output_type": "stream",
          "text": [
            "\r 37%|███▋      | 179/489 [11:59<20:15,  3.92s/it]"
          ]
        },
        {
          "name": "stdout",
          "output_type": "stream",
          "text": [
            "Crawl data 274617822 success !!!\n"
          ]
        },
        {
          "name": "stderr",
          "output_type": "stream",
          "text": [
            "\r 37%|███▋      | 180/489 [12:02<19:32,  3.79s/it]"
          ]
        },
        {
          "name": "stdout",
          "output_type": "stream",
          "text": [
            "Crawl data 275572013 success !!!\n"
          ]
        },
        {
          "name": "stderr",
          "output_type": "stream",
          "text": [
            "\r 37%|███▋      | 181/489 [12:06<18:56,  3.69s/it]"
          ]
        },
        {
          "name": "stdout",
          "output_type": "stream",
          "text": [
            "Crawl data 275510581 success !!!\n"
          ]
        },
        {
          "name": "stderr",
          "output_type": "stream",
          "text": [
            "\r 37%|███▋      | 182/489 [12:10<19:59,  3.91s/it]"
          ]
        },
        {
          "name": "stdout",
          "output_type": "stream",
          "text": [
            "Crawl data 274619667 success !!!\n"
          ]
        },
        {
          "name": "stderr",
          "output_type": "stream",
          "text": [
            "\r 37%|███▋      | 183/489 [12:13<19:17,  3.78s/it]"
          ]
        },
        {
          "name": "stdout",
          "output_type": "stream",
          "text": [
            "Crawl data 275175815 success !!!\n"
          ]
        },
        {
          "name": "stderr",
          "output_type": "stream",
          "text": [
            "\r 38%|███▊      | 184/489 [12:18<20:11,  3.97s/it]"
          ]
        },
        {
          "name": "stdout",
          "output_type": "stream",
          "text": [
            "Crawl data 271362153 success !!!\n"
          ]
        },
        {
          "name": "stderr",
          "output_type": "stream",
          "text": [
            "\r 38%|███▊      | 185/489 [12:21<19:22,  3.82s/it]"
          ]
        },
        {
          "name": "stdout",
          "output_type": "stream",
          "text": [
            "Crawl data 274839974 success !!!\n"
          ]
        },
        {
          "name": "stderr",
          "output_type": "stream",
          "text": [
            "\r 38%|███▊      | 186/489 [12:26<20:13,  4.00s/it]"
          ]
        },
        {
          "name": "stdout",
          "output_type": "stream",
          "text": [
            "Crawl data 274625676 success !!!\n"
          ]
        },
        {
          "name": "stderr",
          "output_type": "stream",
          "text": [
            "\r 38%|███▊      | 187/489 [12:29<19:25,  3.86s/it]"
          ]
        },
        {
          "name": "stdout",
          "output_type": "stream",
          "text": [
            "Crawl data 274568845 success !!!\n"
          ]
        },
        {
          "name": "stderr",
          "output_type": "stream",
          "text": [
            "\r 38%|███▊      | 188/489 [12:33<18:38,  3.72s/it]"
          ]
        },
        {
          "name": "stdout",
          "output_type": "stream",
          "text": [
            "Crawl data 275510578 success !!!\n"
          ]
        },
        {
          "name": "stderr",
          "output_type": "stream",
          "text": [
            "\r 39%|███▊      | 189/489 [12:36<18:03,  3.61s/it]"
          ]
        },
        {
          "name": "stdout",
          "output_type": "stream",
          "text": [
            "Crawl data 274610468 success !!!\n"
          ]
        },
        {
          "name": "stderr",
          "output_type": "stream",
          "text": [
            "\r 39%|███▉      | 190/489 [12:39<17:47,  3.57s/it]"
          ]
        },
        {
          "name": "stdout",
          "output_type": "stream",
          "text": [
            "Crawl data 274559076 success !!!\n"
          ]
        },
        {
          "name": "stderr",
          "output_type": "stream",
          "text": [
            "\r 39%|███▉      | 191/489 [12:43<17:31,  3.53s/it]"
          ]
        },
        {
          "name": "stdout",
          "output_type": "stream",
          "text": [
            "Crawl data 275778981 success !!!\n"
          ]
        },
        {
          "name": "stderr",
          "output_type": "stream",
          "text": [
            "\r 39%|███▉      | 192/489 [12:46<17:16,  3.49s/it]"
          ]
        },
        {
          "name": "stdout",
          "output_type": "stream",
          "text": [
            "Crawl data 275583780 success !!!\n"
          ]
        },
        {
          "name": "stderr",
          "output_type": "stream",
          "text": [
            "\r 39%|███▉      | 193/489 [12:51<18:48,  3.81s/it]"
          ]
        },
        {
          "name": "stdout",
          "output_type": "stream",
          "text": [
            "Crawl data 271128271 success !!!\n"
          ]
        },
        {
          "name": "stderr",
          "output_type": "stream",
          "text": [
            "\r 40%|███▉      | 194/489 [12:54<18:07,  3.69s/it]"
          ]
        },
        {
          "name": "stdout",
          "output_type": "stream",
          "text": [
            "Crawl data 275773755 success !!!\n"
          ]
        },
        {
          "name": "stderr",
          "output_type": "stream",
          "text": [
            "\r 40%|███▉      | 195/489 [12:58<17:42,  3.61s/it]"
          ]
        },
        {
          "name": "stdout",
          "output_type": "stream",
          "text": [
            "Crawl data 274904904 success !!!\n"
          ]
        },
        {
          "name": "stderr",
          "output_type": "stream",
          "text": [
            "\r 40%|████      | 196/489 [13:02<18:51,  3.86s/it]"
          ]
        },
        {
          "name": "stdout",
          "output_type": "stream",
          "text": [
            "Crawl data 275786454 success !!!\n"
          ]
        },
        {
          "name": "stderr",
          "output_type": "stream",
          "text": [
            "\r 40%|████      | 197/489 [13:06<18:05,  3.72s/it]"
          ]
        },
        {
          "name": "stdout",
          "output_type": "stream",
          "text": [
            "Crawl data 271284934 success !!!\n"
          ]
        },
        {
          "name": "stderr",
          "output_type": "stream",
          "text": [
            "\r 40%|████      | 198/489 [13:10<19:09,  3.95s/it]"
          ]
        },
        {
          "name": "stdout",
          "output_type": "stream",
          "text": [
            "Crawl data 274840120 success !!!\n"
          ]
        },
        {
          "name": "stderr",
          "output_type": "stream",
          "text": [
            "\r 41%|████      | 199/489 [13:14<19:45,  4.09s/it]"
          ]
        },
        {
          "name": "stdout",
          "output_type": "stream",
          "text": [
            "Crawl data 275571990 success !!!\n"
          ]
        },
        {
          "name": "stderr",
          "output_type": "stream",
          "text": [
            "\r 41%|████      | 200/489 [13:19<20:07,  4.18s/it]"
          ]
        },
        {
          "name": "stdout",
          "output_type": "stream",
          "text": [
            "Crawl data 274840089 success !!!\n"
          ]
        },
        {
          "name": "stderr",
          "output_type": "stream",
          "text": [
            "\r 41%|████      | 201/489 [13:23<20:24,  4.25s/it]"
          ]
        },
        {
          "name": "stdout",
          "output_type": "stream",
          "text": [
            "Crawl data 258373871 success !!!\n"
          ]
        },
        {
          "name": "stderr",
          "output_type": "stream",
          "text": [
            "\r 41%|████▏     | 202/489 [13:27<19:08,  4.00s/it]"
          ]
        },
        {
          "name": "stdout",
          "output_type": "stream",
          "text": [
            "Crawl data 271451188 success !!!\n"
          ]
        },
        {
          "name": "stderr",
          "output_type": "stream",
          "text": [
            "\r 42%|████▏     | 203/489 [13:30<18:13,  3.82s/it]"
          ]
        },
        {
          "name": "stdout",
          "output_type": "stream",
          "text": [
            "Crawl data 250113073 success !!!\n"
          ]
        },
        {
          "name": "stderr",
          "output_type": "stream",
          "text": [
            "\r 42%|████▏     | 204/489 [13:34<17:36,  3.71s/it]"
          ]
        },
        {
          "name": "stdout",
          "output_type": "stream",
          "text": [
            "Crawl data 274164375 success !!!\n"
          ]
        },
        {
          "name": "stderr",
          "output_type": "stream",
          "text": [
            "\r 42%|████▏     | 205/489 [13:38<18:33,  3.92s/it]"
          ]
        },
        {
          "name": "stdout",
          "output_type": "stream",
          "text": [
            "Crawl data 274440344 success !!!\n"
          ]
        },
        {
          "name": "stderr",
          "output_type": "stream",
          "text": [
            "\r 42%|████▏     | 206/489 [13:41<17:46,  3.77s/it]"
          ]
        },
        {
          "name": "stdout",
          "output_type": "stream",
          "text": [
            "Crawl data 274610380 success !!!\n"
          ]
        },
        {
          "name": "stderr",
          "output_type": "stream",
          "text": [
            "\r 42%|████▏     | 207/489 [13:45<17:12,  3.66s/it]"
          ]
        },
        {
          "name": "stdout",
          "output_type": "stream",
          "text": [
            "Crawl data 270512785 success !!!\n"
          ]
        },
        {
          "name": "stderr",
          "output_type": "stream",
          "text": [
            "\r 43%|████▎     | 208/489 [13:49<18:12,  3.89s/it]"
          ]
        },
        {
          "name": "stdout",
          "output_type": "stream",
          "text": [
            "Crawl data 208171115 success !!!\n"
          ]
        },
        {
          "name": "stderr",
          "output_type": "stream",
          "text": [
            "\r 43%|████▎     | 209/489 [13:52<17:22,  3.72s/it]"
          ]
        },
        {
          "name": "stdout",
          "output_type": "stream",
          "text": [
            "Crawl data 249890677 success !!!\n"
          ]
        },
        {
          "name": "stderr",
          "output_type": "stream",
          "text": [
            "\r 43%|████▎     | 210/489 [13:56<16:57,  3.65s/it]"
          ]
        },
        {
          "name": "stdout",
          "output_type": "stream",
          "text": [
            "Crawl data 275761381 success !!!\n"
          ]
        },
        {
          "name": "stderr",
          "output_type": "stream",
          "text": [
            "\r 43%|████▎     | 211/489 [14:00<17:59,  3.88s/it]"
          ]
        },
        {
          "name": "stdout",
          "output_type": "stream",
          "text": [
            "Crawl data 274958868 success !!!\n"
          ]
        },
        {
          "name": "stderr",
          "output_type": "stream",
          "text": [
            "\r 43%|████▎     | 212/489 [14:05<18:39,  4.04s/it]"
          ]
        },
        {
          "name": "stdout",
          "output_type": "stream",
          "text": [
            "Crawl data 207883258 success !!!\n"
          ]
        },
        {
          "name": "stderr",
          "output_type": "stream",
          "text": [
            "\r 44%|████▎     | 213/489 [14:08<17:36,  3.83s/it]"
          ]
        },
        {
          "name": "stdout",
          "output_type": "stream",
          "text": [
            "Crawl data 275774865 success !!!\n"
          ]
        },
        {
          "name": "stderr",
          "output_type": "stream",
          "text": [
            "\r 44%|████▍     | 214/489 [14:13<18:17,  3.99s/it]"
          ]
        },
        {
          "name": "stdout",
          "output_type": "stream",
          "text": [
            "Crawl data 273897523 success !!!\n"
          ]
        },
        {
          "name": "stderr",
          "output_type": "stream",
          "text": [
            "\r 44%|████▍     | 215/489 [14:16<17:24,  3.81s/it]"
          ]
        },
        {
          "name": "stdout",
          "output_type": "stream",
          "text": [
            "Crawl data 246163082 success !!!\n"
          ]
        },
        {
          "name": "stderr",
          "output_type": "stream",
          "text": [
            "\r 44%|████▍     | 216/489 [14:19<16:45,  3.68s/it]"
          ]
        },
        {
          "name": "stdout",
          "output_type": "stream",
          "text": [
            "Crawl data 273366296 success !!!\n"
          ]
        },
        {
          "name": "stderr",
          "output_type": "stream",
          "text": [
            "\r 44%|████▍     | 217/489 [14:23<16:14,  3.58s/it]"
          ]
        },
        {
          "name": "stdout",
          "output_type": "stream",
          "text": [
            "Crawl data 275543373 success !!!\n"
          ]
        },
        {
          "name": "stderr",
          "output_type": "stream",
          "text": [
            "\r 45%|████▍     | 218/489 [14:27<17:17,  3.83s/it]"
          ]
        },
        {
          "name": "stdout",
          "output_type": "stream",
          "text": [
            "Crawl data 270791102 success !!!\n"
          ]
        },
        {
          "name": "stderr",
          "output_type": "stream",
          "text": [
            "\r 45%|████▍     | 219/489 [14:30<16:35,  3.69s/it]"
          ]
        },
        {
          "name": "stdout",
          "output_type": "stream",
          "text": [
            "Crawl data 274456687 success !!!\n"
          ]
        },
        {
          "name": "stderr",
          "output_type": "stream",
          "text": [
            "\r 45%|████▍     | 220/489 [14:35<17:31,  3.91s/it]"
          ]
        },
        {
          "name": "stdout",
          "output_type": "stream",
          "text": [
            "Crawl data 274611998 success !!!\n"
          ]
        },
        {
          "name": "stderr",
          "output_type": "stream",
          "text": [
            "\r 45%|████▌     | 221/489 [14:39<18:10,  4.07s/it]"
          ]
        },
        {
          "name": "stdout",
          "output_type": "stream",
          "text": [
            "Crawl data 274840632 success !!!\n"
          ]
        },
        {
          "name": "stderr",
          "output_type": "stream",
          "text": [
            "\r 45%|████▌     | 222/489 [14:44<18:36,  4.18s/it]"
          ]
        },
        {
          "name": "stdout",
          "output_type": "stream",
          "text": [
            "Crawl data 275786792 success !!!\n"
          ]
        },
        {
          "name": "stderr",
          "output_type": "stream",
          "text": [
            "\r 46%|████▌     | 223/489 [14:47<17:30,  3.95s/it]"
          ]
        },
        {
          "name": "stdout",
          "output_type": "stream",
          "text": [
            "Crawl data 275486710 success !!!\n"
          ]
        },
        {
          "name": "stderr",
          "output_type": "stream",
          "text": [
            "\r 46%|████▌     | 224/489 [14:51<16:44,  3.79s/it]"
          ]
        },
        {
          "name": "stdout",
          "output_type": "stream",
          "text": [
            "Crawl data 274625697 success !!!\n"
          ]
        },
        {
          "name": "stderr",
          "output_type": "stream",
          "text": [
            "\r 46%|████▌     | 225/489 [14:54<16:14,  3.69s/it]"
          ]
        },
        {
          "name": "stdout",
          "output_type": "stream",
          "text": [
            "Crawl data 275093801 success !!!\n"
          ]
        },
        {
          "name": "stderr",
          "output_type": "stream",
          "text": [
            "\r 46%|████▌     | 226/489 [14:58<17:11,  3.92s/it]"
          ]
        },
        {
          "name": "stdout",
          "output_type": "stream",
          "text": [
            "Crawl data 274456447 success !!!\n"
          ]
        },
        {
          "name": "stderr",
          "output_type": "stream",
          "text": [
            "\r 46%|████▋     | 227/489 [15:02<16:28,  3.77s/it]"
          ]
        },
        {
          "name": "stdout",
          "output_type": "stream",
          "text": [
            "Crawl data 263041214 success !!!\n"
          ]
        },
        {
          "name": "stderr",
          "output_type": "stream",
          "text": [
            "\r 47%|████▋     | 228/489 [15:06<17:14,  3.97s/it]"
          ]
        },
        {
          "name": "stdout",
          "output_type": "stream",
          "text": [
            "Crawl data 270164674 success !!!\n"
          ]
        },
        {
          "name": "stderr",
          "output_type": "stream",
          "text": [
            "\r 47%|████▋     | 229/489 [15:11<17:46,  4.10s/it]"
          ]
        },
        {
          "name": "stdout",
          "output_type": "stream",
          "text": [
            "Crawl data 273440662 success !!!\n"
          ]
        },
        {
          "name": "stderr",
          "output_type": "stream",
          "text": [
            "\r 47%|████▋     | 230/489 [15:15<18:09,  4.21s/it]"
          ]
        },
        {
          "name": "stdout",
          "output_type": "stream",
          "text": [
            "Crawl data 275774243 success !!!\n"
          ]
        },
        {
          "name": "stderr",
          "output_type": "stream",
          "text": [
            "\r 47%|████▋     | 231/489 [15:20<18:25,  4.28s/it]"
          ]
        },
        {
          "name": "stdout",
          "output_type": "stream",
          "text": [
            "Crawl data 217548686 success !!!\n"
          ]
        },
        {
          "name": "stderr",
          "output_type": "stream",
          "text": [
            "\r 47%|████▋     | 232/489 [15:23<17:18,  4.04s/it]"
          ]
        },
        {
          "name": "stdout",
          "output_type": "stream",
          "text": [
            "Crawl data 275774867 success !!!\n"
          ]
        },
        {
          "name": "stderr",
          "output_type": "stream",
          "text": [
            "\r 48%|████▊     | 233/489 [15:27<16:26,  3.85s/it]"
          ]
        },
        {
          "name": "stdout",
          "output_type": "stream",
          "text": [
            "Crawl data 274762125 success !!!\n"
          ]
        },
        {
          "name": "stderr",
          "output_type": "stream",
          "text": [
            "\r 48%|████▊     | 234/489 [15:31<17:06,  4.02s/it]"
          ]
        },
        {
          "name": "stdout",
          "output_type": "stream",
          "text": [
            "Crawl data 275543388 success !!!\n"
          ]
        },
        {
          "name": "stderr",
          "output_type": "stream",
          "text": [
            "\r 48%|████▊     | 235/489 [15:34<16:15,  3.84s/it]"
          ]
        },
        {
          "name": "stdout",
          "output_type": "stream",
          "text": [
            "Crawl data 257683120 success !!!\n"
          ]
        },
        {
          "name": "stderr",
          "output_type": "stream",
          "text": [
            "\r 48%|████▊     | 236/489 [15:38<15:38,  3.71s/it]"
          ]
        },
        {
          "name": "stdout",
          "output_type": "stream",
          "text": [
            "Crawl data 275504632 success !!!\n"
          ]
        },
        {
          "name": "stderr",
          "output_type": "stream",
          "text": [
            "\r 48%|████▊     | 237/489 [15:41<15:14,  3.63s/it]"
          ]
        },
        {
          "name": "stdout",
          "output_type": "stream",
          "text": [
            "Crawl data 11251770 success !!!\n"
          ]
        },
        {
          "name": "stderr",
          "output_type": "stream",
          "text": [
            "\r 49%|████▊     | 238/489 [15:46<16:07,  3.85s/it]"
          ]
        },
        {
          "name": "stdout",
          "output_type": "stream",
          "text": [
            "Crawl data 272234493 success !!!\n"
          ]
        },
        {
          "name": "stderr",
          "output_type": "stream",
          "text": [
            "\r 49%|████▉     | 239/489 [15:49<15:30,  3.72s/it]"
          ]
        },
        {
          "name": "stdout",
          "output_type": "stream",
          "text": [
            "Crawl data 274172292 success !!!\n"
          ]
        },
        {
          "name": "stderr",
          "output_type": "stream",
          "text": [
            "\r 49%|████▉     | 240/489 [15:52<15:03,  3.63s/it]"
          ]
        },
        {
          "name": "stdout",
          "output_type": "stream",
          "text": [
            "Crawl data 275775792 success !!!\n"
          ]
        },
        {
          "name": "stderr",
          "output_type": "stream",
          "text": [
            "\r 49%|████▉     | 241/489 [15:56<14:39,  3.55s/it]"
          ]
        },
        {
          "name": "stdout",
          "output_type": "stream",
          "text": [
            "Crawl data 275774890 success !!!\n"
          ]
        },
        {
          "name": "stderr",
          "output_type": "stream",
          "text": [
            "\r 49%|████▉     | 242/489 [16:00<15:36,  3.79s/it]"
          ]
        },
        {
          "name": "stdout",
          "output_type": "stream",
          "text": [
            "Crawl data 275254310 success !!!\n"
          ]
        },
        {
          "name": "stderr",
          "output_type": "stream",
          "text": [
            "\r 50%|████▉     | 243/489 [16:05<16:26,  4.01s/it]"
          ]
        },
        {
          "name": "stdout",
          "output_type": "stream",
          "text": [
            "Crawl data 160450655 success !!!\n"
          ]
        },
        {
          "name": "stderr",
          "output_type": "stream",
          "text": [
            "\r 50%|████▉     | 244/489 [16:08<15:36,  3.82s/it]"
          ]
        },
        {
          "name": "stdout",
          "output_type": "stream",
          "text": [
            "Crawl data 275543355 success !!!\n"
          ]
        },
        {
          "name": "stderr",
          "output_type": "stream",
          "text": [
            "\r 50%|█████     | 245/489 [16:11<15:05,  3.71s/it]"
          ]
        },
        {
          "name": "stdout",
          "output_type": "stream",
          "text": [
            "Crawl data 275407523 success !!!\n"
          ]
        },
        {
          "name": "stderr",
          "output_type": "stream",
          "text": [
            "\r 50%|█████     | 246/489 [16:16<15:49,  3.91s/it]"
          ]
        },
        {
          "name": "stdout",
          "output_type": "stream",
          "text": [
            "Crawl data 273897590 success !!!\n"
          ]
        },
        {
          "name": "stderr",
          "output_type": "stream",
          "text": [
            "\r 51%|█████     | 247/489 [16:20<16:21,  4.05s/it]"
          ]
        },
        {
          "name": "stdout",
          "output_type": "stream",
          "text": [
            "Crawl data 270510406 success !!!\n"
          ]
        },
        {
          "name": "stderr",
          "output_type": "stream",
          "text": [
            "\r 51%|█████     | 248/489 [16:25<16:42,  4.16s/it]"
          ]
        },
        {
          "name": "stdout",
          "output_type": "stream",
          "text": [
            "Crawl data 274638556 success !!!\n"
          ]
        },
        {
          "name": "stderr",
          "output_type": "stream",
          "text": [
            "\r 51%|█████     | 249/489 [16:29<16:55,  4.23s/it]"
          ]
        },
        {
          "name": "stdout",
          "output_type": "stream",
          "text": [
            "Crawl data 262908601 success !!!\n"
          ]
        },
        {
          "name": "stderr",
          "output_type": "stream",
          "text": [
            "\r 51%|█████     | 250/489 [16:33<16:58,  4.26s/it]"
          ]
        },
        {
          "name": "stdout",
          "output_type": "stream",
          "text": [
            "Crawl data 203853390 success !!!\n"
          ]
        },
        {
          "name": "stderr",
          "output_type": "stream",
          "text": [
            "\r 51%|█████▏    | 251/489 [16:37<15:52,  4.00s/it]"
          ]
        },
        {
          "name": "stdout",
          "output_type": "stream",
          "text": [
            "Crawl data 275774858 success !!!\n"
          ]
        },
        {
          "name": "stderr",
          "output_type": "stream",
          "text": [
            "\r 52%|█████▏    | 252/489 [16:41<16:18,  4.13s/it]"
          ]
        },
        {
          "name": "stdout",
          "output_type": "stream",
          "text": [
            "Crawl data 181927774 success !!!\n"
          ]
        },
        {
          "name": "stderr",
          "output_type": "stream",
          "text": [
            "\r 52%|█████▏    | 253/489 [16:46<16:33,  4.21s/it]"
          ]
        },
        {
          "name": "stdout",
          "output_type": "stream",
          "text": [
            "Crawl data 192694043 success !!!\n"
          ]
        },
        {
          "name": "stderr",
          "output_type": "stream",
          "text": [
            "\r 52%|█████▏    | 254/489 [16:50<16:41,  4.26s/it]"
          ]
        },
        {
          "name": "stdout",
          "output_type": "stream",
          "text": [
            "Crawl data 274625942 success !!!\n"
          ]
        },
        {
          "name": "stderr",
          "output_type": "stream",
          "text": [
            "\r 52%|█████▏    | 255/489 [16:53<15:37,  4.01s/it]"
          ]
        },
        {
          "name": "stdout",
          "output_type": "stream",
          "text": [
            "Crawl data 272273680 success !!!\n"
          ]
        },
        {
          "name": "stderr",
          "output_type": "stream",
          "text": [
            "\r 52%|█████▏    | 256/489 [16:58<16:05,  4.15s/it]"
          ]
        },
        {
          "name": "stdout",
          "output_type": "stream",
          "text": [
            "Crawl data 273610105 success !!!\n"
          ]
        },
        {
          "name": "stderr",
          "output_type": "stream",
          "text": [
            "\r 53%|█████▎    | 257/489 [17:02<15:37,  4.04s/it]"
          ]
        },
        {
          "name": "stdout",
          "output_type": "stream",
          "text": [
            "Crawl data 274166857 success !!!\n"
          ]
        },
        {
          "name": "stderr",
          "output_type": "stream",
          "text": [
            "\r 53%|█████▎    | 258/489 [17:06<15:59,  4.16s/it]"
          ]
        },
        {
          "name": "stdout",
          "output_type": "stream",
          "text": [
            "Crawl data 176909016 success !!!\n"
          ]
        },
        {
          "name": "stderr",
          "output_type": "stream",
          "text": [
            "\r 53%|█████▎    | 259/489 [17:09<14:59,  3.91s/it]"
          ]
        },
        {
          "name": "stdout",
          "output_type": "stream",
          "text": [
            "Crawl data 248766283 success !!!\n"
          ]
        },
        {
          "name": "stderr",
          "output_type": "stream",
          "text": [
            "\r 53%|█████▎    | 260/489 [17:14<15:26,  4.05s/it]"
          ]
        },
        {
          "name": "stdout",
          "output_type": "stream",
          "text": [
            "Crawl data 275093806 success !!!\n"
          ]
        },
        {
          "name": "stderr",
          "output_type": "stream",
          "text": [
            "\r 53%|█████▎    | 261/489 [17:18<15:54,  4.19s/it]"
          ]
        },
        {
          "name": "stdout",
          "output_type": "stream",
          "text": [
            "Crawl data 274839939 success !!!\n"
          ]
        },
        {
          "name": "stderr",
          "output_type": "stream",
          "text": [
            "\r 54%|█████▎    | 262/489 [17:22<14:57,  3.95s/it]"
          ]
        },
        {
          "name": "stdout",
          "output_type": "stream",
          "text": [
            "Crawl data 252427658 success !!!\n"
          ]
        },
        {
          "name": "stderr",
          "output_type": "stream",
          "text": [
            "\r 54%|█████▍    | 263/489 [17:25<14:19,  3.81s/it]"
          ]
        },
        {
          "name": "stdout",
          "output_type": "stream",
          "text": [
            "Crawl data 274625981 success !!!\n"
          ]
        },
        {
          "name": "stderr",
          "output_type": "stream",
          "text": [
            "\r 54%|█████▍    | 264/489 [17:29<13:48,  3.68s/it]"
          ]
        },
        {
          "name": "stdout",
          "output_type": "stream",
          "text": [
            "Crawl data 275774883 success !!!\n"
          ]
        },
        {
          "name": "stderr",
          "output_type": "stream",
          "text": [
            "\r 54%|█████▍    | 265/489 [17:33<14:34,  3.91s/it]"
          ]
        },
        {
          "name": "stdout",
          "output_type": "stream",
          "text": [
            "Crawl data 271982547 success !!!\n"
          ]
        },
        {
          "name": "stderr",
          "output_type": "stream",
          "text": [
            "\r 54%|█████▍    | 266/489 [17:36<13:52,  3.73s/it]"
          ]
        },
        {
          "name": "stdout",
          "output_type": "stream",
          "text": [
            "Crawl data 181918564 success !!!\n"
          ]
        },
        {
          "name": "stderr",
          "output_type": "stream",
          "text": [
            "\r 55%|█████▍    | 267/489 [17:40<13:23,  3.62s/it]"
          ]
        },
        {
          "name": "stdout",
          "output_type": "stream",
          "text": [
            "Crawl data 273367316 success !!!\n"
          ]
        },
        {
          "name": "stderr",
          "output_type": "stream",
          "text": [
            "\r 55%|█████▍    | 268/489 [17:43<13:05,  3.56s/it]"
          ]
        },
        {
          "name": "stdout",
          "output_type": "stream",
          "text": [
            "Crawl data 274378214 success !!!\n"
          ]
        },
        {
          "name": "stderr",
          "output_type": "stream",
          "text": [
            "\r 55%|█████▌    | 269/489 [17:46<12:49,  3.50s/it]"
          ]
        },
        {
          "name": "stdout",
          "output_type": "stream",
          "text": [
            "Crawl data 251514670 success !!!\n"
          ]
        },
        {
          "name": "stderr",
          "output_type": "stream",
          "text": [
            "\r 55%|█████▌    | 270/489 [17:51<13:49,  3.79s/it]"
          ]
        },
        {
          "name": "stdout",
          "output_type": "stream",
          "text": [
            "Crawl data 275774874 success !!!\n"
          ]
        },
        {
          "name": "stderr",
          "output_type": "stream",
          "text": [
            "\r 55%|█████▌    | 271/489 [17:55<14:22,  3.96s/it]"
          ]
        },
        {
          "name": "stdout",
          "output_type": "stream",
          "text": [
            "Crawl data 270814316 success !!!\n"
          ]
        },
        {
          "name": "stderr",
          "output_type": "stream",
          "text": [
            "\r 56%|█████▌    | 272/489 [18:00<14:49,  4.10s/it]"
          ]
        },
        {
          "name": "stdout",
          "output_type": "stream",
          "text": [
            "Crawl data 275295006 success !!!\n"
          ]
        },
        {
          "name": "stderr",
          "output_type": "stream",
          "text": [
            "\r 56%|█████▌    | 273/489 [18:03<13:56,  3.87s/it]"
          ]
        },
        {
          "name": "stdout",
          "output_type": "stream",
          "text": [
            "Crawl data 274393574 success !!!\n"
          ]
        },
        {
          "name": "stderr",
          "output_type": "stream",
          "text": [
            "\r 56%|█████▌    | 274/489 [18:07<14:23,  4.02s/it]"
          ]
        },
        {
          "name": "stdout",
          "output_type": "stream",
          "text": [
            "Crawl data 196197701 success !!!\n"
          ]
        },
        {
          "name": "stderr",
          "output_type": "stream",
          "text": [
            "\r 56%|█████▌    | 275/489 [18:12<14:46,  4.14s/it]"
          ]
        },
        {
          "name": "stdout",
          "output_type": "stream",
          "text": [
            "Crawl data 275774758 success !!!\n"
          ]
        },
        {
          "name": "stderr",
          "output_type": "stream",
          "text": [
            "\r 56%|█████▋    | 276/489 [18:15<13:52,  3.91s/it]"
          ]
        },
        {
          "name": "stdout",
          "output_type": "stream",
          "text": [
            "Crawl data 275152276 success !!!\n"
          ]
        },
        {
          "name": "stderr",
          "output_type": "stream",
          "text": [
            "\r 57%|█████▋    | 277/489 [18:20<14:22,  4.07s/it]"
          ]
        },
        {
          "name": "stdout",
          "output_type": "stream",
          "text": [
            "Crawl data 275335546 success !!!\n"
          ]
        },
        {
          "name": "stderr",
          "output_type": "stream",
          "text": [
            "\r 57%|█████▋    | 278/489 [18:23<13:39,  3.88s/it]"
          ]
        },
        {
          "name": "stdout",
          "output_type": "stream",
          "text": [
            "Crawl data 273685412 success !!!\n"
          ]
        },
        {
          "name": "stderr",
          "output_type": "stream",
          "text": [
            "\r 57%|█████▋    | 279/489 [18:27<14:08,  4.04s/it]"
          ]
        },
        {
          "name": "stdout",
          "output_type": "stream",
          "text": [
            "Crawl data 250109584 success !!!\n"
          ]
        },
        {
          "name": "stderr",
          "output_type": "stream",
          "text": [
            "\r 57%|█████▋    | 280/489 [18:32<14:27,  4.15s/it]"
          ]
        },
        {
          "name": "stdout",
          "output_type": "stream",
          "text": [
            "Crawl data 274375122 success !!!\n"
          ]
        },
        {
          "name": "stderr",
          "output_type": "stream",
          "text": [
            "\r 57%|█████▋    | 281/489 [18:35<13:37,  3.93s/it]"
          ]
        },
        {
          "name": "stdout",
          "output_type": "stream",
          "text": [
            "Crawl data 262706645 success !!!\n"
          ]
        },
        {
          "name": "stderr",
          "output_type": "stream",
          "text": [
            "\r 58%|█████▊    | 282/489 [18:39<12:59,  3.76s/it]"
          ]
        },
        {
          "name": "stdout",
          "output_type": "stream",
          "text": [
            "Crawl data 272348047 success !!!\n"
          ]
        },
        {
          "name": "stderr",
          "output_type": "stream",
          "text": [
            "\r 58%|█████▊    | 283/489 [18:42<12:37,  3.68s/it]"
          ]
        },
        {
          "name": "stdout",
          "output_type": "stream",
          "text": [
            "Crawl data 72310352 success !!!\n"
          ]
        },
        {
          "name": "stderr",
          "output_type": "stream",
          "text": [
            "\r 58%|█████▊    | 284/489 [18:46<12:15,  3.59s/it]"
          ]
        },
        {
          "name": "stdout",
          "output_type": "stream",
          "text": [
            "Crawl data 274868116 success !!!\n"
          ]
        },
        {
          "name": "stderr",
          "output_type": "stream",
          "text": [
            "\r 58%|█████▊    | 285/489 [18:50<13:01,  3.83s/it]"
          ]
        },
        {
          "name": "stdout",
          "output_type": "stream",
          "text": [
            "Crawl data 274908645 success !!!\n"
          ]
        },
        {
          "name": "stderr",
          "output_type": "stream",
          "text": [
            "\r 58%|█████▊    | 286/489 [18:54<13:29,  3.99s/it]"
          ]
        },
        {
          "name": "stdout",
          "output_type": "stream",
          "text": [
            "Crawl data 273958512 success !!!\n"
          ]
        },
        {
          "name": "stderr",
          "output_type": "stream",
          "text": [
            "\r 59%|█████▊    | 287/489 [18:59<13:53,  4.13s/it]"
          ]
        },
        {
          "name": "stdout",
          "output_type": "stream",
          "text": [
            "Crawl data 275605662 success !!!\n"
          ]
        },
        {
          "name": "stderr",
          "output_type": "stream",
          "text": [
            "\r 59%|█████▉    | 288/489 [19:03<14:06,  4.21s/it]"
          ]
        },
        {
          "name": "stdout",
          "output_type": "stream",
          "text": [
            "Crawl data 275276075 success !!!\n"
          ]
        },
        {
          "name": "stderr",
          "output_type": "stream",
          "text": [
            "\r 59%|█████▉    | 289/489 [19:08<14:14,  4.27s/it]"
          ]
        },
        {
          "name": "stdout",
          "output_type": "stream",
          "text": [
            "Crawl data 258667842 success !!!\n"
          ]
        },
        {
          "name": "stderr",
          "output_type": "stream",
          "text": [
            "\r 59%|█████▉    | 290/489 [19:12<14:20,  4.32s/it]"
          ]
        },
        {
          "name": "stdout",
          "output_type": "stream",
          "text": [
            "Crawl data 72310420 success !!!\n"
          ]
        },
        {
          "name": "stderr",
          "output_type": "stream",
          "text": [
            "\r 60%|█████▉    | 291/489 [19:16<14:18,  4.34s/it]"
          ]
        },
        {
          "name": "stdout",
          "output_type": "stream",
          "text": [
            "Crawl data 275773463 success !!!\n"
          ]
        },
        {
          "name": "stderr",
          "output_type": "stream",
          "text": [
            "\r 60%|█████▉    | 292/489 [19:20<13:19,  4.06s/it]"
          ]
        },
        {
          "name": "stdout",
          "output_type": "stream",
          "text": [
            "Crawl data 273373420 success !!!\n"
          ]
        },
        {
          "name": "stderr",
          "output_type": "stream",
          "text": [
            "\r 60%|█████▉    | 293/489 [19:24<13:41,  4.19s/it]"
          ]
        },
        {
          "name": "stdout",
          "output_type": "stream",
          "text": [
            "Crawl data 274065023 success !!!\n"
          ]
        },
        {
          "name": "stderr",
          "output_type": "stream",
          "text": [
            "\r 60%|██████    | 294/489 [19:28<12:53,  3.97s/it]"
          ]
        },
        {
          "name": "stdout",
          "output_type": "stream",
          "text": [
            "Crawl data 273668660 success !!!\n"
          ]
        },
        {
          "name": "stderr",
          "output_type": "stream",
          "text": [
            "\r 60%|██████    | 295/489 [19:32<13:15,  4.10s/it]"
          ]
        },
        {
          "name": "stdout",
          "output_type": "stream",
          "text": [
            "Crawl data 206218031 success !!!\n"
          ]
        },
        {
          "name": "stderr",
          "output_type": "stream",
          "text": [
            "\r 61%|██████    | 296/489 [19:36<13:25,  4.17s/it]"
          ]
        },
        {
          "name": "stdout",
          "output_type": "stream",
          "text": [
            "Crawl data 254125720 success !!!\n"
          ]
        },
        {
          "name": "stderr",
          "output_type": "stream",
          "text": [
            "\r 61%|██████    | 297/489 [19:40<12:35,  3.93s/it]"
          ]
        },
        {
          "name": "stdout",
          "output_type": "stream",
          "text": [
            "Crawl data 273438724 success !!!\n"
          ]
        },
        {
          "name": "stderr",
          "output_type": "stream",
          "text": [
            "\r 61%|██████    | 298/489 [19:44<13:00,  4.09s/it]"
          ]
        },
        {
          "name": "stdout",
          "output_type": "stream",
          "text": [
            "Crawl data 167466044 success !!!\n"
          ]
        },
        {
          "name": "stderr",
          "output_type": "stream",
          "text": [
            "\r 61%|██████    | 299/489 [19:48<12:20,  3.90s/it]"
          ]
        },
        {
          "name": "stdout",
          "output_type": "stream",
          "text": [
            "Crawl data 273373436 success !!!\n"
          ]
        },
        {
          "name": "stderr",
          "output_type": "stream",
          "text": [
            "\r 61%|██████▏   | 300/489 [19:51<11:51,  3.76s/it]"
          ]
        },
        {
          "name": "stdout",
          "output_type": "stream",
          "text": [
            "Crawl data 261965186 success !!!\n"
          ]
        },
        {
          "name": "stderr",
          "output_type": "stream",
          "text": [
            "\r 62%|██████▏   | 301/489 [19:56<12:49,  4.09s/it]"
          ]
        },
        {
          "name": "stdout",
          "output_type": "stream",
          "text": [
            "Crawl data 273653444 success !!!\n"
          ]
        },
        {
          "name": "stderr",
          "output_type": "stream",
          "text": [
            "\r 62%|██████▏   | 302/489 [19:59<12:08,  3.89s/it]"
          ]
        },
        {
          "name": "stdout",
          "output_type": "stream",
          "text": [
            "Crawl data 274392442 success !!!\n"
          ]
        },
        {
          "name": "stderr",
          "output_type": "stream",
          "text": [
            "\r 62%|██████▏   | 303/489 [20:04<12:33,  4.05s/it]"
          ]
        },
        {
          "name": "stdout",
          "output_type": "stream",
          "text": [
            "Crawl data 273683300 success !!!\n"
          ]
        },
        {
          "name": "stderr",
          "output_type": "stream",
          "text": [
            "\r 62%|██████▏   | 304/489 [20:08<12:51,  4.17s/it]"
          ]
        },
        {
          "name": "stdout",
          "output_type": "stream",
          "text": [
            "Crawl data 275773451 success !!!\n"
          ]
        },
        {
          "name": "stderr",
          "output_type": "stream",
          "text": [
            "\r 62%|██████▏   | 305/489 [20:13<13:01,  4.25s/it]"
          ]
        },
        {
          "name": "stdout",
          "output_type": "stream",
          "text": [
            "Crawl data 273636845 success !!!\n"
          ]
        },
        {
          "name": "stderr",
          "output_type": "stream",
          "text": [
            "\r 63%|██████▎   | 306/489 [20:17<13:13,  4.34s/it]"
          ]
        },
        {
          "name": "stdout",
          "output_type": "stream",
          "text": [
            "Crawl data 274099409 success !!!\n"
          ]
        },
        {
          "name": "stderr",
          "output_type": "stream",
          "text": [
            "\r 63%|██████▎   | 307/489 [20:22<13:13,  4.36s/it]"
          ]
        },
        {
          "name": "stdout",
          "output_type": "stream",
          "text": [
            "Crawl data 126682340 success !!!\n"
          ]
        },
        {
          "name": "stderr",
          "output_type": "stream",
          "text": [
            "\r 63%|██████▎   | 308/489 [20:26<13:13,  4.38s/it]"
          ]
        },
        {
          "name": "stdout",
          "output_type": "stream",
          "text": [
            "Crawl data 247730209 success !!!\n"
          ]
        },
        {
          "name": "stderr",
          "output_type": "stream",
          "text": [
            "\r 63%|██████▎   | 309/489 [20:30<12:18,  4.10s/it]"
          ]
        },
        {
          "name": "stdout",
          "output_type": "stream",
          "text": [
            "Crawl data 275775850 success !!!\n"
          ]
        },
        {
          "name": "stderr",
          "output_type": "stream",
          "text": [
            "\r 63%|██████▎   | 310/489 [20:34<12:27,  4.18s/it]"
          ]
        },
        {
          "name": "stdout",
          "output_type": "stream",
          "text": [
            "Crawl data 271087979 success !!!\n"
          ]
        },
        {
          "name": "stderr",
          "output_type": "stream",
          "text": [
            "\r 64%|██████▎   | 311/489 [20:37<11:43,  3.95s/it]"
          ]
        },
        {
          "name": "stdout",
          "output_type": "stream",
          "text": [
            "Crawl data 273595363 success !!!\n"
          ]
        },
        {
          "name": "stderr",
          "output_type": "stream",
          "text": [
            "\r 64%|██████▍   | 312/489 [20:42<12:00,  4.07s/it]"
          ]
        },
        {
          "name": "stdout",
          "output_type": "stream",
          "text": [
            "Crawl data 273378164 success !!!\n"
          ]
        },
        {
          "name": "stderr",
          "output_type": "stream",
          "text": [
            "\r 64%|██████▍   | 313/489 [20:46<12:15,  4.18s/it]"
          ]
        },
        {
          "name": "stdout",
          "output_type": "stream",
          "text": [
            "Crawl data 197666071 success !!!\n"
          ]
        },
        {
          "name": "stderr",
          "output_type": "stream",
          "text": [
            "\r 64%|██████▍   | 314/489 [20:51<12:27,  4.27s/it]"
          ]
        },
        {
          "name": "stdout",
          "output_type": "stream",
          "text": [
            "Crawl data 275629952 success !!!\n"
          ]
        },
        {
          "name": "stderr",
          "output_type": "stream",
          "text": [
            "\r 64%|██████▍   | 315/489 [20:54<11:37,  4.01s/it]"
          ]
        },
        {
          "name": "stdout",
          "output_type": "stream",
          "text": [
            "Crawl data 274541336 success !!!\n"
          ]
        },
        {
          "name": "stderr",
          "output_type": "stream",
          "text": [
            "\r 65%|██████▍   | 316/489 [20:58<11:04,  3.84s/it]"
          ]
        },
        {
          "name": "stdout",
          "output_type": "stream",
          "text": [
            "Crawl data 162866839 success !!!\n"
          ]
        },
        {
          "name": "stderr",
          "output_type": "stream",
          "text": [
            "\r 65%|██████▍   | 317/489 [21:02<11:27,  4.00s/it]"
          ]
        },
        {
          "name": "stdout",
          "output_type": "stream",
          "text": [
            "Crawl data 275773237 success !!!\n"
          ]
        },
        {
          "name": "stderr",
          "output_type": "stream",
          "text": [
            "\r 65%|██████▌   | 318/489 [21:05<10:52,  3.82s/it]"
          ]
        },
        {
          "name": "stdout",
          "output_type": "stream",
          "text": [
            "Crawl data 275773774 success !!!\n"
          ]
        },
        {
          "name": "stderr",
          "output_type": "stream",
          "text": [
            "\r 65%|██████▌   | 319/489 [21:09<10:28,  3.70s/it]"
          ]
        },
        {
          "name": "stdout",
          "output_type": "stream",
          "text": [
            "Crawl data 275776790 success !!!\n"
          ]
        },
        {
          "name": "stderr",
          "output_type": "stream",
          "text": [
            "\r 65%|██████▌   | 320/489 [21:13<11:00,  3.91s/it]"
          ]
        },
        {
          "name": "stdout",
          "output_type": "stream",
          "text": [
            "Crawl data 271235147 success !!!\n"
          ]
        },
        {
          "name": "stderr",
          "output_type": "stream",
          "text": [
            "\r 66%|██████▌   | 321/489 [21:18<11:27,  4.10s/it]"
          ]
        },
        {
          "name": "stdout",
          "output_type": "stream",
          "text": [
            "Crawl data 274868043 success !!!\n"
          ]
        },
        {
          "name": "stderr",
          "output_type": "stream",
          "text": [
            "\r 66%|██████▌   | 322/489 [21:22<11:41,  4.20s/it]"
          ]
        },
        {
          "name": "stdout",
          "output_type": "stream",
          "text": [
            "Crawl data 272238679 success !!!\n"
          ]
        },
        {
          "name": "stderr",
          "output_type": "stream",
          "text": [
            "\r 66%|██████▌   | 323/489 [21:26<11:01,  3.98s/it]"
          ]
        },
        {
          "name": "stdout",
          "output_type": "stream",
          "text": [
            "Crawl data 271954384 success !!!\n"
          ]
        },
        {
          "name": "stderr",
          "output_type": "stream",
          "text": [
            "\r 66%|██████▋   | 324/489 [21:29<10:32,  3.83s/it]"
          ]
        },
        {
          "name": "stdout",
          "output_type": "stream",
          "text": [
            "Crawl data 271530789 success !!!\n"
          ]
        },
        {
          "name": "stderr",
          "output_type": "stream",
          "text": [
            "\r 66%|██████▋   | 325/489 [21:32<10:07,  3.71s/it]"
          ]
        },
        {
          "name": "stdout",
          "output_type": "stream",
          "text": [
            "Crawl data 43924153 success !!!\n"
          ]
        },
        {
          "name": "stderr",
          "output_type": "stream",
          "text": [
            "\r 67%|██████▋   | 326/489 [21:36<09:51,  3.63s/it]"
          ]
        },
        {
          "name": "stdout",
          "output_type": "stream",
          "text": [
            "Crawl data 140747649 success !!!\n"
          ]
        },
        {
          "name": "stderr",
          "output_type": "stream",
          "text": [
            "\r 67%|██████▋   | 327/489 [21:39<09:37,  3.57s/it]"
          ]
        },
        {
          "name": "stdout",
          "output_type": "stream",
          "text": [
            "Crawl data 188030974 success !!!\n"
          ]
        },
        {
          "name": "stderr",
          "output_type": "stream",
          "text": [
            "\r 67%|██████▋   | 328/489 [21:43<09:23,  3.50s/it]"
          ]
        },
        {
          "name": "stdout",
          "output_type": "stream",
          "text": [
            "Crawl data 118486668 success !!!\n"
          ]
        },
        {
          "name": "stderr",
          "output_type": "stream",
          "text": [
            "\r 67%|██████▋   | 329/489 [21:48<10:34,  3.97s/it]"
          ]
        },
        {
          "name": "stdout",
          "output_type": "stream",
          "text": [
            "Crawl data 274065746 success !!!\n"
          ]
        },
        {
          "name": "stderr",
          "output_type": "stream",
          "text": [
            "\r 67%|██████▋   | 330/489 [21:51<10:00,  3.78s/it]"
          ]
        },
        {
          "name": "stdout",
          "output_type": "stream",
          "text": [
            "Crawl data 249955152 success !!!\n"
          ]
        },
        {
          "name": "stderr",
          "output_type": "stream",
          "text": [
            "\r 68%|██████▊   | 331/489 [21:54<09:39,  3.67s/it]"
          ]
        },
        {
          "name": "stdout",
          "output_type": "stream",
          "text": [
            "Crawl data 215746882 success !!!\n"
          ]
        },
        {
          "name": "stderr",
          "output_type": "stream",
          "text": [
            "\r 68%|██████▊   | 332/489 [21:59<10:10,  3.89s/it]"
          ]
        },
        {
          "name": "stdout",
          "output_type": "stream",
          "text": [
            "Crawl data 275774279 success !!!\n"
          ]
        },
        {
          "name": "stderr",
          "output_type": "stream",
          "text": [
            "\r 68%|██████▊   | 333/489 [22:03<10:29,  4.04s/it]"
          ]
        },
        {
          "name": "stdout",
          "output_type": "stream",
          "text": [
            "Crawl data 274516245 success !!!\n"
          ]
        },
        {
          "name": "stderr",
          "output_type": "stream",
          "text": [
            "\r 68%|██████▊   | 334/489 [22:07<09:57,  3.85s/it]"
          ]
        },
        {
          "name": "stdout",
          "output_type": "stream",
          "text": [
            "Crawl data 273357326 success !!!\n"
          ]
        },
        {
          "name": "stderr",
          "output_type": "stream",
          "text": [
            "\r 69%|██████▊   | 335/489 [22:10<09:36,  3.74s/it]"
          ]
        },
        {
          "name": "stdout",
          "output_type": "stream",
          "text": [
            "Crawl data 273359059 success !!!\n"
          ]
        },
        {
          "name": "stderr",
          "output_type": "stream",
          "text": [
            "\r 69%|██████▊   | 336/489 [22:14<09:59,  3.92s/it]"
          ]
        },
        {
          "name": "stdout",
          "output_type": "stream",
          "text": [
            "Crawl data 140940220 success !!!\n"
          ]
        },
        {
          "name": "stderr",
          "output_type": "stream",
          "text": [
            "\r 69%|██████▉   | 337/489 [22:19<10:16,  4.06s/it]"
          ]
        },
        {
          "name": "stdout",
          "output_type": "stream",
          "text": [
            "Crawl data 275773333 success !!!\n"
          ]
        },
        {
          "name": "stderr",
          "output_type": "stream",
          "text": [
            "\r 69%|██████▉   | 338/489 [22:22<09:41,  3.85s/it]"
          ]
        },
        {
          "name": "stdout",
          "output_type": "stream",
          "text": [
            "Crawl data 91281318 success !!!\n"
          ]
        },
        {
          "name": "stderr",
          "output_type": "stream",
          "text": [
            "\r 69%|██████▉   | 339/489 [22:26<09:15,  3.70s/it]"
          ]
        },
        {
          "name": "stdout",
          "output_type": "stream",
          "text": [
            "Crawl data 272113804 success !!!\n"
          ]
        },
        {
          "name": "stderr",
          "output_type": "stream",
          "text": [
            "\r 70%|██████▉   | 340/489 [22:30<09:41,  3.90s/it]"
          ]
        },
        {
          "name": "stdout",
          "output_type": "stream",
          "text": [
            "Crawl data 273411988 success !!!\n"
          ]
        },
        {
          "name": "stderr",
          "output_type": "stream",
          "text": [
            "\r 70%|██████▉   | 341/489 [22:33<09:18,  3.77s/it]"
          ]
        },
        {
          "name": "stdout",
          "output_type": "stream",
          "text": [
            "Crawl data 270814412 success !!!\n"
          ]
        },
        {
          "name": "stderr",
          "output_type": "stream",
          "text": [
            "\r 70%|██████▉   | 342/489 [22:38<09:43,  3.97s/it]"
          ]
        },
        {
          "name": "stdout",
          "output_type": "stream",
          "text": [
            "Crawl data 215097578 success !!!\n"
          ]
        },
        {
          "name": "stderr",
          "output_type": "stream",
          "text": [
            "\r 70%|███████   | 343/489 [22:42<09:58,  4.10s/it]"
          ]
        },
        {
          "name": "stdout",
          "output_type": "stream",
          "text": [
            "Crawl data 273186334 success !!!\n"
          ]
        },
        {
          "name": "stderr",
          "output_type": "stream",
          "text": [
            "\r 70%|███████   | 344/489 [22:47<10:09,  4.21s/it]"
          ]
        },
        {
          "name": "stdout",
          "output_type": "stream",
          "text": [
            "Crawl data 249956458 success !!!\n"
          ]
        },
        {
          "name": "stderr",
          "output_type": "stream",
          "text": [
            "\r 71%|███████   | 345/489 [22:50<09:31,  3.97s/it]"
          ]
        },
        {
          "name": "stdout",
          "output_type": "stream",
          "text": [
            "Crawl data 274839897 success !!!\n"
          ]
        },
        {
          "name": "stderr",
          "output_type": "stream",
          "text": [
            "\r 71%|███████   | 346/489 [22:54<09:03,  3.80s/it]"
          ]
        },
        {
          "name": "stdout",
          "output_type": "stream",
          "text": [
            "Crawl data 273438458 success !!!\n"
          ]
        },
        {
          "name": "stderr",
          "output_type": "stream",
          "text": [
            "\r 71%|███████   | 347/489 [22:57<08:46,  3.71s/it]"
          ]
        },
        {
          "name": "stdout",
          "output_type": "stream",
          "text": [
            "Crawl data 275774759 success !!!\n"
          ]
        },
        {
          "name": "stderr",
          "output_type": "stream",
          "text": [
            "\r 71%|███████   | 348/489 [23:01<09:09,  3.90s/it]"
          ]
        },
        {
          "name": "stdout",
          "output_type": "stream",
          "text": [
            "Crawl data 275773424 success !!!\n"
          ]
        },
        {
          "name": "stderr",
          "output_type": "stream",
          "text": [
            "\r 71%|███████▏  | 349/489 [23:06<09:25,  4.04s/it]"
          ]
        },
        {
          "name": "stdout",
          "output_type": "stream",
          "text": [
            "Crawl data 274030201 success !!!\n"
          ]
        },
        {
          "name": "stderr",
          "output_type": "stream",
          "text": [
            "\r 72%|███████▏  | 350/489 [23:10<09:36,  4.15s/it]"
          ]
        },
        {
          "name": "stdout",
          "output_type": "stream",
          "text": [
            "Crawl data 273185467 success !!!\n"
          ]
        },
        {
          "name": "stderr",
          "output_type": "stream",
          "text": [
            "\r 72%|███████▏  | 351/489 [23:14<09:07,  3.97s/it]"
          ]
        },
        {
          "name": "stdout",
          "output_type": "stream",
          "text": [
            "Crawl data 23142193 success !!!\n"
          ]
        },
        {
          "name": "stderr",
          "output_type": "stream",
          "text": [
            "\r 72%|███████▏  | 352/489 [23:17<08:38,  3.79s/it]"
          ]
        },
        {
          "name": "stdout",
          "output_type": "stream",
          "text": [
            "Crawl data 147969070 success !!!\n"
          ]
        },
        {
          "name": "stderr",
          "output_type": "stream",
          "text": [
            "\r 72%|███████▏  | 353/489 [23:22<09:04,  4.00s/it]"
          ]
        },
        {
          "name": "stdout",
          "output_type": "stream",
          "text": [
            "Crawl data 204872160 success !!!\n"
          ]
        },
        {
          "name": "stderr",
          "output_type": "stream",
          "text": [
            "\r 72%|███████▏  | 354/489 [23:25<08:37,  3.83s/it]"
          ]
        },
        {
          "name": "stdout",
          "output_type": "stream",
          "text": [
            "Crawl data 31820638 success !!!\n"
          ]
        },
        {
          "name": "stderr",
          "output_type": "stream",
          "text": [
            "\r 73%|███████▎  | 355/489 [23:29<08:55,  4.00s/it]"
          ]
        },
        {
          "name": "stdout",
          "output_type": "stream",
          "text": [
            "Crawl data 273430216 success !!!\n"
          ]
        },
        {
          "name": "stderr",
          "output_type": "stream",
          "text": [
            "\r 73%|███████▎  | 356/489 [23:34<09:05,  4.10s/it]"
          ]
        },
        {
          "name": "stdout",
          "output_type": "stream",
          "text": [
            "Crawl data 274162900 success !!!\n"
          ]
        },
        {
          "name": "stderr",
          "output_type": "stream",
          "text": [
            "\r 73%|███████▎  | 357/489 [23:38<09:15,  4.21s/it]"
          ]
        },
        {
          "name": "stdout",
          "output_type": "stream",
          "text": [
            "Crawl data 274560616 success !!!\n"
          ]
        },
        {
          "name": "stderr",
          "output_type": "stream",
          "text": [
            "\r 73%|███████▎  | 358/489 [23:43<09:20,  4.28s/it]"
          ]
        },
        {
          "name": "stdout",
          "output_type": "stream",
          "text": [
            "Crawl data 274506430 success !!!\n"
          ]
        },
        {
          "name": "stderr",
          "output_type": "stream",
          "text": [
            "\r 73%|███████▎  | 359/489 [23:47<09:21,  4.32s/it]"
          ]
        },
        {
          "name": "stdout",
          "output_type": "stream",
          "text": [
            "Crawl data 198968094 success !!!\n"
          ]
        },
        {
          "name": "stderr",
          "output_type": "stream",
          "text": [
            "\r 74%|███████▎  | 360/489 [23:51<09:20,  4.35s/it]"
          ]
        },
        {
          "name": "stdout",
          "output_type": "stream",
          "text": [
            "Crawl data 275774751 success !!!\n"
          ]
        },
        {
          "name": "stderr",
          "output_type": "stream",
          "text": [
            "\r 74%|███████▍  | 361/489 [23:55<08:38,  4.05s/it]"
          ]
        },
        {
          "name": "stdout",
          "output_type": "stream",
          "text": [
            "Crawl data 275577204 success !!!\n"
          ]
        },
        {
          "name": "stderr",
          "output_type": "stream",
          "text": [
            "\r 74%|███████▍  | 362/489 [23:59<08:47,  4.15s/it]"
          ]
        },
        {
          "name": "stdout",
          "output_type": "stream",
          "text": [
            "Crawl data 4048043 success !!!\n"
          ]
        },
        {
          "name": "stderr",
          "output_type": "stream",
          "text": [
            "\r 74%|███████▍  | 363/489 [24:03<08:15,  3.93s/it]"
          ]
        },
        {
          "name": "stdout",
          "output_type": "stream",
          "text": [
            "Crawl data 275775859 success !!!\n"
          ]
        },
        {
          "name": "stderr",
          "output_type": "stream",
          "text": [
            "\r 74%|███████▍  | 364/489 [24:06<07:50,  3.76s/it]"
          ]
        },
        {
          "name": "stdout",
          "output_type": "stream",
          "text": [
            "Crawl data 275746497 success !!!\n"
          ]
        },
        {
          "name": "stderr",
          "output_type": "stream",
          "text": [
            "\r 75%|███████▍  | 365/489 [24:10<08:12,  3.97s/it]"
          ]
        },
        {
          "name": "stdout",
          "output_type": "stream",
          "text": [
            "Crawl data 217505504 success !!!\n"
          ]
        },
        {
          "name": "stderr",
          "output_type": "stream",
          "text": [
            "\r 75%|███████▍  | 366/489 [24:14<07:47,  3.80s/it]"
          ]
        },
        {
          "name": "stdout",
          "output_type": "stream",
          "text": [
            "Crawl data 275774453 success !!!\n"
          ]
        },
        {
          "name": "stderr",
          "output_type": "stream",
          "text": [
            "\r 75%|███████▌  | 367/489 [24:17<07:30,  3.69s/it]"
          ]
        },
        {
          "name": "stdout",
          "output_type": "stream",
          "text": [
            "Crawl data 248929458 success !!!\n"
          ]
        },
        {
          "name": "stderr",
          "output_type": "stream",
          "text": [
            "\r 75%|███████▌  | 368/489 [24:21<07:18,  3.62s/it]"
          ]
        },
        {
          "name": "stdout",
          "output_type": "stream",
          "text": [
            "Crawl data 275774462 success !!!\n"
          ]
        },
        {
          "name": "stderr",
          "output_type": "stream",
          "text": [
            "\r 75%|███████▌  | 369/489 [24:24<07:07,  3.56s/it]"
          ]
        },
        {
          "name": "stdout",
          "output_type": "stream",
          "text": [
            "Crawl data 275773232 success !!!\n"
          ]
        },
        {
          "name": "stderr",
          "output_type": "stream",
          "text": [
            "\r 76%|███████▌  | 370/489 [24:29<07:34,  3.82s/it]"
          ]
        },
        {
          "name": "stdout",
          "output_type": "stream",
          "text": [
            "Crawl data 23865953 success !!!\n"
          ]
        },
        {
          "name": "stderr",
          "output_type": "stream",
          "text": [
            "\r 76%|███████▌  | 371/489 [24:33<07:50,  3.99s/it]"
          ]
        },
        {
          "name": "stdout",
          "output_type": "stream",
          "text": [
            "Crawl data 53380152 success !!!\n"
          ]
        },
        {
          "name": "stderr",
          "output_type": "stream",
          "text": [
            "\r 76%|███████▌  | 372/489 [24:36<07:23,  3.79s/it]"
          ]
        },
        {
          "name": "stdout",
          "output_type": "stream",
          "text": [
            "Crawl data 11251743 success !!!\n"
          ]
        },
        {
          "name": "stderr",
          "output_type": "stream",
          "text": [
            "\r 76%|███████▋  | 373/489 [24:40<07:04,  3.66s/it]"
          ]
        },
        {
          "name": "stdout",
          "output_type": "stream",
          "text": [
            "Crawl data 196193895 success !!!\n"
          ]
        },
        {
          "name": "stderr",
          "output_type": "stream",
          "text": [
            "\r 76%|███████▋  | 374/489 [24:44<07:27,  3.89s/it]"
          ]
        },
        {
          "name": "stdout",
          "output_type": "stream",
          "text": [
            "Crawl data 252884859 success !!!\n"
          ]
        },
        {
          "name": "stderr",
          "output_type": "stream",
          "text": [
            "\r 77%|███████▋  | 375/489 [24:47<07:04,  3.72s/it]"
          ]
        },
        {
          "name": "stdout",
          "output_type": "stream",
          "text": [
            "Crawl data 275773244 success !!!\n"
          ]
        },
        {
          "name": "stderr",
          "output_type": "stream",
          "text": [
            "\r 77%|███████▋  | 376/489 [24:52<07:23,  3.93s/it]"
          ]
        },
        {
          "name": "stdout",
          "output_type": "stream",
          "text": [
            "Crawl data 274364026 success !!!\n"
          ]
        },
        {
          "name": "stderr",
          "output_type": "stream",
          "text": [
            "\r 77%|███████▋  | 377/489 [24:56<07:36,  4.07s/it]"
          ]
        },
        {
          "name": "stdout",
          "output_type": "stream",
          "text": [
            "Crawl data 215119245 success !!!\n"
          ]
        },
        {
          "name": "stderr",
          "output_type": "stream",
          "text": [
            "\r 77%|███████▋  | 378/489 [25:01<07:42,  4.16s/it]"
          ]
        },
        {
          "name": "stdout",
          "output_type": "stream",
          "text": [
            "Crawl data 275773257 success !!!\n"
          ]
        },
        {
          "name": "stderr",
          "output_type": "stream",
          "text": [
            "\r 78%|███████▊  | 379/489 [25:04<07:12,  3.93s/it]"
          ]
        },
        {
          "name": "stdout",
          "output_type": "stream",
          "text": [
            "Crawl data 271329051 success !!!\n"
          ]
        },
        {
          "name": "stderr",
          "output_type": "stream",
          "text": [
            "\r 78%|███████▊  | 380/489 [25:08<07:23,  4.07s/it]"
          ]
        },
        {
          "name": "stdout",
          "output_type": "stream",
          "text": [
            "Crawl data 140144656 success !!!\n"
          ]
        },
        {
          "name": "stderr",
          "output_type": "stream",
          "text": [
            "\r 78%|███████▊  | 381/489 [25:13<07:39,  4.26s/it]"
          ]
        },
        {
          "name": "stdout",
          "output_type": "stream",
          "text": [
            "Crawl data 29440849 success !!!\n"
          ]
        },
        {
          "name": "stderr",
          "output_type": "stream",
          "text": [
            "\r 78%|███████▊  | 382/489 [25:17<07:37,  4.28s/it]"
          ]
        },
        {
          "name": "stdout",
          "output_type": "stream",
          "text": [
            "Crawl data 251407092 success !!!\n"
          ]
        },
        {
          "name": "stderr",
          "output_type": "stream",
          "text": [
            "\r 78%|███████▊  | 383/489 [25:22<07:39,  4.34s/it]"
          ]
        },
        {
          "name": "stdout",
          "output_type": "stream",
          "text": [
            "Crawl data 275775836 success !!!\n"
          ]
        },
        {
          "name": "stderr",
          "output_type": "stream",
          "text": [
            "\r 79%|███████▊  | 384/489 [25:26<07:39,  4.37s/it]"
          ]
        },
        {
          "name": "stdout",
          "output_type": "stream",
          "text": [
            "Crawl data 25949745 success !!!\n"
          ]
        },
        {
          "name": "stderr",
          "output_type": "stream",
          "text": [
            "\r 79%|███████▊  | 385/489 [25:30<07:03,  4.08s/it]"
          ]
        },
        {
          "name": "stdout",
          "output_type": "stream",
          "text": [
            "Crawl data 272241346 success !!!\n"
          ]
        },
        {
          "name": "stderr",
          "output_type": "stream",
          "text": [
            "\r 79%|███████▉  | 386/489 [25:33<06:39,  3.88s/it]"
          ]
        },
        {
          "name": "stdout",
          "output_type": "stream",
          "text": [
            "Crawl data 117929538 success !!!\n"
          ]
        },
        {
          "name": "stderr",
          "output_type": "stream",
          "text": [
            "\r 79%|███████▉  | 387/489 [25:36<06:19,  3.72s/it]"
          ]
        },
        {
          "name": "stdout",
          "output_type": "stream",
          "text": [
            "Crawl data 203278278 success !!!\n"
          ]
        },
        {
          "name": "stderr",
          "output_type": "stream",
          "text": [
            "\r 79%|███████▉  | 388/489 [25:41<06:36,  3.93s/it]"
          ]
        },
        {
          "name": "stdout",
          "output_type": "stream",
          "text": [
            "Crawl data 215125094 success !!!\n"
          ]
        },
        {
          "name": "stderr",
          "output_type": "stream",
          "text": [
            "\r 80%|███████▉  | 389/489 [25:45<06:46,  4.07s/it]"
          ]
        },
        {
          "name": "stdout",
          "output_type": "stream",
          "text": [
            "Crawl data 258787119 success !!!\n"
          ]
        },
        {
          "name": "stderr",
          "output_type": "stream",
          "text": [
            "\r 80%|███████▉  | 390/489 [25:49<06:21,  3.85s/it]"
          ]
        },
        {
          "name": "stdout",
          "output_type": "stream",
          "text": [
            "Crawl data 275773470 success !!!\n"
          ]
        },
        {
          "name": "stderr",
          "output_type": "stream",
          "text": [
            "\r 80%|███████▉  | 391/489 [25:53<06:33,  4.02s/it]"
          ]
        },
        {
          "name": "stdout",
          "output_type": "stream",
          "text": [
            "Crawl data 275044287 success !!!\n"
          ]
        },
        {
          "name": "stderr",
          "output_type": "stream",
          "text": [
            "\r 80%|████████  | 392/489 [25:56<06:09,  3.81s/it]"
          ]
        },
        {
          "name": "stdout",
          "output_type": "stream",
          "text": [
            "Crawl data 273227290 success !!!\n"
          ]
        },
        {
          "name": "stderr",
          "output_type": "stream",
          "text": [
            "\r 80%|████████  | 393/489 [26:00<05:55,  3.70s/it]"
          ]
        },
        {
          "name": "stdout",
          "output_type": "stream",
          "text": [
            "Crawl data 178311123 success !!!\n"
          ]
        },
        {
          "name": "stderr",
          "output_type": "stream",
          "text": [
            "\r 81%|████████  | 394/489 [26:03<05:40,  3.59s/it]"
          ]
        },
        {
          "name": "stdout",
          "output_type": "stream",
          "text": [
            "Crawl data 14508445 success !!!\n"
          ]
        },
        {
          "name": "stderr",
          "output_type": "stream",
          "text": [
            "\r 81%|████████  | 395/489 [26:06<05:30,  3.51s/it]"
          ]
        },
        {
          "name": "stdout",
          "output_type": "stream",
          "text": [
            "Crawl data 157835051 success !!!\n"
          ]
        },
        {
          "name": "stderr",
          "output_type": "stream",
          "text": [
            "\r 81%|████████  | 396/489 [26:10<05:23,  3.48s/it]"
          ]
        },
        {
          "name": "stdout",
          "output_type": "stream",
          "text": [
            "Crawl data 275776155 success !!!\n"
          ]
        },
        {
          "name": "stderr",
          "output_type": "stream",
          "text": [
            "\r 81%|████████  | 397/489 [26:14<05:44,  3.74s/it]"
          ]
        },
        {
          "name": "stdout",
          "output_type": "stream",
          "text": [
            "Crawl data 274361820 success !!!\n"
          ]
        },
        {
          "name": "stderr",
          "output_type": "stream",
          "text": [
            "\r 81%|████████▏ | 398/489 [26:19<05:56,  3.91s/it]"
          ]
        },
        {
          "name": "stdout",
          "output_type": "stream",
          "text": [
            "Crawl data 181927736 success !!!\n"
          ]
        },
        {
          "name": "stderr",
          "output_type": "stream",
          "text": [
            "\r 82%|████████▏ | 399/489 [26:23<06:03,  4.04s/it]"
          ]
        },
        {
          "name": "stdout",
          "output_type": "stream",
          "text": [
            "Crawl data 221518066 success !!!\n"
          ]
        },
        {
          "name": "stderr",
          "output_type": "stream",
          "text": [
            "\r 82%|████████▏ | 400/489 [26:26<05:41,  3.84s/it]"
          ]
        },
        {
          "name": "stdout",
          "output_type": "stream",
          "text": [
            "Crawl data 272270730 success !!!\n"
          ]
        },
        {
          "name": "stderr",
          "output_type": "stream",
          "text": [
            "\r 82%|████████▏ | 401/489 [26:30<05:26,  3.71s/it]"
          ]
        },
        {
          "name": "stdout",
          "output_type": "stream",
          "text": [
            "Crawl data 271801317 success !!!\n"
          ]
        },
        {
          "name": "stderr",
          "output_type": "stream",
          "text": [
            "\r 82%|████████▏ | 402/489 [26:34<05:39,  3.91s/it]"
          ]
        },
        {
          "name": "stdout",
          "output_type": "stream",
          "text": [
            "Crawl data 113475741 success !!!\n"
          ]
        },
        {
          "name": "stderr",
          "output_type": "stream",
          "text": [
            "\r 82%|████████▏ | 403/489 [26:37<05:21,  3.73s/it]"
          ]
        },
        {
          "name": "stdout",
          "output_type": "stream",
          "text": [
            "Crawl data 252884932 success !!!\n"
          ]
        },
        {
          "name": "stderr",
          "output_type": "stream",
          "text": [
            "\r 83%|████████▎ | 404/489 [26:41<05:06,  3.61s/it]"
          ]
        },
        {
          "name": "stdout",
          "output_type": "stream",
          "text": [
            "Crawl data 273407277 success !!!\n"
          ]
        },
        {
          "name": "stderr",
          "output_type": "stream",
          "text": [
            "\r 83%|████████▎ | 405/489 [26:45<05:21,  3.83s/it]"
          ]
        },
        {
          "name": "stdout",
          "output_type": "stream",
          "text": [
            "Crawl data 271799133 success !!!\n"
          ]
        },
        {
          "name": "stderr",
          "output_type": "stream",
          "text": [
            "\r 83%|████████▎ | 406/489 [26:49<05:30,  3.99s/it]"
          ]
        },
        {
          "name": "stdout",
          "output_type": "stream",
          "text": [
            "Crawl data 11251711 success !!!\n"
          ]
        },
        {
          "name": "stderr",
          "output_type": "stream",
          "text": [
            "\r 83%|████████▎ | 407/489 [26:54<05:35,  4.10s/it]"
          ]
        },
        {
          "name": "stdout",
          "output_type": "stream",
          "text": [
            "Crawl data 52326343 success !!!\n"
          ]
        },
        {
          "name": "stderr",
          "output_type": "stream",
          "text": [
            "\r 83%|████████▎ | 408/489 [26:58<05:37,  4.17s/it]"
          ]
        },
        {
          "name": "stdout",
          "output_type": "stream",
          "text": [
            "Crawl data 215135773 success !!!\n"
          ]
        },
        {
          "name": "stderr",
          "output_type": "stream",
          "text": [
            "\r 84%|████████▎ | 409/489 [27:01<05:14,  3.93s/it]"
          ]
        },
        {
          "name": "stdout",
          "output_type": "stream",
          "text": [
            "Crawl data 173789184 success !!!\n"
          ]
        },
        {
          "name": "stderr",
          "output_type": "stream",
          "text": [
            "\r 84%|████████▍ | 410/489 [27:06<05:21,  4.07s/it]"
          ]
        },
        {
          "name": "stdout",
          "output_type": "stream",
          "text": [
            "Crawl data 117347869 success !!!\n"
          ]
        },
        {
          "name": "stderr",
          "output_type": "stream",
          "text": [
            "\r 84%|████████▍ | 411/489 [27:10<05:23,  4.15s/it]"
          ]
        },
        {
          "name": "stdout",
          "output_type": "stream",
          "text": [
            "Crawl data 156222386 success !!!\n"
          ]
        },
        {
          "name": "stderr",
          "output_type": "stream",
          "text": [
            "\r 84%|████████▍ | 412/489 [27:15<05:24,  4.22s/it]"
          ]
        },
        {
          "name": "stdout",
          "output_type": "stream",
          "text": [
            "Crawl data 181977398 success !!!\n"
          ]
        },
        {
          "name": "stderr",
          "output_type": "stream",
          "text": [
            "\r 84%|████████▍ | 413/489 [27:18<05:01,  3.96s/it]"
          ]
        },
        {
          "name": "stdout",
          "output_type": "stream",
          "text": [
            "Crawl data 117929342 success !!!\n"
          ]
        },
        {
          "name": "stderr",
          "output_type": "stream",
          "text": [
            "\r 85%|████████▍ | 414/489 [27:21<04:43,  3.78s/it]"
          ]
        },
        {
          "name": "stdout",
          "output_type": "stream",
          "text": [
            "Crawl data 118100268 success !!!\n"
          ]
        },
        {
          "name": "stderr",
          "output_type": "stream",
          "text": [
            "\r 85%|████████▍ | 415/489 [27:25<04:30,  3.65s/it]"
          ]
        },
        {
          "name": "stdout",
          "output_type": "stream",
          "text": [
            "Crawl data 94453667 success !!!\n"
          ]
        },
        {
          "name": "stderr",
          "output_type": "stream",
          "text": [
            "\r 85%|████████▌ | 416/489 [27:29<04:41,  3.86s/it]"
          ]
        },
        {
          "name": "stdout",
          "output_type": "stream",
          "text": [
            "Crawl data 102620086 success !!!\n"
          ]
        },
        {
          "name": "stderr",
          "output_type": "stream",
          "text": [
            "\r 85%|████████▌ | 417/489 [27:32<04:26,  3.70s/it]"
          ]
        },
        {
          "name": "stdout",
          "output_type": "stream",
          "text": [
            "Crawl data 164318507 success !!!\n"
          ]
        },
        {
          "name": "stderr",
          "output_type": "stream",
          "text": [
            "\r 85%|████████▌ | 418/489 [27:36<04:15,  3.59s/it]"
          ]
        },
        {
          "name": "stdout",
          "output_type": "stream",
          "text": [
            "Crawl data 275774235 success !!!\n"
          ]
        },
        {
          "name": "stderr",
          "output_type": "stream",
          "text": [
            "\r 86%|████████▌ | 419/489 [27:39<04:06,  3.52s/it]"
          ]
        },
        {
          "name": "stdout",
          "output_type": "stream",
          "text": [
            "Crawl data 118100164 success !!!\n"
          ]
        },
        {
          "name": "stderr",
          "output_type": "stream",
          "text": [
            "\r 86%|████████▌ | 420/489 [27:43<04:19,  3.77s/it]"
          ]
        },
        {
          "name": "stdout",
          "output_type": "stream",
          "text": [
            "Crawl data 125171841 success !!!\n"
          ]
        },
        {
          "name": "stderr",
          "output_type": "stream",
          "text": [
            "\r 86%|████████▌ | 421/489 [27:47<04:09,  3.66s/it]"
          ]
        },
        {
          "name": "stdout",
          "output_type": "stream",
          "text": [
            "Crawl data 251772653 success !!!\n"
          ]
        },
        {
          "name": "stderr",
          "output_type": "stream",
          "text": [
            "\r 86%|████████▋ | 422/489 [27:51<04:21,  3.91s/it]"
          ]
        },
        {
          "name": "stdout",
          "output_type": "stream",
          "text": [
            "Crawl data 15428119 success !!!\n"
          ]
        },
        {
          "name": "stderr",
          "output_type": "stream",
          "text": [
            "\r 87%|████████▋ | 423/489 [27:56<04:27,  4.05s/it]"
          ]
        },
        {
          "name": "stdout",
          "output_type": "stream",
          "text": [
            "Crawl data 181927718 success !!!\n"
          ]
        },
        {
          "name": "stderr",
          "output_type": "stream",
          "text": [
            "\r 87%|████████▋ | 424/489 [28:00<04:28,  4.14s/it]"
          ]
        },
        {
          "name": "stdout",
          "output_type": "stream",
          "text": [
            "Crawl data 118136229 success !!!\n"
          ]
        },
        {
          "name": "stderr",
          "output_type": "stream",
          "text": [
            "\r 87%|████████▋ | 425/489 [28:04<04:28,  4.20s/it]"
          ]
        },
        {
          "name": "stdout",
          "output_type": "stream",
          "text": [
            "Crawl data 198868573 success !!!\n"
          ]
        },
        {
          "name": "stderr",
          "output_type": "stream",
          "text": [
            "\r 87%|████████▋ | 426/489 [28:08<04:08,  3.94s/it]"
          ]
        },
        {
          "name": "stdout",
          "output_type": "stream",
          "text": [
            "Crawl data 198868735 success !!!\n"
          ]
        },
        {
          "name": "stderr",
          "output_type": "stream",
          "text": [
            "\r 87%|████████▋ | 427/489 [28:11<03:52,  3.75s/it]"
          ]
        },
        {
          "name": "stdout",
          "output_type": "stream",
          "text": [
            "Crawl data 172537996 success !!!\n"
          ]
        },
        {
          "name": "stderr",
          "output_type": "stream",
          "text": [
            "\r 88%|████████▊ | 428/489 [28:14<03:41,  3.63s/it]"
          ]
        },
        {
          "name": "stdout",
          "output_type": "stream",
          "text": [
            "Crawl data 170727305 success !!!\n"
          ]
        },
        {
          "name": "stderr",
          "output_type": "stream",
          "text": [
            "\r 88%|████████▊ | 429/489 [28:19<03:51,  3.85s/it]"
          ]
        },
        {
          "name": "stdout",
          "output_type": "stream",
          "text": [
            "Crawl data 249890023 success !!!\n"
          ]
        },
        {
          "name": "stderr",
          "output_type": "stream",
          "text": [
            "\r 88%|████████▊ | 430/489 [28:22<03:39,  3.71s/it]"
          ]
        },
        {
          "name": "stdout",
          "output_type": "stream",
          "text": [
            "Crawl data 274116886 success !!!\n"
          ]
        },
        {
          "name": "stderr",
          "output_type": "stream",
          "text": [
            "\r 88%|████████▊ | 431/489 [28:25<03:30,  3.62s/it]"
          ]
        },
        {
          "name": "stdout",
          "output_type": "stream",
          "text": [
            "Crawl data 247299188 success !!!\n"
          ]
        },
        {
          "name": "stderr",
          "output_type": "stream",
          "text": [
            "\r 88%|████████▊ | 432/489 [28:30<03:40,  3.87s/it]"
          ]
        },
        {
          "name": "stdout",
          "output_type": "stream",
          "text": [
            "Crawl data 204671569 success !!!\n"
          ]
        },
        {
          "name": "stderr",
          "output_type": "stream",
          "text": [
            "\r 89%|████████▊ | 433/489 [28:34<03:45,  4.03s/it]"
          ]
        },
        {
          "name": "stdout",
          "output_type": "stream",
          "text": [
            "Crawl data 275716541 success !!!\n"
          ]
        },
        {
          "name": "stderr",
          "output_type": "stream",
          "text": [
            "\r 89%|████████▉ | 434/489 [28:39<03:47,  4.14s/it]"
          ]
        },
        {
          "name": "stdout",
          "output_type": "stream",
          "text": [
            "Crawl data 249178196 success !!!\n"
          ]
        },
        {
          "name": "stderr",
          "output_type": "stream",
          "text": [
            "\r 89%|████████▉ | 435/489 [28:43<03:47,  4.21s/it]"
          ]
        },
        {
          "name": "stdout",
          "output_type": "stream",
          "text": [
            "Crawl data 249168949 success !!!\n"
          ]
        },
        {
          "name": "stderr",
          "output_type": "stream",
          "text": [
            "\r 89%|████████▉ | 436/489 [28:47<03:45,  4.26s/it]"
          ]
        },
        {
          "name": "stdout",
          "output_type": "stream",
          "text": [
            "Crawl data 118103703 success !!!\n"
          ]
        },
        {
          "name": "stderr",
          "output_type": "stream",
          "text": [
            "\r 89%|████████▉ | 437/489 [28:52<03:42,  4.29s/it]"
          ]
        },
        {
          "name": "stdout",
          "output_type": "stream",
          "text": [
            "Crawl data 275774747 success !!!\n"
          ]
        },
        {
          "name": "stderr",
          "output_type": "stream",
          "text": [
            "\r 90%|████████▉ | 438/489 [28:55<03:26,  4.04s/it]"
          ]
        },
        {
          "name": "stdout",
          "output_type": "stream",
          "text": [
            "Crawl data 275773881 success !!!\n"
          ]
        },
        {
          "name": "stderr",
          "output_type": "stream",
          "text": [
            "\r 90%|████████▉ | 439/489 [28:59<03:12,  3.85s/it]"
          ]
        },
        {
          "name": "stdout",
          "output_type": "stream",
          "text": [
            "Crawl data 273360836 success !!!\n"
          ]
        },
        {
          "name": "stderr",
          "output_type": "stream",
          "text": [
            "\r 90%|████████▉ | 440/489 [29:03<03:16,  4.00s/it]"
          ]
        },
        {
          "name": "stdout",
          "output_type": "stream",
          "text": [
            "Crawl data 275775952 success !!!\n"
          ]
        },
        {
          "name": "stderr",
          "output_type": "stream",
          "text": [
            "\r 90%|█████████ | 441/489 [29:07<03:18,  4.14s/it]"
          ]
        },
        {
          "name": "stdout",
          "output_type": "stream",
          "text": [
            "Crawl data 271730109 success !!!\n"
          ]
        },
        {
          "name": "stderr",
          "output_type": "stream",
          "text": [
            "\r 90%|█████████ | 442/489 [29:11<03:03,  3.90s/it]"
          ]
        },
        {
          "name": "stdout",
          "output_type": "stream",
          "text": [
            "Crawl data 193366048 success !!!\n"
          ]
        },
        {
          "name": "stderr",
          "output_type": "stream",
          "text": [
            "\r 91%|█████████ | 443/489 [29:14<02:52,  3.76s/it]"
          ]
        },
        {
          "name": "stdout",
          "output_type": "stream",
          "text": [
            "Crawl data 273232944 success !!!\n"
          ]
        },
        {
          "name": "stderr",
          "output_type": "stream",
          "text": [
            "\r 91%|█████████ | 444/489 [29:19<02:57,  3.94s/it]"
          ]
        },
        {
          "name": "stdout",
          "output_type": "stream",
          "text": [
            "Crawl data 262516014 success !!!\n"
          ]
        },
        {
          "name": "stderr",
          "output_type": "stream",
          "text": [
            "\r 91%|█████████ | 445/489 [29:24<03:06,  4.24s/it]"
          ]
        },
        {
          "name": "stdout",
          "output_type": "stream",
          "text": [
            "Crawl data 274156763 success !!!\n"
          ]
        },
        {
          "name": "stderr",
          "output_type": "stream",
          "text": [
            "\r 91%|█████████ | 446/489 [29:27<02:52,  4.00s/it]"
          ]
        },
        {
          "name": "stdout",
          "output_type": "stream",
          "text": [
            "Crawl data 263438199 success !!!\n"
          ]
        },
        {
          "name": "stderr",
          "output_type": "stream",
          "text": [
            "\r 91%|█████████▏| 447/489 [29:30<02:40,  3.82s/it]"
          ]
        },
        {
          "name": "stdout",
          "output_type": "stream",
          "text": [
            "Crawl data 270832077 success !!!\n"
          ]
        },
        {
          "name": "stderr",
          "output_type": "stream",
          "text": [
            "\r 92%|█████████▏| 448/489 [29:34<02:31,  3.70s/it]"
          ]
        },
        {
          "name": "stdout",
          "output_type": "stream",
          "text": [
            "Crawl data 274639670 success !!!\n"
          ]
        },
        {
          "name": "stderr",
          "output_type": "stream",
          "text": [
            "\r 92%|█████████▏| 449/489 [29:38<02:32,  3.82s/it]"
          ]
        },
        {
          "name": "stdout",
          "output_type": "stream",
          "text": [
            "Crawl data 275774237 success !!!\n"
          ]
        },
        {
          "name": "stderr",
          "output_type": "stream",
          "text": [
            "\r 92%|█████████▏| 450/489 [29:42<02:35,  3.98s/it]"
          ]
        },
        {
          "name": "stdout",
          "output_type": "stream",
          "text": [
            "Crawl data 249782771 success !!!\n"
          ]
        },
        {
          "name": "stderr",
          "output_type": "stream",
          "text": [
            "\r 92%|█████████▏| 451/489 [29:46<02:24,  3.80s/it]"
          ]
        },
        {
          "name": "stdout",
          "output_type": "stream",
          "text": [
            "Crawl data 52002453 success !!!\n"
          ]
        },
        {
          "name": "stderr",
          "output_type": "stream",
          "text": [
            "\r 92%|█████████▏| 452/489 [29:49<02:15,  3.66s/it]"
          ]
        },
        {
          "name": "stdout",
          "output_type": "stream",
          "text": [
            "Crawl data 273231495 success !!!\n"
          ]
        },
        {
          "name": "stderr",
          "output_type": "stream",
          "text": [
            "\r 93%|█████████▎| 453/489 [29:52<02:08,  3.58s/it]"
          ]
        },
        {
          "name": "stdout",
          "output_type": "stream",
          "text": [
            "Crawl data 273659145 success !!!\n"
          ]
        },
        {
          "name": "stderr",
          "output_type": "stream",
          "text": [
            "\r 93%|█████████▎| 454/489 [29:56<02:03,  3.54s/it]"
          ]
        },
        {
          "name": "stdout",
          "output_type": "stream",
          "text": [
            "Crawl data 248754839 success !!!\n"
          ]
        },
        {
          "name": "stderr",
          "output_type": "stream",
          "text": [
            "\r 93%|█████████▎| 455/489 [30:00<02:09,  3.81s/it]"
          ]
        },
        {
          "name": "stdout",
          "output_type": "stream",
          "text": [
            "Crawl data 275504716 success !!!\n"
          ]
        },
        {
          "name": "stderr",
          "output_type": "stream",
          "text": [
            "\r 93%|█████████▎| 456/489 [30:04<02:01,  3.68s/it]"
          ]
        },
        {
          "name": "stdout",
          "output_type": "stream",
          "text": [
            "Crawl data 249534908 success !!!\n"
          ]
        },
        {
          "name": "stderr",
          "output_type": "stream",
          "text": [
            "\r 93%|█████████▎| 457/489 [30:07<01:55,  3.61s/it]"
          ]
        },
        {
          "name": "stdout",
          "output_type": "stream",
          "text": [
            "Crawl data 200848570 success !!!\n"
          ]
        },
        {
          "name": "stderr",
          "output_type": "stream",
          "text": [
            "\r 94%|█████████▎| 458/489 [30:12<01:59,  3.86s/it]"
          ]
        },
        {
          "name": "stdout",
          "output_type": "stream",
          "text": [
            "Crawl data 275774447 success !!!\n"
          ]
        },
        {
          "name": "stderr",
          "output_type": "stream",
          "text": [
            "\r 94%|█████████▍| 459/489 [30:16<02:00,  4.01s/it]"
          ]
        },
        {
          "name": "stdout",
          "output_type": "stream",
          "text": [
            "Crawl data 219400421 success !!!\n"
          ]
        },
        {
          "name": "stderr",
          "output_type": "stream",
          "text": [
            "\r 94%|█████████▍| 460/489 [30:20<01:59,  4.11s/it]"
          ]
        },
        {
          "name": "stdout",
          "output_type": "stream",
          "text": [
            "Crawl data 275773562 success !!!\n"
          ]
        },
        {
          "name": "stderr",
          "output_type": "stream",
          "text": [
            "\r 94%|█████████▍| 461/489 [30:24<01:49,  3.91s/it]"
          ]
        },
        {
          "name": "stdout",
          "output_type": "stream",
          "text": [
            "Crawl data 275776403 success !!!\n"
          ]
        },
        {
          "name": "stderr",
          "output_type": "stream",
          "text": [
            "\r 94%|█████████▍| 462/489 [30:27<01:41,  3.75s/it]"
          ]
        },
        {
          "name": "stdout",
          "output_type": "stream",
          "text": [
            "Crawl data 275775805 success !!!\n"
          ]
        },
        {
          "name": "stderr",
          "output_type": "stream",
          "text": [
            "\r 95%|█████████▍| 463/489 [30:32<01:44,  4.01s/it]"
          ]
        },
        {
          "name": "stdout",
          "output_type": "stream",
          "text": [
            "Crawl data 16523479 success !!!\n"
          ]
        },
        {
          "name": "stderr",
          "output_type": "stream",
          "text": [
            "\r 95%|█████████▍| 464/489 [30:36<01:42,  4.11s/it]"
          ]
        },
        {
          "name": "stdout",
          "output_type": "stream",
          "text": [
            "Crawl data 275386465 success !!!\n"
          ]
        },
        {
          "name": "stderr",
          "output_type": "stream",
          "text": [
            "\r 95%|█████████▌| 465/489 [30:40<01:40,  4.19s/it]"
          ]
        },
        {
          "name": "stdout",
          "output_type": "stream",
          "text": [
            "Crawl data 275621214 success !!!\n"
          ]
        },
        {
          "name": "stderr",
          "output_type": "stream",
          "text": [
            "\r 95%|█████████▌| 466/489 [30:44<01:31,  3.96s/it]"
          ]
        },
        {
          "name": "stdout",
          "output_type": "stream",
          "text": [
            "Crawl data 273511450 success !!!\n"
          ]
        },
        {
          "name": "stderr",
          "output_type": "stream",
          "text": [
            "\r 96%|█████████▌| 467/489 [30:47<01:23,  3.80s/it]"
          ]
        },
        {
          "name": "stdout",
          "output_type": "stream",
          "text": [
            "Crawl data 248762051 success !!!\n"
          ]
        },
        {
          "name": "stderr",
          "output_type": "stream",
          "text": [
            "\r 96%|█████████▌| 468/489 [30:52<01:23,  3.98s/it]"
          ]
        },
        {
          "name": "stdout",
          "output_type": "stream",
          "text": [
            "Crawl data 217276360 success !!!\n"
          ]
        },
        {
          "name": "stderr",
          "output_type": "stream",
          "text": [
            "\r 96%|█████████▌| 469/489 [30:56<01:22,  4.11s/it]"
          ]
        },
        {
          "name": "stdout",
          "output_type": "stream",
          "text": [
            "Crawl data 11251937 success !!!\n"
          ]
        },
        {
          "name": "stderr",
          "output_type": "stream",
          "text": [
            "\r 96%|█████████▌| 470/489 [31:00<01:19,  4.20s/it]"
          ]
        },
        {
          "name": "stdout",
          "output_type": "stream",
          "text": [
            "Crawl data 221274391 success !!!\n"
          ]
        },
        {
          "name": "stderr",
          "output_type": "stream",
          "text": [
            "\r 96%|█████████▋| 471/489 [31:04<01:11,  3.98s/it]"
          ]
        },
        {
          "name": "stdout",
          "output_type": "stream",
          "text": [
            "Crawl data 275716542 success !!!\n"
          ]
        },
        {
          "name": "stderr",
          "output_type": "stream",
          "text": [
            "\r 97%|█████████▋| 472/489 [31:08<01:09,  4.10s/it]"
          ]
        },
        {
          "name": "stdout",
          "output_type": "stream",
          "text": [
            "Crawl data 249169833 success !!!\n"
          ]
        },
        {
          "name": "stderr",
          "output_type": "stream",
          "text": [
            "\r 97%|█████████▋| 473/489 [31:12<01:02,  3.88s/it]"
          ]
        },
        {
          "name": "stdout",
          "output_type": "stream",
          "text": [
            "Crawl data 275774763 success !!!\n"
          ]
        },
        {
          "name": "stderr",
          "output_type": "stream",
          "text": [
            "\r 97%|█████████▋| 474/489 [31:15<00:55,  3.72s/it]"
          ]
        },
        {
          "name": "stdout",
          "output_type": "stream",
          "text": [
            "Crawl data 275774892 success !!!\n"
          ]
        },
        {
          "name": "stderr",
          "output_type": "stream",
          "text": [
            "\r 97%|█████████▋| 475/489 [31:19<00:54,  3.93s/it]"
          ]
        },
        {
          "name": "stdout",
          "output_type": "stream",
          "text": [
            "Crawl data 275774627 success !!!\n"
          ]
        },
        {
          "name": "stderr",
          "output_type": "stream",
          "text": [
            "\r 97%|█████████▋| 476/489 [31:24<00:52,  4.07s/it]"
          ]
        },
        {
          "name": "stdout",
          "output_type": "stream",
          "text": [
            "Crawl data 247427990 success !!!\n"
          ]
        },
        {
          "name": "stderr",
          "output_type": "stream",
          "text": [
            "\r 98%|█████████▊| 477/489 [31:28<00:50,  4.17s/it]"
          ]
        },
        {
          "name": "stdout",
          "output_type": "stream",
          "text": [
            "Crawl data 273684137 success !!!\n"
          ]
        },
        {
          "name": "stderr",
          "output_type": "stream",
          "text": [
            "\r 98%|█████████▊| 478/489 [31:32<00:43,  3.95s/it]"
          ]
        },
        {
          "name": "stdout",
          "output_type": "stream",
          "text": [
            "Crawl data 191764688 success !!!\n"
          ]
        },
        {
          "name": "stderr",
          "output_type": "stream",
          "text": [
            "\r 98%|█████████▊| 479/489 [31:35<00:38,  3.82s/it]"
          ]
        },
        {
          "name": "stdout",
          "output_type": "stream",
          "text": [
            "Crawl data 263438008 success !!!\n"
          ]
        },
        {
          "name": "stderr",
          "output_type": "stream",
          "text": [
            "\r 98%|█████████▊| 480/489 [31:40<00:35,  3.99s/it]"
          ]
        },
        {
          "name": "stdout",
          "output_type": "stream",
          "text": [
            "Crawl data 219392186 success !!!\n"
          ]
        },
        {
          "name": "stderr",
          "output_type": "stream",
          "text": [
            "\r 98%|█████████▊| 481/489 [31:43<00:30,  3.80s/it]"
          ]
        },
        {
          "name": "stdout",
          "output_type": "stream",
          "text": [
            "Crawl data 251448280 success !!!\n"
          ]
        },
        {
          "name": "stderr",
          "output_type": "stream",
          "text": [
            "\r 99%|█████████▊| 482/489 [31:47<00:27,  3.96s/it]"
          ]
        },
        {
          "name": "stdout",
          "output_type": "stream",
          "text": [
            "Crawl data 275773439 success !!!\n"
          ]
        },
        {
          "name": "stderr",
          "output_type": "stream",
          "text": [
            "\r 99%|█████████▉| 483/489 [31:52<00:24,  4.10s/it]"
          ]
        },
        {
          "name": "stdout",
          "output_type": "stream",
          "text": [
            "Crawl data 16518729 success !!!\n"
          ]
        },
        {
          "name": "stderr",
          "output_type": "stream",
          "text": [
            "\r 99%|█████████▉| 484/489 [31:56<00:20,  4.17s/it]"
          ]
        },
        {
          "name": "stdout",
          "output_type": "stream",
          "text": [
            "Crawl data 249143473 success !!!\n"
          ]
        },
        {
          "name": "stderr",
          "output_type": "stream",
          "text": [
            "\r 99%|█████████▉| 485/489 [32:01<00:17,  4.26s/it]"
          ]
        },
        {
          "name": "stdout",
          "output_type": "stream",
          "text": [
            "Crawl data 248005118 success !!!\n"
          ]
        },
        {
          "name": "stderr",
          "output_type": "stream",
          "text": [
            "\r 99%|█████████▉| 486/489 [32:04<00:12,  4.02s/it]"
          ]
        },
        {
          "name": "stdout",
          "output_type": "stream",
          "text": [
            "Crawl data 275775821 success !!!\n"
          ]
        },
        {
          "name": "stderr",
          "output_type": "stream",
          "text": [
            "\r100%|█████████▉| 487/489 [32:08<00:08,  4.14s/it]"
          ]
        },
        {
          "name": "stdout",
          "output_type": "stream",
          "text": [
            "Crawl data 198648645 success !!!\n"
          ]
        },
        {
          "name": "stderr",
          "output_type": "stream",
          "text": [
            "\r100%|█████████▉| 488/489 [32:13<00:04,  4.22s/it]"
          ]
        },
        {
          "name": "stdout",
          "output_type": "stream",
          "text": [
            "Crawl data 275571988 success !!!\n"
          ]
        },
        {
          "name": "stderr",
          "output_type": "stream",
          "text": [
            "100%|██████████| 489/489 [32:16<00:00,  3.96s/it]\n"
          ]
        }
      ],
      "source": [
        "import pandas as pd\n",
        "import requests\n",
        "import time\n",
        "import random\n",
        "from tqdm import tqdm\n",
        "\n",
        "cookies = {\n",
        "    'TIKI_GUEST_TOKEN': '8jWSuIDBb2NGVzr6hsUZXpkP1FRin7lY',\n",
        "    'TOKENS': '{%22access_token%22:%228jWSuIDBb2NGVzr6hsUZXpkP1FRin7lY%22%2C%22expires_in%22:157680000%2C%22expires_at%22:1763654224277%2C%22guest_token%22:%228jWSuIDBb2NGVzr6hsUZXpkP1FRin7lY%22}',\n",
        "    'amp_99d374': 'eSc-_0HT1um7cb57E7dwA0...1enloc6a2.1enlohtdv.3.2.5',\n",
        "    'amp_99d374_tiki.vn': 'eSc-_0HT1um7cb57E7dwA0...1enloc6a2.1enlocds8.0.1.1',\n",
        "    '_gcl_au': '1.1.559117409.1605974236',\n",
        "    '_ants_utm_v2': '',\n",
        "    '_pk_id.638735871.2fc5': 'b92ae025fbbdb31f.1605974236.1.1605974420.1605974236.',\n",
        "    '_pk_ses.638735871.2fc5': '*',\n",
        "    '_trackity': '70e316b0-96f2-dbe1-a2ed-43ff60419991',\n",
        "    '_ga_NKX31X43RV': 'GS1.1.1605974235.1.1.1605974434.0',\n",
        "    '_ga': 'GA1.1.657946765.1605974236',\n",
        "    'ai_client_id': '11935756853.1605974227',\n",
        "    'an_session': 'zizkzrzjzlzizqzlzqzjzdzizizqzgzmzkzmzlzrzmzgzdzizlzjzmzqzkznzhzhzkzdzhzdzizlzjzmzqzkznzhzhzkzdzizlzjzmzqzkznzhzhzkzdzjzdzhzqzdzizd2f27zdzjzdzlzmzmznzq',\n",
        "    'au_aid': '11935756853',\n",
        "    'dgs': '1605974411%3A3%3A0',\n",
        "    'au_gt': '1605974227146',\n",
        "    '_ants_services': '%5B%22cuid%22%5D',\n",
        "    '__admUTMtime': '1605974236',\n",
        "    '__iid': '749',\n",
        "    '__su': '0',\n",
        "    '_bs': 'bb9a32f6-ab13-ce80-92d6-57fd3fd6e4c8',\n",
        "    '_gid': 'GA1.2.867846791.1605974237',\n",
        "    '_fbp': 'fb.1.1605974237134.1297408816',\n",
        "    '_hjid': 'f152cf33-7323-4410-b9ae-79f6622ebc48',\n",
        "    '_hjFirstSeen': '1',\n",
        "    '_hjIncludedInPageviewSample': '1',\n",
        "    '_hjAbsoluteSessionInProgress': '0',\n",
        "    '_hjIncludedInSessionSample': '1',\n",
        "    'tiki_client_id': '657946765.1605974236',\n",
        "    '__gads': 'ID=ae56424189ecccbe-227eb8e1d6c400a8:T=1605974229:RT=1605974229:S=ALNI_MZFWYf2BAjzCSiRNLC3bKI-W_7YHA',\n",
        "    'proxy_s_sv': '1605976041662',\n",
        "    'TKSESSID': '8bcd49b02e1e16aa1cdb795c54d7b460',\n",
        "    'TIKI_RECOMMENDATION': '21dd50e7f7c194df673ea3b717459249',\n",
        "    '_gat': '1',\n",
        "    'cto_bundle': 'i6f48l9NVXNkQmJ6aEVLcXNqbHdjcVZoQ0k2clladUF2N2xjZzJ1cjR6WG43UTVaRmglMkZXWUdtRnJTNHZRbmQ4SDAlMkZwRFhqQnppRHFxJTJCSEozZXBqRFM4ZHVxUjQ2TmklMkJIcnhJd3luZXpJSnBpcE1nJTNE',\n",
        "    'TIKI_RECENTLYVIEWED': '58259141',\n",
        "}\n",
        "\n",
        "headers = {\n",
        "    'User-Agent': 'Mozilla/5.0 (Windows NT 6.3; Win64; x64; rv:83.0) Gecko/20100101 Firefox/83.0',\n",
        "    'Accept': 'application/json, text/plain, */*',\n",
        "    'Accept-Language': 'vi-VN,vi;q=0.8,en-US;q=0.5,en;q=0.3',\n",
        "    'Referer': 'https://tiki.vn/dien-thoai-samsung-galaxy-m31-128gb-6gb-hang-chinh-hang-p58259141.html?src=category-page-1789&2hi=0',\n",
        "    'x-guest-token': '8jWSuIDBb2NGVzr6hsUZXpkP1FRin7lY',\n",
        "    'Connection': 'keep-alive',\n",
        "    'TE': 'Trailers',\n",
        "}\n",
        "\n",
        "params = (\n",
        "    ('platform', 'web'),\n",
        "    ('spid', 187266106)\n",
        ")\n",
        "\n",
        "def extract_all_specs(data, prefix=''):\n",
        "    specs = {}\n",
        "\n",
        "    # Nếu dữ liệu là danh sách\n",
        "    if isinstance(data, list):\n",
        "        for index, item in enumerate(data):\n",
        "            specs.update(extract_all_specs(item, f\"{prefix}[{index}]\"))\n",
        "\n",
        "    # Nếu dữ liệu là từ điển\n",
        "    elif isinstance(data, dict):\n",
        "        for key, value in data.items():\n",
        "            new_key = f\"{prefix}.{key}\" if prefix else key\n",
        "            specs.update(extract_all_specs(value, new_key))\n",
        "\n",
        "    # Nếu dữ liệu là giá trị cơ bản (chuỗi, số, v.v.)\n",
        "    else:\n",
        "        specs[prefix] = data\n",
        "\n",
        "    return specs\n",
        "\n",
        "df_id = pd.read_csv('product_id_ncds.csv')\n",
        "p_ids = df_id.id.to_list()\n",
        "print(p_ids)\n",
        "result = []\n",
        "for pid in tqdm(p_ids, total=len(p_ids)):\n",
        "    response = requests.get('https://tiki.vn/api/v2/products/{}'.format(pid), headers=headers, params=params, cookies=cookies)\n",
        "    if response.status_code == 200:\n",
        "        print('Crawl data {} success !!!'.format(pid))\n",
        "        try:\n",
        "            result.append(extract_all_specs(response.json()))\n",
        "        except:\n",
        "            print('Crawl data {} failed !!!'.format(pid))\n",
        "    else:\n",
        "        print('Crawl data {} failed !!!'.format(pid))\n",
        "    time.sleep(random.randrange(3, 5))\n",
        "df_product = pd.DataFrame(result)"
      ]
    },
    {
      "cell_type": "code",
      "execution_count": null,
      "metadata": {
        "id": "ygwjqUjtYylX"
      },
      "outputs": [],
      "source": [
        "import pandas as pd\n",
        "import requests\n",
        "import time\n",
        "import random\n",
        "from tqdm import tqdm\n",
        "\n",
        "cookies = {\n",
        "    'TIKI_GUEST_TOKEN': '8jWSuIDBb2NGVzr6hsUZXpkP1FRin7lY',\n",
        "    'TOKENS': '{%22access_token%22:%228jWSuIDBb2NGVzr6hsUZXpkP1FRin7lY%22%2C%22expires_in%22:157680000%2C%22expires_at%22:1763654224277%2C%22guest_token%22:%228jWSuIDBb2NGVzr6hsUZXpkP1FRin7lY%22}',\n",
        "    'amp_99d374': 'eSc-_0HT1um7cb57E7dwA0...1enloc6a2.1enlohtdv.3.2.5',\n",
        "    'amp_99d374_tiki.vn': 'eSc-_0HT1um7cb57E7dwA0...1enloc6a2.1enlocds8.0.1.1',\n",
        "    '_gcl_au': '1.1.559117409.1605974236',\n",
        "    '_ants_utm_v2': '',\n",
        "    '_pk_id.638735871.2fc5': 'b92ae025fbbdb31f.1605974236.1.1605974420.1605974236.',\n",
        "    '_pk_ses.638735871.2fc5': '*',\n",
        "    '_trackity': '70e316b0-96f2-dbe1-a2ed-43ff60419991',\n",
        "    '_ga_NKX31X43RV': 'GS1.1.1605974235.1.1.1605974434.0',\n",
        "    '_ga': 'GA1.1.657946765.1605974236',\n",
        "    'ai_client_id': '11935756853.1605974227',\n",
        "    'an_session': 'zizkzrzjzlzizqzlzqzjzdzizizqzgzmzkzmzlzrzmzgzdzizlzjzmzqzkznzhzhzkzdzhzdzizlzjzmzqzkznzhzhzkzdzizlzjzmzqzkznzhzhzkzdzjzdzhzqzdzizd2f27zdzjzdzlzmzmznzq',\n",
        "    'au_aid': '11935756853',\n",
        "    'dgs': '1605974411%3A3%3A0',\n",
        "    'au_gt': '1605974227146',\n",
        "    '_ants_services': '%5B%22cuid%22%5D',\n",
        "    '__admUTMtime': '1605974236',\n",
        "    '__iid': '749',\n",
        "    '__su': '0',\n",
        "    '_bs': 'bb9a32f6-ab13-ce80-92d6-57fd3fd6e4c8',\n",
        "    '_gid': 'GA1.2.867846791.1605974237',\n",
        "    '_fbp': 'fb.1.1605974237134.1297408816',\n",
        "    '_hjid': 'f152cf33-7323-4410-b9ae-79f6622ebc48',\n",
        "    '_hjFirstSeen': '1',\n",
        "    '_hjIncludedInPageviewSample': '1',\n",
        "    '_hjAbsoluteSessionInProgress': '0',\n",
        "    '_hjIncludedInSessionSample': '1',\n",
        "    'tiki_client_id': '657946765.1605974236',\n",
        "    '__gads': 'ID=ae56424189ecccbe-227eb8e1d6c400a8:T=1605974229:RT=1605974229:S=ALNI_MZFWYf2BAjzCSiRNLC3bKI-W_7YHA',\n",
        "    'proxy_s_sv': '1605976041662',\n",
        "    'TKSESSID': '8bcd49b02e1e16aa1cdb795c54d7b460',\n",
        "    'TIKI_RECOMMENDATION': '21dd50e7f7c194df673ea3b717459249',\n",
        "    '_gat': '1',\n",
        "    'cto_bundle': 'i6f48l9NVXNkQmJ6aEVLcXNqbHdjcVZoQ0k2clladUF2N2xjZzJ1cjR6WG43UTVaRmglMkZXWUdtRnJTNHZRbmQ4SDAlMkZwRFhqQnppRHFxJTJCSEozZXBqRFM4ZHVxUjQ2TmklMkJIcnhJd3luZXpJSnBpcE1nJTNE',\n",
        "    'TIKI_RECENTLYVIEWED': '58259141',\n",
        "}\n",
        "\n",
        "headers = {\n",
        "    'User-Agent': 'Mozilla/5.0 (Windows NT 6.3; Win64; x64; rv:83.0) Gecko/20100101 Firefox/83.0',\n",
        "    'Accept': 'application/json, text/plain, */*',\n",
        "    'Accept-Language': 'vi-VN,vi;q=0.8,en-US;q=0.5,en;q=0.3',\n",
        "    'Referer': 'https://tiki.vn/dien-thoai-samsung-galaxy-m31-128gb-6gb-hang-chinh-hang-p58259141.html?src=category-page-1789&2hi=0',\n",
        "    'x-guest-token': '8jWSuIDBb2NGVzr6hsUZXpkP1FRin7lY',\n",
        "    'Connection': 'keep-alive',\n",
        "    'TE': 'Trailers',\n",
        "}\n",
        "\n",
        "params = (\n",
        "    ('platform', 'web'),\n",
        "    ('spid', 187266106)\n",
        ")\n",
        "\n",
        "def extract_spec_value(data, keys):\n",
        "    if isinstance(data, dict):\n",
        "        for key, value in data.items():\n",
        "            if key in keys:\n",
        "                yield (key, value)\n",
        "            else:\n",
        "                yield from extract_spec_value(value, keys)\n",
        "    elif isinstance(data, list):\n",
        "        for item in data:\n",
        "            yield from extract_spec_value(item, keys)\n",
        "\n",
        "def extract_all_specs(data, keys=None):\n",
        "    if keys is None:\n",
        "        keys = ['Tên', 'Giá', 'RAM', 'ROM', 'Dung lượng pin', 'Thương hiệu', 'Kích thước màn hình', 'Chip set', 'Camera sau']\n",
        "\n",
        "    specs = {}\n",
        "    for key, value in extract_spec_value(data, keys):\n",
        "        specs[key] = value\n",
        "\n",
        "    return specs\n",
        "\n",
        "# Đọc danh sách product ID\n",
        "df_id = pd.read_csv('product_id_ncds.csv')\n",
        "p_ids = df_id.id.to_list()\n",
        "print(p_ids)\n",
        "\n",
        "result = []\n",
        "for pid in tqdm(p_ids, total=len(p_ids)):\n",
        "    response = requests.get('https://tiki.vn/api/v2/products/{}'.format(pid), headers=headers, params=params, cookies=cookies)\n",
        "    if response.status_code == 200:\n",
        "        print('Crawl data {} success !!!'.format(pid))\n",
        "        try:\n",
        "            result.append(extract_all_specs(response.json()))\n",
        "        except Exception as e:\n",
        "            print(f'Crawl data {pid} failed !!! Error: {e}')\n",
        "    else:\n",
        "        print('Crawl data {} failed !!!'.format(pid))\n",
        "    time.sleep(random.randrange(3, 5))\n",
        "\n",
        "# Tạo DataFrame từ kết quả\n",
        "df_product = pd.DataFrame(result)\n",
        "\n",
        "# Xuất DataFrame để kiểm tra\n",
        "print(df_product.head())"
      ]
    },
    {
      "cell_type": "code",
      "execution_count": null,
      "metadata": {
        "id": "mTVXQne7wnza"
      },
      "outputs": [],
      "source": [
        "df_product.to_csv('crawled_data_tiki.csv', index=False)"
      ]
    },
    {
      "cell_type": "markdown",
      "metadata": {
        "id": "x-Ax5QQL8__F"
      },
      "source": [
        "#**Thu thập dữ liệu từ trang web Cellphones**"
      ]
    },
    {
      "cell_type": "code",
      "execution_count": 1,
      "metadata": {
        "colab": {
          "base_uri": "https://localhost:8080/"
        },
        "collapsed": true,
        "id": "gGpHfZc9BqsI",
        "outputId": "b8c4b078-3c7f-4ff0-e26f-43de72808e22"
      },
      "outputs": [
        {
          "output_type": "stream",
          "name": "stdout",
          "text": [
            "Collecting selenium\n",
            "  Downloading selenium-4.23.1-py3-none-any.whl.metadata (7.1 kB)\n",
            "Requirement already satisfied: urllib3<3,>=1.26 in /usr/local/lib/python3.10/dist-packages (from urllib3[socks]<3,>=1.26->selenium) (2.0.7)\n",
            "Collecting trio~=0.17 (from selenium)\n",
            "  Downloading trio-0.26.2-py3-none-any.whl.metadata (8.6 kB)\n",
            "Collecting trio-websocket~=0.9 (from selenium)\n",
            "  Downloading trio_websocket-0.11.1-py3-none-any.whl.metadata (4.7 kB)\n",
            "Requirement already satisfied: certifi>=2021.10.8 in /usr/local/lib/python3.10/dist-packages (from selenium) (2024.7.4)\n",
            "Requirement already satisfied: typing_extensions~=4.9 in /usr/local/lib/python3.10/dist-packages (from selenium) (4.12.2)\n",
            "Requirement already satisfied: websocket-client~=1.8 in /usr/local/lib/python3.10/dist-packages (from selenium) (1.8.0)\n",
            "Requirement already satisfied: attrs>=23.2.0 in /usr/local/lib/python3.10/dist-packages (from trio~=0.17->selenium) (24.2.0)\n",
            "Requirement already satisfied: sortedcontainers in /usr/local/lib/python3.10/dist-packages (from trio~=0.17->selenium) (2.4.0)\n",
            "Requirement already satisfied: idna in /usr/local/lib/python3.10/dist-packages (from trio~=0.17->selenium) (3.7)\n",
            "Collecting outcome (from trio~=0.17->selenium)\n",
            "  Downloading outcome-1.3.0.post0-py2.py3-none-any.whl.metadata (2.6 kB)\n",
            "Requirement already satisfied: sniffio>=1.3.0 in /usr/local/lib/python3.10/dist-packages (from trio~=0.17->selenium) (1.3.1)\n",
            "Requirement already satisfied: exceptiongroup in /usr/local/lib/python3.10/dist-packages (from trio~=0.17->selenium) (1.2.2)\n",
            "Collecting wsproto>=0.14 (from trio-websocket~=0.9->selenium)\n",
            "  Downloading wsproto-1.2.0-py3-none-any.whl.metadata (5.6 kB)\n",
            "Requirement already satisfied: pysocks!=1.5.7,<2.0,>=1.5.6 in /usr/local/lib/python3.10/dist-packages (from urllib3[socks]<3,>=1.26->selenium) (1.7.1)\n",
            "Collecting h11<1,>=0.9.0 (from wsproto>=0.14->trio-websocket~=0.9->selenium)\n",
            "  Downloading h11-0.14.0-py3-none-any.whl.metadata (8.2 kB)\n",
            "Downloading selenium-4.23.1-py3-none-any.whl (9.4 MB)\n",
            "\u001b[2K   \u001b[90m━━━━━━━━━━━━━━━━━━━━━━━━━━━━━━━━━━━━━━━━\u001b[0m \u001b[32m9.4/9.4 MB\u001b[0m \u001b[31m38.7 MB/s\u001b[0m eta \u001b[36m0:00:00\u001b[0m\n",
            "\u001b[?25hDownloading trio-0.26.2-py3-none-any.whl (475 kB)\n",
            "\u001b[2K   \u001b[90m━━━━━━━━━━━━━━━━━━━━━━━━━━━━━━━━━━━━━━━━\u001b[0m \u001b[32m476.0/476.0 kB\u001b[0m \u001b[31m26.3 MB/s\u001b[0m eta \u001b[36m0:00:00\u001b[0m\n",
            "\u001b[?25hDownloading trio_websocket-0.11.1-py3-none-any.whl (17 kB)\n",
            "Downloading wsproto-1.2.0-py3-none-any.whl (24 kB)\n",
            "Downloading outcome-1.3.0.post0-py2.py3-none-any.whl (10 kB)\n",
            "Downloading h11-0.14.0-py3-none-any.whl (58 kB)\n",
            "\u001b[2K   \u001b[90m━━━━━━━━━━━━━━━━━━━━━━━━━━━━━━━━━━━━━━━━\u001b[0m \u001b[32m58.3/58.3 kB\u001b[0m \u001b[31m4.4 MB/s\u001b[0m eta \u001b[36m0:00:00\u001b[0m\n",
            "\u001b[?25hInstalling collected packages: outcome, h11, wsproto, trio, trio-websocket, selenium\n",
            "Successfully installed h11-0.14.0 outcome-1.3.0.post0 selenium-4.23.1 trio-0.26.2 trio-websocket-0.11.1 wsproto-1.2.0\n",
            "Get:1 https://cloud.r-project.org/bin/linux/ubuntu jammy-cran40/ InRelease [3,626 B]\n",
            "Get:2 https://developer.download.nvidia.com/compute/cuda/repos/ubuntu2204/x86_64  InRelease [1,581 B]\n",
            "Hit:3 http://archive.ubuntu.com/ubuntu jammy InRelease\n",
            "Ign:4 https://r2u.stat.illinois.edu/ubuntu jammy InRelease\n",
            "Get:5 http://security.ubuntu.com/ubuntu jammy-security InRelease [129 kB]\n",
            "Get:6 http://archive.ubuntu.com/ubuntu jammy-updates InRelease [128 kB]\n",
            "Get:7 https://r2u.stat.illinois.edu/ubuntu jammy Release [5,713 B]\n",
            "Get:8 https://r2u.stat.illinois.edu/ubuntu jammy Release.gpg [793 B]\n",
            "Get:9 https://developer.download.nvidia.com/compute/cuda/repos/ubuntu2204/x86_64  Packages [945 kB]\n",
            "Get:10 http://archive.ubuntu.com/ubuntu jammy-backports InRelease [127 kB]\n",
            "Hit:11 https://ppa.launchpadcontent.net/deadsnakes/ppa/ubuntu jammy InRelease\n",
            "Get:12 https://ppa.launchpadcontent.net/graphics-drivers/ppa/ubuntu jammy InRelease [24.3 kB]\n",
            "Get:13 https://r2u.stat.illinois.edu/ubuntu jammy/main amd64 Packages [2,560 kB]\n",
            "Hit:14 https://ppa.launchpadcontent.net/ubuntugis/ppa/ubuntu jammy InRelease\n",
            "Get:15 http://archive.ubuntu.com/ubuntu jammy-updates/universe amd64 Packages [1,425 kB]\n",
            "Get:16 http://archive.ubuntu.com/ubuntu jammy-updates/main amd64 Packages [2,498 kB]\n",
            "Get:17 https://r2u.stat.illinois.edu/ubuntu jammy/main all Packages [8,232 kB]\n",
            "Get:18 https://ppa.launchpadcontent.net/graphics-drivers/ppa/ubuntu jammy/main amd64 Packages [53.3 kB]\n",
            "Fetched 16.1 MB in 3s (4,816 kB/s)\n",
            "Reading package lists... Done\n",
            "W: Skipping acquire of configured file 'main/source/Sources' as repository 'https://r2u.stat.illinois.edu/ubuntu jammy InRelease' does not seem to provide it (sources.list entry misspelt?)\n",
            "Reading package lists... Done\n",
            "Building dependency tree... Done\n",
            "Reading state information... Done\n",
            "Note, selecting 'chromium-chromedriver' instead of 'chromium-driver'\n",
            "The following additional packages will be installed:\n",
            "  apparmor chromium-browser libfuse3-3 liblzo2-2 libudev1 snapd squashfs-tools systemd-hwe-hwdb\n",
            "  udev\n",
            "Suggested packages:\n",
            "  apparmor-profiles-extra apparmor-utils fuse3 zenity | kdialog\n",
            "The following NEW packages will be installed:\n",
            "  apparmor chromium-browser chromium-chromedriver libfuse3-3 liblzo2-2 snapd squashfs-tools\n",
            "  systemd-hwe-hwdb udev\n",
            "The following packages will be upgraded:\n",
            "  libudev1\n",
            "1 upgraded, 9 newly installed, 0 to remove and 57 not upgraded.\n",
            "Need to get 28.5 MB of archives.\n",
            "After this operation, 118 MB of additional disk space will be used.\n",
            "Get:1 http://archive.ubuntu.com/ubuntu jammy-updates/main amd64 apparmor amd64 3.0.4-2ubuntu2.3 [595 kB]\n",
            "Get:2 http://archive.ubuntu.com/ubuntu jammy/main amd64 liblzo2-2 amd64 2.10-2build3 [53.7 kB]\n",
            "Get:3 http://archive.ubuntu.com/ubuntu jammy/main amd64 squashfs-tools amd64 1:4.5-3build1 [159 kB]\n",
            "Get:4 http://archive.ubuntu.com/ubuntu jammy-updates/main amd64 libudev1 amd64 249.11-0ubuntu3.12 [78.2 kB]\n",
            "Get:5 http://archive.ubuntu.com/ubuntu jammy-updates/main amd64 udev amd64 249.11-0ubuntu3.12 [1,557 kB]\n",
            "Get:6 http://archive.ubuntu.com/ubuntu jammy/main amd64 libfuse3-3 amd64 3.10.5-1build1 [81.2 kB]\n",
            "Get:7 http://archive.ubuntu.com/ubuntu jammy-updates/main amd64 snapd amd64 2.63+22.04ubuntu0.1 [25.9 MB]\n",
            "Get:8 http://archive.ubuntu.com/ubuntu jammy-updates/universe amd64 chromium-browser amd64 1:85.0.4183.83-0ubuntu2.22.04.1 [49.2 kB]\n",
            "Get:9 http://archive.ubuntu.com/ubuntu jammy-updates/universe amd64 chromium-chromedriver amd64 1:85.0.4183.83-0ubuntu2.22.04.1 [2,308 B]\n",
            "Get:10 http://archive.ubuntu.com/ubuntu jammy-updates/main amd64 systemd-hwe-hwdb all 249.11.5 [3,228 B]\n",
            "Fetched 28.5 MB in 1s (19.7 MB/s)\n",
            "Preconfiguring packages ...\n",
            "Selecting previously unselected package apparmor.\n",
            "(Reading database ... 123595 files and directories currently installed.)\n",
            "Preparing to unpack .../apparmor_3.0.4-2ubuntu2.3_amd64.deb ...\n",
            "Unpacking apparmor (3.0.4-2ubuntu2.3) ...\n",
            "Selecting previously unselected package liblzo2-2:amd64.\n",
            "Preparing to unpack .../liblzo2-2_2.10-2build3_amd64.deb ...\n",
            "Unpacking liblzo2-2:amd64 (2.10-2build3) ...\n",
            "Selecting previously unselected package squashfs-tools.\n",
            "Preparing to unpack .../squashfs-tools_1%3a4.5-3build1_amd64.deb ...\n",
            "Unpacking squashfs-tools (1:4.5-3build1) ...\n",
            "Preparing to unpack .../libudev1_249.11-0ubuntu3.12_amd64.deb ...\n",
            "Unpacking libudev1:amd64 (249.11-0ubuntu3.12) over (249.11-0ubuntu3.10) ...\n",
            "Setting up libudev1:amd64 (249.11-0ubuntu3.12) ...\n",
            "Selecting previously unselected package udev.\n",
            "(Reading database ... 123803 files and directories currently installed.)\n",
            "Preparing to unpack .../udev_249.11-0ubuntu3.12_amd64.deb ...\n",
            "Unpacking udev (249.11-0ubuntu3.12) ...\n",
            "Selecting previously unselected package libfuse3-3:amd64.\n",
            "Preparing to unpack .../libfuse3-3_3.10.5-1build1_amd64.deb ...\n",
            "Unpacking libfuse3-3:amd64 (3.10.5-1build1) ...\n",
            "Selecting previously unselected package snapd.\n",
            "Preparing to unpack .../snapd_2.63+22.04ubuntu0.1_amd64.deb ...\n",
            "Unpacking snapd (2.63+22.04ubuntu0.1) ...\n",
            "Setting up apparmor (3.0.4-2ubuntu2.3) ...\n",
            "Created symlink /etc/systemd/system/sysinit.target.wants/apparmor.service → /lib/systemd/system/apparmor.service.\n",
            "Setting up liblzo2-2:amd64 (2.10-2build3) ...\n",
            "Setting up squashfs-tools (1:4.5-3build1) ...\n",
            "Setting up udev (249.11-0ubuntu3.12) ...\n",
            "invoke-rc.d: could not determine current runlevel\n",
            "invoke-rc.d: policy-rc.d denied execution of start.\n",
            "Setting up libfuse3-3:amd64 (3.10.5-1build1) ...\n",
            "Setting up snapd (2.63+22.04ubuntu0.1) ...\n",
            "Created symlink /etc/systemd/system/multi-user.target.wants/snapd.apparmor.service → /lib/systemd/system/snapd.apparmor.service.\n",
            "Created symlink /etc/systemd/system/multi-user.target.wants/snapd.autoimport.service → /lib/systemd/system/snapd.autoimport.service.\n",
            "Created symlink /etc/systemd/system/multi-user.target.wants/snapd.core-fixup.service → /lib/systemd/system/snapd.core-fixup.service.\n",
            "Created symlink /etc/systemd/system/multi-user.target.wants/snapd.recovery-chooser-trigger.service → /lib/systemd/system/snapd.recovery-chooser-trigger.service.\n",
            "Created symlink /etc/systemd/system/multi-user.target.wants/snapd.seeded.service → /lib/systemd/system/snapd.seeded.service.\n",
            "Created symlink /etc/systemd/system/cloud-final.service.wants/snapd.seeded.service → /lib/systemd/system/snapd.seeded.service.\n",
            "Unit /lib/systemd/system/snapd.seeded.service is added as a dependency to a non-existent unit cloud-final.service.\n",
            "Created symlink /etc/systemd/system/multi-user.target.wants/snapd.service → /lib/systemd/system/snapd.service.\n",
            "Created symlink /etc/systemd/system/timers.target.wants/snapd.snap-repair.timer → /lib/systemd/system/snapd.snap-repair.timer.\n",
            "Created symlink /etc/systemd/system/sockets.target.wants/snapd.socket → /lib/systemd/system/snapd.socket.\n",
            "Created symlink /etc/systemd/system/final.target.wants/snapd.system-shutdown.service → /lib/systemd/system/snapd.system-shutdown.service.\n",
            "Selecting previously unselected package chromium-browser.\n",
            "(Reading database ... 124033 files and directories currently installed.)\n",
            "Preparing to unpack .../chromium-browser_1%3a85.0.4183.83-0ubuntu2.22.04.1_amd64.deb ...\n",
            "=> Installing the chromium snap\n",
            "==> Checking connectivity with the snap store\n",
            "===> System doesn't have a working snapd, skipping\n",
            "Unpacking chromium-browser (1:85.0.4183.83-0ubuntu2.22.04.1) ...\n",
            "Selecting previously unselected package chromium-chromedriver.\n",
            "Preparing to unpack .../chromium-chromedriver_1%3a85.0.4183.83-0ubuntu2.22.04.1_amd64.deb ...\n",
            "Unpacking chromium-chromedriver (1:85.0.4183.83-0ubuntu2.22.04.1) ...\n",
            "Selecting previously unselected package systemd-hwe-hwdb.\n",
            "Preparing to unpack .../systemd-hwe-hwdb_249.11.5_all.deb ...\n",
            "Unpacking systemd-hwe-hwdb (249.11.5) ...\n",
            "Setting up systemd-hwe-hwdb (249.11.5) ...\n",
            "Setting up chromium-browser (1:85.0.4183.83-0ubuntu2.22.04.1) ...\n",
            "update-alternatives: using /usr/bin/chromium-browser to provide /usr/bin/x-www-browser (x-www-browser) in auto mode\n",
            "update-alternatives: using /usr/bin/chromium-browser to provide /usr/bin/gnome-www-browser (gnome-www-browser) in auto mode\n",
            "Setting up chromium-chromedriver (1:85.0.4183.83-0ubuntu2.22.04.1) ...\n",
            "Processing triggers for udev (249.11-0ubuntu3.12) ...\n",
            "Processing triggers for hicolor-icon-theme (0.17-2) ...\n",
            "Processing triggers for libc-bin (2.35-0ubuntu3.4) ...\n",
            "/sbin/ldconfig.real: /usr/local/lib/libtbbmalloc.so.2 is not a symbolic link\n",
            "\n",
            "/sbin/ldconfig.real: /usr/local/lib/libtbbbind_2_5.so.3 is not a symbolic link\n",
            "\n",
            "/sbin/ldconfig.real: /usr/local/lib/libur_loader.so.0 is not a symbolic link\n",
            "\n",
            "/sbin/ldconfig.real: /usr/local/lib/libur_adapter_opencl.so.0 is not a symbolic link\n",
            "\n",
            "/sbin/ldconfig.real: /usr/local/lib/libtbbmalloc_proxy.so.2 is not a symbolic link\n",
            "\n",
            "/sbin/ldconfig.real: /usr/local/lib/libtbb.so.12 is not a symbolic link\n",
            "\n",
            "/sbin/ldconfig.real: /usr/local/lib/libtbbbind_2_0.so.3 is not a symbolic link\n",
            "\n",
            "/sbin/ldconfig.real: /usr/local/lib/libtbbbind.so.3 is not a symbolic link\n",
            "\n",
            "/sbin/ldconfig.real: /usr/local/lib/libur_adapter_level_zero.so.0 is not a symbolic link\n",
            "\n",
            "Processing triggers for man-db (2.10.2-1) ...\n",
            "Processing triggers for dbus (1.12.20-2ubuntu4.1) ...\n"
          ]
        }
      ],
      "source": [
        "!pip install selenium\n",
        "!apt-get update\n",
        "!apt-get install chromium-driver"
      ]
    },
    {
      "cell_type": "code",
      "source": [
        "from selenium import webdriver\n",
        "from selenium.webdriver.common.by import By\n",
        "from selenium.common.exceptions import NoSuchElementException, TimeoutException, StaleElementReferenceException\n",
        "from selenium.webdriver.support.ui import WebDriverWait\n",
        "from selenium.webdriver.support import expected_conditions as EC\n",
        "import time\n",
        "\n",
        "def init_driver():\n",
        "    options = webdriver.ChromeOptions()\n",
        "    options.add_argument('--headless')\n",
        "    options.add_argument('--no-sandbox')\n",
        "    options.add_argument('--disable-gpu')\n",
        "    options.add_argument(\"--window-size=1920,1200\")\n",
        "    options.add_argument('--disable-dev-shm-usage')\n",
        "    driver = webdriver.Chrome(options=options)\n",
        "    return driver\n",
        "\n",
        "driver = init_driver()\n",
        "driver.get(\"https://cellphones.com.vn/mobile.html\")\n",
        "\n",
        "def wait_for_clickable_element(driver, by, value, timeout=10):\n",
        "    return WebDriverWait(driver, timeout).until(\n",
        "        EC.element_to_be_clickable((by, value))\n",
        "    )\n",
        "\n",
        "def remove_overlays(driver):\n",
        "    try:\n",
        "        overlays = driver.find_elements(By.CSS_SELECTOR, \"div[id^='ins-frameless-overlay']\")\n",
        "        for overlay in overlays:\n",
        "            driver.execute_script(\"arguments[0].style.display = 'none';\", overlay)\n",
        "    except NoSuchElementException:\n",
        "        pass\n",
        "\n",
        "def click_element(driver, element):\n",
        "    try:\n",
        "        driver.execute_script(\"arguments[0].scrollIntoView(true);\", element)\n",
        "        driver.execute_script(\"arguments[0].click();\", element)\n",
        "        return True\n",
        "    except Exception as e:\n",
        "        print(f\"Error clicking element: {e}\")\n",
        "        return False\n",
        "\n",
        "def crawl_data_from_page(driver):\n",
        "    click_count = 0\n",
        "    while click_count < 0:\n",
        "        try:\n",
        "            remove_overlays(driver)\n",
        "            show_more_button = wait_for_clickable_element(driver, By.CSS_SELECTOR, \"a.button.btn-show-more.button__show-more-product\")\n",
        "            if click_element(driver, show_more_button):\n",
        "                click_count += 1\n",
        "                print(f\"Đã click vào nút 'Xem thêm' lần thứ {click_count}\")\n",
        "            else:\n",
        "                print(\"Không thể click vào nút 'Xem thêm'\")\n",
        "                break\n",
        "        except TimeoutException:\n",
        "            print(\"Không còn nút 'Xem thêm'. Kết thúc.\")\n",
        "            break\n",
        "\n",
        "crawl_data_from_page(driver)\n",
        "\n",
        "def get_all_product_links(driver):\n",
        "    # Lấy danh sách các phần tử sản phẩm\n",
        "    products = driver.find_elements(By.CSS_SELECTOR, \"div.product-info\")\n",
        "    print(f\"Found {len(products)} products.\")\n",
        "\n",
        "    product_data = []\n",
        "\n",
        "    # Duyệt qua từng sản phẩm và lấy thông tin\n",
        "    for product in products:\n",
        "      try:\n",
        "          # Lấy liên kết sản phẩm\n",
        "          link_element = product.find_element(By.CSS_SELECTOR, \"a.product__link\")\n",
        "          product_link = link_element.get_attribute(\"href\")\n",
        "          product_data.append(product_link)\n",
        "          print(product_link)\n",
        "      except Exception as e:\n",
        "          continue\n",
        "    return product_data\n",
        "\n",
        "all_products_link = get_all_product_links(driver)"
      ],
      "metadata": {
        "colab": {
          "base_uri": "https://localhost:8080/"
        },
        "id": "47AZVupowF1C",
        "outputId": "55cdfbf6-9aec-48d9-853c-322e4d278217",
        "collapsed": true
      },
      "execution_count": null,
      "outputs": [
        {
          "output_type": "stream",
          "name": "stdout",
          "text": [
            "Found 40 products.\n",
            "https://cellphones.com.vn/samsung-galaxy-s24-ultra-512gb.html\n",
            "https://cellphones.com.vn/samsung-galaxy-s23-fe.html\n",
            "https://cellphones.com.vn/samsung-galaxy-s24-ultra-1tb.html\n",
            "https://cellphones.com.vn/samsung-galaxy-s24-plus.html\n",
            "https://cellphones.com.vn/samsung-galaxy-a35.html\n",
            "https://cellphones.com.vn/tecno-spark-go-2024.html\n",
            "https://cellphones.com.vn/samsung-galaxy-s24-plus-512gb.html\n",
            "https://cellphones.com.vn/tecno-spark-20-pro-plus.html\n",
            "https://cellphones.com.vn/oppo-reno10-pro-plus.html\n",
            "https://cellphones.com.vn/tecno-pova-5.html\n",
            "https://cellphones.com.vn/oppo-find-x5-pro.html\n",
            "https://cellphones.com.vn/tecno-pova-5-8gb-256gb.html\n",
            "https://cellphones.com.vn/tecno-camon-30.html\n",
            "https://cellphones.com.vn/dien-thoai-tecno-camon-30-12gb-256gb.html\n",
            "https://cellphones.com.vn/dien-thoai-samsung-galaxy-s23-fe-256gb.html\n",
            "https://cellphones.com.vn/dien-thoai-samsung-galaxy-m55.html\n",
            "https://cellphones.com.vn/tecno-spark-20.html\n",
            "https://cellphones.com.vn/samsung-galaxy-s24-ultra.html\n",
            "https://cellphones.com.vn/tecno-pova-6.html\n",
            "https://cellphones.com.vn/samsung-galaxy-s23-128gb.html\n",
            "https://cellphones.com.vn/iphone-15-pro-max.html\n",
            "https://cellphones.com.vn/samsung-galaxy-s24-ultra.html\n",
            "https://cellphones.com.vn/samsung-galaxy-z-flip-6.html\n",
            "https://cellphones.com.vn/tecno-pova-6-neo.html\n",
            "https://cellphones.com.vn/iphone-13.html\n",
            "https://cellphones.com.vn/samsung-galaxy-z-fold-6.html\n",
            "https://cellphones.com.vn/iphone-15.html\n",
            "https://cellphones.com.vn/samsung-galaxy-s23-128gb.html\n",
            "https://cellphones.com.vn/dien-thoai-samsung-galaxy-m55.html\n",
            "https://cellphones.com.vn/samsung-galaxy-a15.html\n",
            "https://cellphones.com.vn/xiaomi-redmi-note-13-pro.html\n",
            "https://cellphones.com.vn/dien-thoai-xiaomi-poco-m6.html\n",
            "https://cellphones.com.vn/dien-thoai-xiaomi-poco-x6-pro.html\n",
            "https://cellphones.com.vn/iphone-15-plus.html\n",
            "https://cellphones.com.vn/xiaomi-redmi-note-13.html\n",
            "https://cellphones.com.vn/iphone-15-pro.html\n",
            "https://cellphones.com.vn/iphone-11.html\n",
            "https://cellphones.com.vn/dien-thoai-infinix-note-40-pro.html\n",
            "https://cellphones.com.vn/nubia-neo-2.html\n",
            "https://cellphones.com.vn/xiaomi-redmi-note-13-pro-plus.html\n"
          ]
        }
      ]
    },
    {
      "cell_type": "code",
      "source": [
        "print(f\"Found {len(all_products_link)} products.\")"
      ],
      "metadata": {
        "colab": {
          "base_uri": "https://localhost:8080/"
        },
        "id": "C2_rMNPrjLui",
        "outputId": "05e8f23c-11eb-40dc-b10f-9c691095daca"
      },
      "execution_count": null,
      "outputs": [
        {
          "output_type": "stream",
          "name": "stdout",
          "text": [
            "Found 40 products.\n"
          ]
        }
      ]
    },
    {
      "cell_type": "code",
      "source": [
        "def get_version_of_items(link):\n",
        "    driver = init_driver()\n",
        "    driver.get(link)\n",
        "    time.sleep(2)\n",
        "    remove_overlays(driver)\n",
        "    product_elements = []\n",
        "    try:\n",
        "        box_linked_div = WebDriverWait(driver, 5).until(\n",
        "            EC.presence_of_element_located((By.CLASS_NAME, 'box-linked'))\n",
        "        )\n",
        "        list_linked_div = box_linked_div.find_element(By.CLASS_NAME, 'list-linked')\n",
        "        product_elements = list_linked_div.find_elements(By.TAG_NAME, 'a')\n",
        "        product_elements = [element.get_attribute('href') for element in product_elements]\n",
        "    except Exception as e:\n",
        "        product_elements.append(link)\n",
        "\n",
        "    driver.quit()\n",
        "    return product_elements\n"
      ],
      "metadata": {
        "id": "sOk9urVaRx09"
      },
      "execution_count": null,
      "outputs": []
    },
    {
      "cell_type": "code",
      "source": [
        "all_link_versions = []\n",
        "for link in all_products_link:\n",
        "    all_link_version = get_version_of_items(link)\n",
        "    print(all_link_version)\n",
        "    all_link_versions.extend(all_link_version)"
      ],
      "metadata": {
        "colab": {
          "base_uri": "https://localhost:8080/"
        },
        "collapsed": true,
        "id": "zVtCjGeO1NIi",
        "outputId": "30736388-8f8b-4c31-eba9-4eb47d31999e"
      },
      "execution_count": null,
      "outputs": [
        {
          "output_type": "stream",
          "name": "stdout",
          "text": [
            "['https://cellphones.com.vn/samsung-galaxy-s24-ultra-512gb.html', 'https://cellphones.com.vn/samsung-galaxy-s24-ultra.html']\n",
            "['https://cellphones.com.vn/dien-thoai-samsung-galaxy-s23-fe-256gb.html', 'https://cellphones.com.vn/samsung-galaxy-s23-fe.html']\n",
            "['https://cellphones.com.vn/samsung-galaxy-s24-ultra-1tb.html', 'https://cellphones.com.vn/samsung-galaxy-s24-ultra-512gb.html', 'https://cellphones.com.vn/samsung-galaxy-s24-ultra.html']\n",
            "['https://cellphones.com.vn/samsung-galaxy-s24-plus-512gb.html', 'https://cellphones.com.vn/samsung-galaxy-s24-plus.html']\n",
            "['https://cellphones.com.vn/samsung-galaxy-a35.html']\n",
            "['https://cellphones.com.vn/tecno-spark-20.html', 'https://cellphones.com.vn/tecno-spark-20c.html', 'https://cellphones.com.vn/tecno-spark-go-2024.html']\n",
            "['https://cellphones.com.vn/samsung-galaxy-s24-plus-512gb.html', 'https://cellphones.com.vn/samsung-galaxy-s24-plus.html']\n",
            "['https://cellphones.com.vn/tecno-spark-20-pro-plus.html']\n",
            "['https://cellphones.com.vn/oppo-reno10-pro-plus.html']\n",
            "['https://cellphones.com.vn/tecno-pova-5-8gb-256gb.html', 'https://cellphones.com.vn/tecno-pova-5.html']\n",
            "['https://cellphones.com.vn/oppo-find-x5-pro.html']\n",
            "['https://cellphones.com.vn/tecno-pova-5-8gb-256gb.html', 'https://cellphones.com.vn/tecno-pova-5.html']\n",
            "['https://cellphones.com.vn/dien-thoai-tecno-camon-30-12gb-256gb.html', 'https://cellphones.com.vn/tecno-camon-30.html']\n",
            "['https://cellphones.com.vn/dien-thoai-tecno-camon-30-12gb-256gb.html', 'https://cellphones.com.vn/tecno-camon-30.html']\n",
            "['https://cellphones.com.vn/dien-thoai-samsung-galaxy-s23-fe-256gb.html', 'https://cellphones.com.vn/samsung-galaxy-s23-fe.html']\n",
            "['https://cellphones.com.vn/dien-thoai-samsung-galaxy-m55.html']\n",
            "['https://cellphones.com.vn/tecno-spark-20.html', 'https://cellphones.com.vn/tecno-spark-20c.html', 'https://cellphones.com.vn/tecno-spark-go-2024.html']\n",
            "['https://cellphones.com.vn/samsung-galaxy-s24-ultra-1tb.html', 'https://cellphones.com.vn/samsung-galaxy-s24-ultra-512gb.html', 'https://cellphones.com.vn/samsung-galaxy-s24-ultra.html']\n",
            "['https://cellphones.com.vn/tecno-pova-6.html', 'https://cellphones.com.vn/tecno-pova-6-neo.html']\n",
            "['https://cellphones.com.vn/samsung-galaxy-s23.html', 'https://cellphones.com.vn/samsung-galaxy-s23-128gb.html']\n",
            "['https://cellphones.com.vn/iphone-15-pro-max-1tb.html', 'https://cellphones.com.vn/iphone-15-pro-max-512gb.html', 'https://cellphones.com.vn/iphone-15-pro-max.html']\n",
            "['https://cellphones.com.vn/samsung-galaxy-s24-ultra-1tb.html', 'https://cellphones.com.vn/samsung-galaxy-s24-ultra-512gb.html', 'https://cellphones.com.vn/samsung-galaxy-s24-ultra.html']\n",
            "['https://cellphones.com.vn/samsung-galaxy-z-flip-6-512gb.html', 'https://cellphones.com.vn/samsung-galaxy-z-flip-6.html']\n",
            "['https://cellphones.com.vn/tecno-pova-6.html', 'https://cellphones.com.vn/tecno-pova-6-neo.html']\n",
            "['https://cellphones.com.vn/iphone-13-512gb.html', 'https://cellphones.com.vn/iphone-13-256gb.html', 'https://cellphones.com.vn/iphone-13.html']\n",
            "['https://cellphones.com.vn/samsung-galaxy-z-fold-6-1tb.html', 'https://cellphones.com.vn/samsung-galaxy-z-fold-6-512gb.html', 'https://cellphones.com.vn/samsung-galaxy-z-fold-6.html']\n",
            "['https://cellphones.com.vn/iphone-15-512gb.html', 'https://cellphones.com.vn/iphone-15-256gb.html', 'https://cellphones.com.vn/iphone-15.html']\n",
            "['https://cellphones.com.vn/samsung-galaxy-s23.html', 'https://cellphones.com.vn/samsung-galaxy-s23-128gb.html']\n",
            "['https://cellphones.com.vn/dien-thoai-samsung-galaxy-m55.html']\n",
            "['https://cellphones.com.vn/samsung-galaxy-a25.html', 'https://cellphones.com.vn/samsung-galaxy-a15.html']\n",
            "['https://cellphones.com.vn/xiaomi-redmi-note-13-pro-plus.html', 'https://cellphones.com.vn/xiaomi-redmi-note-13-pro.html', 'https://cellphones.com.vn/xiaomi-redmi-note-13.html']\n",
            "['https://cellphones.com.vn/dien-thoai-xiaomi-poco-m6.html']\n",
            "['https://cellphones.com.vn/dien-thoai-xiaomi-poco-x6-pro.html']\n",
            "['https://cellphones.com.vn/iphone-15-plus-512gb.html', 'https://cellphones.com.vn/iphone-15-plus-256gb.html', 'https://cellphones.com.vn/iphone-15-plus.html']\n",
            "['https://cellphones.com.vn/xiaomi-redmi-note-13-pro-plus.html', 'https://cellphones.com.vn/xiaomi-redmi-note-13-pro.html', 'https://cellphones.com.vn/xiaomi-redmi-note-13.html']\n",
            "['https://cellphones.com.vn/iphone-15-pro-1tb.html', 'https://cellphones.com.vn/iphone-15-pro-512gb.html', 'https://cellphones.com.vn/iphone-15-pro-256gb.html', 'https://cellphones.com.vn/iphone-15-pro.html']\n",
            "['https://cellphones.com.vn/iphone-11-256gb.html', 'https://cellphones.com.vn/iphone-11-128gb.html', 'https://cellphones.com.vn/iphone-11.html']\n",
            "['https://cellphones.com.vn/dien-thoai-infinix-note-40-pro.html']\n",
            "['https://cellphones.com.vn/nubia-neo-2.html', 'https://cellphones.com.vn/nubia-neo-5g.html']\n",
            "['https://cellphones.com.vn/xiaomi-redmi-note-13-pro-plus.html', 'https://cellphones.com.vn/xiaomi-redmi-note-13-pro.html', 'https://cellphones.com.vn/xiaomi-redmi-note-13.html']\n"
          ]
        }
      ]
    },
    {
      "cell_type": "code",
      "source": [
        "len(all_link_versions)"
      ],
      "metadata": {
        "colab": {
          "base_uri": "https://localhost:8080/"
        },
        "id": "1nYgRIxj2Qe1",
        "outputId": "c98c0e0d-de98-4790-8497-648f58b78972"
      },
      "execution_count": null,
      "outputs": [
        {
          "output_type": "execute_result",
          "data": {
            "text/plain": [
              "87"
            ]
          },
          "metadata": {},
          "execution_count": 32
        }
      ]
    },
    {
      "cell_type": "code",
      "source": [
        "import pandas as pd\n",
        "all_link_versions = pd.DataFrame(all_link_versions)\n",
        "all_link_versions.to_csv('all_link_versions.csv', index=False)"
      ],
      "metadata": {
        "id": "yGF4Q7Cg0plx"
      },
      "execution_count": null,
      "outputs": []
    },
    {
      "cell_type": "code",
      "source": [
        "def get_info_product(link):\n",
        "    driver = init_driver()\n",
        "    driver.get(link)\n",
        "    time.sleep(2)\n",
        "    product_data = {}\n",
        "    remove_overlays(driver)\n",
        "\n",
        "    product_data['Link'] = link\n",
        "    try:\n",
        "\n",
        "        try:\n",
        "            # Đợi và lấy tên sản phẩm\n",
        "            product_name_element = WebDriverWait(driver, 10).until(\n",
        "                EC.presence_of_element_located((By.CSS_SELECTOR, \".box-product-name h1\"))\n",
        "            )\n",
        "            product_name = product_name_element.text.strip()\n",
        "\n",
        "        except Exception as e:\n",
        "            print(f\"Có lỗi xảy ra: {e}\")\n",
        "\n",
        "        product_data['Tên sản phẩm'] = product_name\n",
        "\n",
        "        # Trích xuất tên sản phẩm từ breadcrumb\n",
        "        breadcrumb_list = WebDriverWait(driver, 10).until(\n",
        "            EC.presence_of_element_located((By.CSS_SELECTOR, \".cps-container ul\"))\n",
        "        )\n",
        "\n",
        "        # Thương hiệu từ liên kết breadcrumb\n",
        "        brand_link = [a for a in breadcrumb_list.find_elements(By.TAG_NAME, \"a\")]\n",
        "        product_data['Thương hiệu'] = brand_link[2].text.strip() if len(brand_link) > 2 else None\n",
        "\n",
        "\n",
        "        try:\n",
        "            # Đợi phần tử chứa giá trị \"Tạm tính\" xuất hiện\n",
        "            price_element = WebDriverWait(driver, 10).until(\n",
        "                EC.presence_of_element_located((By.CSS_SELECTOR, \".tpt-box.active .tpt---sale-price\"))\n",
        "            )\n",
        "\n",
        "            # Lấy giá trị\n",
        "            price = price_element.text\n",
        "\n",
        "        except Exception as e:\n",
        "            try:\n",
        "                # Đợi và lấy giá show\n",
        "                show_price_element = WebDriverWait(driver, 10).until(\n",
        "                    EC.presence_of_element_located((By.CSS_SELECTOR, \".box-info__box-price .product__price--show\"))\n",
        "                )\n",
        "                price = show_price_element.text.strip()\n",
        "\n",
        "            except Exception as e:\n",
        "                print(f\"Có lỗi xảy ra: {e}\")\n",
        "\n",
        "\n",
        "        product_data['Giá tạm tính'] = price\n",
        "\n",
        "        try:\n",
        "            # Đợi và lấy thông tin chi tiết kỹ thuật\n",
        "            info_elements = WebDriverWait(driver, 15).until(\n",
        "                EC.presence_of_all_elements_located((By.CSS_SELECTOR, \".technical-content-item\"))\n",
        "            )\n",
        "\n",
        "            technical_data = {}\n",
        "            for element in info_elements:\n",
        "                key_element = element.find_element(By.CSS_SELECTOR, \"p\")\n",
        "                key = key_element.text.strip()\n",
        "\n",
        "                value_element = element.find_element(By.CSS_SELECTOR, \"div\")\n",
        "                value = value_element.text.strip()\n",
        "\n",
        "                # Xử lý trường hợp không có giá trị\n",
        "                if key and value:\n",
        "                    technical_data[key] = value\n",
        "\n",
        "            product_data['Thông số kỹ thuật'] = technical_data\n",
        "\n",
        "        except Exception as e:\n",
        "            print(f\"Có lỗi xảy ra khi lấy thông số kỹ thuật: {e}\")\n",
        "\n",
        "    except StaleElementReferenceException:\n",
        "        print(\"Lỗi tham chiếu phần tử cũ, cố gắng lại.\")\n",
        "    except Exception as e:\n",
        "        print(f\"Có lỗi xảy ra: {e}\")\n",
        "    finally:\n",
        "        driver.quit()\n",
        "\n",
        "    print(product_data)\n",
        "    return product_data\n",
        "\n",
        "vd = get_info_product(all_link_versions[2])"
      ],
      "metadata": {
        "colab": {
          "base_uri": "https://localhost:8080/"
        },
        "collapsed": true,
        "id": "ZwweG9VTnBfT",
        "outputId": "149a8e01-7e7c-42f0-d841-5b920529c91f"
      },
      "execution_count": null,
      "outputs": [
        {
          "output_type": "stream",
          "name": "stdout",
          "text": [
            "{'Link': 'https://cellphones.com.vn/dien-thoai-samsung-galaxy-s23-fe-256gb.html', 'Tên sản phẩm': 'Samsung Galaxy S23 FE 8GB 256GB', 'Thương hiệu': 'Samsung', 'Giá tạm tính': '12.890.000đ', 'Thông số kỹ thuật': {'Kích thước màn hình': '6.4 inches', 'Công nghệ màn hình': 'Dynamic AMOLED 2X', 'Camera sau': '50 MP & Phụ 12 MP, 8 MP', 'Camera trước': '10 MP', 'Chipset': 'Exynos 2200 8 nhân', 'Công nghệ NFC': 'Có', 'Dung lượng RAM': '8 GB', 'Bộ nhớ trong': '256 GB', 'Pin': '4500 mAh', 'Thẻ SIM': '2 Nano SIM hoặc 1 Nano + 1 eSIM', 'Hệ điều hành': 'Android 13', 'Độ phân giải màn hình': '1080 x 2340 pixels (FullHD+)', 'Tính năng màn hình': 'Tần số quét 120 Hz, 1450 nits\\nKính cường lực Corning Gorilla Glass 5', 'Loại CPU': '1 nhân 2.8 GHz, 3 nhân 2.5 GHz & 4 nhân 1.8 GHz'}}\n"
          ]
        }
      ]
    },
    {
      "cell_type": "code",
      "source": [
        "all_products = []\n",
        "i = 0\n",
        "for link in all_link_versions:\n",
        "    product_data = get_info_product(link)\n",
        "    all_products.append(product_data)\n",
        "    i += 1\n",
        "    print(f\"Processing product {i} of {len(all_link_versions)}\")\n"
      ],
      "metadata": {
        "colab": {
          "base_uri": "https://localhost:8080/"
        },
        "collapsed": true,
        "id": "CNGrPsHxAKH3",
        "outputId": "cfe2cbca-960d-4fb3-9e3a-3283d014d4ec"
      },
      "execution_count": null,
      "outputs": [
        {
          "output_type": "stream",
          "name": "stdout",
          "text": [
            "{'Link': 'https://cellphones.com.vn/samsung-galaxy-s24-ultra-512gb.html', 'Tên sản phẩm': 'Samsung Galaxy S24 Ultra 12GB 512GB', 'Thương hiệu': 'Samsung', 'Giá tạm tính': '31.490.000đ', 'Thông số kỹ thuật': {'Kích thước màn hình': '6.8 inches', 'Công nghệ màn hình': 'Dynamic AMOLED 2X', 'Camera sau': 'Camera chính: 200MP, Laser AF, OIS\\nCamera: 50MP, PDAF, OIS, zoom quang học 5x\\nCamera tele: 10MP\\nCamera góc siêu rộng: 12 MP, f/2.2, 13mm, 120˚', 'Camera trước': '12 MP, f/2.2', 'Chipset': 'Snapdragon 8 Gen 3', 'Công nghệ NFC': 'Có', 'Dung lượng RAM': '12 GB', 'Bộ nhớ trong': '512 GB', 'Pin': '5000mAh', 'Thẻ SIM': 'SIM 1 + SIM 2 / SIM 1 + eSIM / 2 eSIM', 'Hệ điều hành': 'Android 14, One UI 6.1', 'Độ phân giải màn hình': '1440 x 3120 pixels', 'Tính năng màn hình': 'Độ sáng cao nhất 2,600 nits, 120Hz, HDR10+'}}\n",
            "Processing product 1 of 87\n",
            "{'Link': 'https://cellphones.com.vn/samsung-galaxy-s24-ultra.html', 'Tên sản phẩm': 'Samsung Galaxy S24 Ultra 12GB 256GB', 'Thương hiệu': 'Samsung', 'Giá tạm tính': '27.990.000đ', 'Thông số kỹ thuật': {'Kích thước màn hình': '6.8 inches', 'Công nghệ màn hình': 'Dynamic AMOLED 2X', 'Camera sau': 'Camera chính: 200MP, Laser AF, OIS\\nCamera: 50MP, PDAF, OIS, zoom quang học 5x\\nCamera tele: 10MP\\nCamera góc siêu rộng: 12 MP, f/2.2, 13mm, 120˚', 'Camera trước': '12 MP, f/2.2', 'Chipset': 'Snapdragon 8 Gen 3 For Galaxy', 'Công nghệ NFC': 'Có', 'Dung lượng RAM': '12 GB', 'Bộ nhớ trong': '256 GB', 'Pin': '5,000mAh', 'Thẻ SIM': 'SIM 1 + SIM 2 / SIM 1 + eSIM / 2 eSIM', 'Hệ điều hành': 'Android 14, One UI 6.1', 'Độ phân giải màn hình': '1440 x 3120 pixels', 'Tính năng màn hình': 'Độ sáng cao nhất 2,600 nits, 120Hz, Corning® Gorilla® Armor®, 16 triệu màu', 'Loại CPU': '3.39GHz,3.1GHz,2.9GHz,2.2GHz', 'Tương thích': 'Bút SPEN - tích hợp sẵn lên máy'}}\n",
            "Processing product 2 of 87\n",
            "{'Link': 'https://cellphones.com.vn/dien-thoai-samsung-galaxy-s23-fe-256gb.html', 'Tên sản phẩm': 'Samsung Galaxy S23 FE 8GB 256GB', 'Thương hiệu': 'Samsung', 'Giá tạm tính': '12.890.000đ', 'Thông số kỹ thuật': {'Kích thước màn hình': '6.4 inches', 'Công nghệ màn hình': 'Dynamic AMOLED 2X', 'Camera sau': '50 MP & Phụ 12 MP, 8 MP', 'Camera trước': '10 MP', 'Chipset': 'Exynos 2200 8 nhân', 'Công nghệ NFC': 'Có', 'Dung lượng RAM': '8 GB', 'Bộ nhớ trong': '256 GB', 'Pin': '4500 mAh', 'Thẻ SIM': '2 Nano SIM hoặc 1 Nano + 1 eSIM', 'Hệ điều hành': 'Android 13', 'Độ phân giải màn hình': '1080 x 2340 pixels (FullHD+)', 'Tính năng màn hình': 'Tần số quét 120 Hz, 1450 nits\\nKính cường lực Corning Gorilla Glass 5', 'Loại CPU': '1 nhân 2.8 GHz, 3 nhân 2.5 GHz & 4 nhân 1.8 GHz'}}\n",
            "Processing product 3 of 87\n",
            "{'Link': 'https://cellphones.com.vn/samsung-galaxy-s23-fe.html', 'Tên sản phẩm': 'Samsung Galaxy S23 FE 5G 8GB 128GB', 'Thương hiệu': 'Samsung', 'Giá tạm tính': '11.390.000đ', 'Thông số kỹ thuật': {'Kích thước màn hình': '6.4 inches', 'Công nghệ màn hình': 'Dynamic AMOLED 2X', 'Camera sau': '50 MP & Phụ 12 MP, 8 MP', 'Camera trước': '10 MP', 'Chipset': 'Exynos 2200 8 nhân', 'Công nghệ NFC': 'Có', 'Dung lượng RAM': '8 GB', 'Bộ nhớ trong': '128 GB', 'Pin': '4500 mAh', 'Thẻ SIM': '2 Nano SIM hoặc 1 Nano + 1 eSIM', 'Hệ điều hành': 'Android 13', 'Độ phân giải màn hình': '1080 x 2340 pixels (FullHD+)', 'Tính năng màn hình': 'Tần số quét 120 Hz, 1450 nits\\nKính cường lực Corning Gorilla Glass 5', 'Loại CPU': '1 nhân 2.8 GHz, 3 nhân 2.5 GHz & 4 nhân 1.8 GHz'}}\n",
            "Processing product 4 of 87\n",
            "{'Link': 'https://cellphones.com.vn/samsung-galaxy-s24-ultra-1tb.html', 'Tên sản phẩm': 'Samsung Galaxy S24 Ultra 12GB 1TB', 'Thương hiệu': 'Samsung', 'Giá tạm tính': '33.490.000đ', 'Thông số kỹ thuật': {'Kích thước màn hình': '6.8 inches', 'Công nghệ màn hình': 'Dynamic AMOLED 2X', 'Camera sau': 'Camera chính: 200MP, Laser AF, OIS\\nCamera: 50MP, PDAF, OIS, zoom quang học 5x\\nCamera tele: 10MP\\nCamera góc siêu rộng: 12 MP, f/2.2, 13mm, 120˚', 'Camera trước': '12 MP, f/2.2', 'Chipset': 'Snapdragon 8 Gen 3', 'Công nghệ NFC': 'Có', 'Dung lượng RAM': '12 GB', 'Bộ nhớ trong': '1 TB', 'Pin': '5.000mAh', 'Thẻ SIM': 'SIM 1 + SIM 2 / SIM 1 + eSIM / 2 eSIM', 'Hệ điều hành': 'Android 14, One UI 6.1', 'Độ phân giải màn hình': '1440 x 3120 pixels', 'Tính năng màn hình': 'Độ sáng cao nhất 2,600 nits, 120Hz, Corning® Gorilla® Armor®, 16 triệu màu', 'Loại CPU': '3.39GHz,3.1GHz,2.9GHz,2.2GHz', 'Tương thích': 'Bút SPEN - tích hợp sẵn lên máy'}}\n",
            "Processing product 5 of 87\n",
            "{'Link': 'https://cellphones.com.vn/samsung-galaxy-s24-ultra-512gb.html', 'Tên sản phẩm': 'Samsung Galaxy S24 Ultra 12GB 512GB', 'Thương hiệu': 'Samsung', 'Giá tạm tính': '31.490.000đ', 'Thông số kỹ thuật': {'Kích thước màn hình': '6.8 inches', 'Công nghệ màn hình': 'Dynamic AMOLED 2X', 'Camera sau': 'Camera chính: 200MP, Laser AF, OIS\\nCamera: 50MP, PDAF, OIS, zoom quang học 5x\\nCamera tele: 10MP\\nCamera góc siêu rộng: 12 MP, f/2.2, 13mm, 120˚', 'Camera trước': '12 MP, f/2.2', 'Chipset': 'Snapdragon 8 Gen 3', 'Công nghệ NFC': 'Có', 'Dung lượng RAM': '12 GB', 'Bộ nhớ trong': '512 GB', 'Pin': '5000mAh', 'Thẻ SIM': 'SIM 1 + SIM 2 / SIM 1 + eSIM / 2 eSIM', 'Hệ điều hành': 'Android 14, One UI 6.1', 'Độ phân giải màn hình': '1440 x 3120 pixels', 'Tính năng màn hình': 'Độ sáng cao nhất 2,600 nits, 120Hz, HDR10+'}}\n",
            "Processing product 6 of 87\n",
            "{'Link': 'https://cellphones.com.vn/samsung-galaxy-s24-ultra.html', 'Tên sản phẩm': 'Samsung Galaxy S24 Ultra 12GB 256GB', 'Thương hiệu': 'Samsung', 'Giá tạm tính': '27.990.000đ', 'Thông số kỹ thuật': {'Kích thước màn hình': '6.8 inches', 'Công nghệ màn hình': 'Dynamic AMOLED 2X', 'Camera sau': 'Camera chính: 200MP, Laser AF, OIS\\nCamera: 50MP, PDAF, OIS, zoom quang học 5x\\nCamera tele: 10MP\\nCamera góc siêu rộng: 12 MP, f/2.2, 13mm, 120˚', 'Camera trước': '12 MP, f/2.2', 'Chipset': 'Snapdragon 8 Gen 3 For Galaxy', 'Công nghệ NFC': 'Có', 'Dung lượng RAM': '12 GB', 'Bộ nhớ trong': '256 GB', 'Pin': '5,000mAh', 'Thẻ SIM': 'SIM 1 + SIM 2 / SIM 1 + eSIM / 2 eSIM', 'Hệ điều hành': 'Android 14, One UI 6.1', 'Độ phân giải màn hình': '1440 x 3120 pixels', 'Tính năng màn hình': 'Độ sáng cao nhất 2,600 nits, 120Hz, Corning® Gorilla® Armor®, 16 triệu màu', 'Loại CPU': '3.39GHz,3.1GHz,2.9GHz,2.2GHz', 'Tương thích': 'Bút SPEN - tích hợp sẵn lên máy'}}\n",
            "Processing product 7 of 87\n",
            "{'Link': 'https://cellphones.com.vn/samsung-galaxy-s24-plus-512gb.html', 'Tên sản phẩm': 'Samsung Galaxy S24 Plus 12GB 512GB', 'Thương hiệu': 'Samsung', 'Giá tạm tính': '25.490.000đ', 'Thông số kỹ thuật': {'Kích thước màn hình': '6.7 inches', 'Công nghệ màn hình': 'Dynamic AMOLED 2X', 'Camera sau': 'Camera chính góc rộng: 50 MP, f/1.8, Dual Pixel PDAF, OIS\\nCamera tele: 10 MP, f/2.4, PDAF, OIS, zoom quang học 3x\\nCamera góc siêu rộng: 12 MP, f/2.2, 120˚', 'Camera trước': '12 MP, f/2.2', 'Chipset': 'Exynos 2400', 'Công nghệ NFC': 'Có', 'Dung lượng RAM': '12 GB', 'Bộ nhớ trong': '512 GB', 'Pin': '4,900 mAh', 'Thẻ SIM': 'SIM 1 + SIM 2 / SIM 1 + eSIM / 2 eSIM', 'Hệ điều hành': 'Android 14, One UI 6.1', 'Độ phân giải màn hình': '3120 x 1440 pixels (Quad HD+)', 'Tính năng màn hình': '120Hz, Độ sáng tối đa 2600 nits, Corning® Gorilla® Glass Victus® 2, 16 triệu màu', 'Loại CPU': '3.2GHz,2.9GHz,2.6GHz,1.95GHz'}}\n",
            "Processing product 8 of 87\n",
            "{'Link': 'https://cellphones.com.vn/samsung-galaxy-s24-plus.html', 'Tên sản phẩm': 'Samsung Galaxy S24 Plus 12GB 256GB', 'Thương hiệu': 'Samsung', 'Giá tạm tính': '21.990.000đ', 'Thông số kỹ thuật': {'Kích thước màn hình': '6.7 inches', 'Công nghệ màn hình': 'Dynamic AMOLED 2X', 'Camera sau': 'Camera chính góc rộng: 50 MP, f/1.8, Dual Pixel PDAF, OIS\\nCamera tele: 10 MP, f/2.4, PDAF, OIS, zoom quang học 3x\\nCamera góc siêu rộng: 12 MP, f/2.2, 120˚', 'Camera trước': '12 MP, f/2.2', 'Chipset': 'Exynos 2400', 'Công nghệ NFC': 'Có', 'Dung lượng RAM': '12 GB', 'Bộ nhớ trong': '256 GB', 'Pin': '4,900mAh', 'Thẻ SIM': 'SIM 1 + SIM 2 / SIM 1 + eSIM / 2 eSIM', 'Hệ điều hành': 'Android 14, One UI 6.1', 'Độ phân giải màn hình': '3120 x 1440 pixels (Quad HD+)', 'Tính năng màn hình': '120Hz, Độ sáng tối đa 2600 nits, Corning® Gorilla® Glass Victus® 2, 16 triệu màu', 'Loại CPU': '3.2GHz,2.9GHz,2.6GHz,1.95GHz'}}\n",
            "Processing product 9 of 87\n",
            "{'Link': 'https://cellphones.com.vn/samsung-galaxy-a35.html', 'Tên sản phẩm': 'Samsung Galaxy A35 5G 8GB 128GB', 'Thương hiệu': 'Samsung', 'Giá tạm tính': '7.690.000đ', 'Thông số kỹ thuật': {'Kích thước màn hình': '6.6 inches', 'Công nghệ màn hình': 'Super AMOLED', 'Camera sau': 'Camera chính rộng: 50 MP OIS+HDR Camera Macro: 5MP, f/2.4\\nCamera siêu rộng: 8MP, f/2.2', 'Camera trước': '13MP, f/2.2', 'Chipset': 'Exynos 1380', 'Công nghệ NFC': 'Có', 'Dung lượng RAM': '8 GB', 'Bộ nhớ trong': '128 GB', 'Pin': '5000 mAh', 'Thẻ SIM': '2 SIM (Nano-SIM)', 'Hệ điều hành': 'Android 14', 'Độ phân giải màn hình': '1080 x 2340 pixels (FullHD+)', 'Tính năng màn hình': 'Tốc độ làm mới 120Hz\\n1000 nits, Gorilla Glass 7', 'Loại CPU': '4 nhân 2.4 GHz & 4 nhân 2.0 GHz'}}\n",
            "Processing product 10 of 87\n",
            "{'Link': 'https://cellphones.com.vn/tecno-spark-20.html', 'Tên sản phẩm': 'TECNO SPARK 20 8GB 128GB', 'Thương hiệu': 'Tecno', 'Giá tạm tính': '3.050.000đ', 'Thông số kỹ thuật': {'Kích thước màn hình': '6.56 inches', 'Công nghệ màn hình': 'IPS LCD', 'Camera sau': '50MP, f/1.6 | PDAF | 6P', 'Camera trước': '32 MP', 'Chipset': 'MediaTek Helio G85', 'Công nghệ NFC': 'Không', 'Dung lượng RAM': '8GB + Mở rộng 8GB', 'Bộ nhớ trong': '128 GB', 'Pin': '5.000 mAh', 'Thẻ SIM': '2 SIM (Nano-SIM)', 'Hệ điều hành': 'Android 13', 'Độ phân giải màn hình': '720 x 1612 (HD+)', 'Tính năng màn hình': 'Tần số quét 90Hz, Dymanic Port hiển thị thông tin tiện ích', 'Loại CPU': 'Octa-core (2x2.0 GHz Cortex-A75 & 6x1.8 GHz Cortex-A55)'}}\n",
            "Processing product 11 of 87\n",
            "{'Link': 'https://cellphones.com.vn/tecno-spark-20c.html', 'Tên sản phẩm': 'TECNO SPARK 20C 4GB 128GB', 'Thương hiệu': 'Tecno', 'Giá tạm tính': '2.490.000đ', 'Thông số kỹ thuật': {'Kích thước màn hình': '6.6 inches', 'Công nghệ màn hình': 'IPS LCD', 'Camera sau': '50MP, f/1.8', 'Camera trước': '8MP, f/2.0', 'Chipset': 'MTK G36', 'Công nghệ NFC': 'Không', 'Dung lượng RAM': '4GB + Mở rộng 4GB', 'Bộ nhớ trong': '128 GB', 'Pin': '5000mAh', 'Thẻ SIM': '2 SIM (Nano-SIM)', 'Hệ điều hành': 'Android T', 'Độ phân giải màn hình': '720 x 1612 (HD+)', 'Tính năng màn hình': 'Tần số quét 90Hz, Dynamic Port hiển thị đa dạng thông tin'}}\n",
            "Processing product 12 of 87\n",
            "{'Link': 'https://cellphones.com.vn/tecno-spark-go-2024.html', 'Tên sản phẩm': 'TECNO SPARK Go 2024 4GB 64GB', 'Thương hiệu': 'Tecno', 'Giá tạm tính': '1.950.000đ', 'Thông số kỹ thuật': {'Kích thước màn hình': '6.6 inches', 'Công nghệ màn hình': 'IPS LCD', 'Camera sau': '13MP, f/1.8 + AI-CAM', 'Camera trước': '8MP, f/2.0', 'Chipset': 'Unisoc T606', 'Công nghệ NFC': 'Không', 'Dung lượng RAM': '4GB + Mở rộng 4GB', 'Bộ nhớ trong': '64 GB', 'Pin': '5.000 mAh', 'Thẻ SIM': '2 SIM (Nano-SIM)', 'Hệ điều hành': 'Android 13', 'Độ phân giải màn hình': '720 x 1612 (HD+)', 'Tính năng màn hình': 'Tần số quét 90Hz, Dynamic Port hiển thị nhiều thông tin'}}\n",
            "Processing product 13 of 87\n",
            "{'Link': 'https://cellphones.com.vn/samsung-galaxy-s24-plus-512gb.html', 'Tên sản phẩm': 'Samsung Galaxy S24 Plus 12GB 512GB', 'Thương hiệu': 'Samsung', 'Giá tạm tính': '25.490.000đ', 'Thông số kỹ thuật': {'Kích thước màn hình': '6.7 inches', 'Công nghệ màn hình': 'Dynamic AMOLED 2X', 'Camera sau': 'Camera chính góc rộng: 50 MP, f/1.8, Dual Pixel PDAF, OIS\\nCamera tele: 10 MP, f/2.4, PDAF, OIS, zoom quang học 3x\\nCamera góc siêu rộng: 12 MP, f/2.2, 120˚', 'Camera trước': '12 MP, f/2.2', 'Chipset': 'Exynos 2400', 'Công nghệ NFC': 'Có', 'Dung lượng RAM': '12 GB', 'Bộ nhớ trong': '512 GB', 'Pin': '4,900 mAh', 'Thẻ SIM': 'SIM 1 + SIM 2 / SIM 1 + eSIM / 2 eSIM', 'Hệ điều hành': 'Android 14, One UI 6.1', 'Độ phân giải màn hình': '3120 x 1440 pixels (Quad HD+)', 'Tính năng màn hình': '120Hz, Độ sáng tối đa 2600 nits, Corning® Gorilla® Glass Victus® 2, 16 triệu màu', 'Loại CPU': '3.2GHz,2.9GHz,2.6GHz,1.95GHz'}}\n",
            "Processing product 14 of 87\n",
            "{'Link': 'https://cellphones.com.vn/samsung-galaxy-s24-plus.html', 'Tên sản phẩm': 'Samsung Galaxy S24 Plus 12GB 256GB', 'Thương hiệu': 'Samsung', 'Giá tạm tính': '21.990.000đ', 'Thông số kỹ thuật': {'Kích thước màn hình': '6.7 inches', 'Công nghệ màn hình': 'Dynamic AMOLED 2X', 'Camera sau': 'Camera chính góc rộng: 50 MP, f/1.8, Dual Pixel PDAF, OIS\\nCamera tele: 10 MP, f/2.4, PDAF, OIS, zoom quang học 3x\\nCamera góc siêu rộng: 12 MP, f/2.2, 120˚', 'Camera trước': '12 MP, f/2.2', 'Chipset': 'Exynos 2400', 'Công nghệ NFC': 'Có', 'Dung lượng RAM': '12 GB', 'Bộ nhớ trong': '256 GB', 'Pin': '4,900mAh', 'Thẻ SIM': 'SIM 1 + SIM 2 / SIM 1 + eSIM / 2 eSIM', 'Hệ điều hành': 'Android 14, One UI 6.1', 'Độ phân giải màn hình': '3120 x 1440 pixels (Quad HD+)', 'Tính năng màn hình': '120Hz, Độ sáng tối đa 2600 nits, Corning® Gorilla® Glass Victus® 2, 16 triệu màu', 'Loại CPU': '3.2GHz,2.9GHz,2.6GHz,1.95GHz'}}\n",
            "Processing product 15 of 87\n",
            "{'Link': 'https://cellphones.com.vn/tecno-spark-20-pro-plus.html', 'Tên sản phẩm': 'TECNO SPARK 20PRO+', 'Thương hiệu': 'Tecno', 'Giá tạm tính': '4.890.000đ', 'Thông số kỹ thuật': {'Kích thước màn hình': '6.78 inches', 'Công nghệ màn hình': 'AMOLED', 'Camera sau': 'Camera chính: 108MP, f/1.75\\nCamera Macro: 2MP, AI Camera, Đèn flash dọc bốn chiều', 'Camera trước': '32MP, f/2.2', 'Chipset': 'Mediatek Helio G99', 'Công nghệ NFC': 'Có', 'Dung lượng RAM': '8GB + Mở rộng 8GB', 'Bộ nhớ trong': '256 GB', 'Pin': '5000mAh', 'Thẻ SIM': '2 SIM (Nano-SIM)', 'Hệ điều hành': 'Android 14', 'Độ phân giải màn hình': '1080 x 2436 pixels', 'Tính năng màn hình': 'Tần số quét 120Hz, 1000 nit, 1.07 tỷ màu, Kính Cường Lực Corning Gorilla Glass 5', 'Loại CPU': 'Tiến trình 6nm'}}\n",
            "Processing product 16 of 87\n",
            "{'Link': 'https://cellphones.com.vn/oppo-reno10-pro-plus.html', 'Tên sản phẩm': 'OPPO Reno10 Pro Plus 5G 12GB 256GB', 'Thương hiệu': 'OPPO', 'Giá tạm tính': '14.390.000đ', 'Thông số kỹ thuật': {'Kích thước màn hình': '6.74 inches', 'Công nghệ màn hình': 'AMOLED', 'Camera sau': 'Camera góc rộng: 50 MP\\nKính tiềm vọng: 64 MP, PDAF, 5x optical zoom\\nCamera góc siêu rộng: 8 MP, f/2.2', 'Camera trước': 'Camera góc rộng: 32 MP, f/2.4', 'Chipset': 'Snapdragon 8 plus Gen 1 8 nhân', 'Công nghệ NFC': 'Có', 'Dung lượng RAM': '12 GB', 'Bộ nhớ trong': '256 GB', 'Pin': '4700 mAh', 'Thẻ SIM': '2 SIM (Nano-SIM)', 'Hệ điều hành': 'Android 13', 'Độ phân giải màn hình': '1240 x 2772 pixels', 'Tính năng màn hình': '1 tỷ màu, tần số quét 120Hz, HDR10+, 1100 nits, Kính cường lực AGC DT-Star2', 'Loại CPU': '1x3.0 GHz Cortex-X2 & 3x2.75 GHz Cortex-A710 & 4x2.0 GHz Cortex-A510'}}\n",
            "Processing product 17 of 87\n",
            "{'Link': 'https://cellphones.com.vn/tecno-pova-5-8gb-256gb.html', 'Tên sản phẩm': 'TECNO POVA 5 (8GB - 256GB)', 'Thương hiệu': 'Tecno', 'Giá tạm tính': '4.390.000đ', 'Thông số kỹ thuật': {'Kích thước màn hình': '6.78 inches', 'Công nghệ màn hình': 'LCD', 'Camera sau': 'Camera góc rộng: 50 MP, f/1.66, PDAF\\nCamera chiều sâu: f/2.0', 'Camera trước': '8 MP, f/2.0', 'Chipset': 'Mediatek MT8781 Helio G99 (6nm)', 'Công nghệ NFC': 'Có', 'Dung lượng RAM': '8 GB', 'Bộ nhớ trong': '256 GB', 'Pin': '6000mAh', 'Thẻ SIM': '2 SIM (Nano-SIM)', 'Hệ điều hành': 'Android 13', 'Độ phân giải màn hình': '1080x2460 pixels', 'Tính năng màn hình': 'Tần số quét 120Hz, tần số cảm ứng 240Hz, 580 nits', 'Loại CPU': '2x2.2 GHz Cortex-A76 & 6x2.0 GHz Cortex-A55'}}\n",
            "Processing product 18 of 87\n",
            "{'Link': 'https://cellphones.com.vn/tecno-pova-5.html', 'Tên sản phẩm': 'TECNO POVA 5 8GB 128GB', 'Thương hiệu': 'Tecno', 'Giá tạm tính': '3.790.000đ', 'Thông số kỹ thuật': {'Kích thước màn hình': '6.78 inches', 'Công nghệ màn hình': 'LCD', 'Camera sau': 'Camera góc rộng: 50 MP, f/1.66, PDAF\\nCamera chiều sâu: f/2.0', 'Camera trước': '8 MP, f/2.0', 'Chipset': 'Mediatek MT8781 Helio G99 (6nm)', 'Công nghệ NFC': 'Có', 'Dung lượng RAM': '8 GB', 'Bộ nhớ trong': '128 GB', 'Pin': '6000mAh', 'Thẻ SIM': '2 SIM (Nano-SIM)', 'Hệ điều hành': 'Android 13', 'Độ phân giải màn hình': '1080x2460 pixels', 'Tính năng màn hình': 'Tần số quét 120Hz, tần số cảm ứng 240Hz, 580 nits', 'Loại CPU': '2x2.2 GHz Cortex-A76 & 6x2.0 GHz Cortex-A55'}}\n",
            "Processing product 19 of 87\n",
            "{'Link': 'https://cellphones.com.vn/oppo-find-x5-pro.html', 'Tên sản phẩm': 'OPPO Find X5 Pro 12GB 256GB - Giá mới chỉ có tại CellphoneS', 'Thương hiệu': 'OPPO', 'Giá tạm tính': '15.990.000đ', 'Thông số kỹ thuật': {'Kích thước màn hình': '6.7 inches', 'Công nghệ màn hình': 'AMOLED', 'Camera sau': 'Camera chính: 50MP, f/1.7\\nCamera góc rộng: 50MP, f/2.2; FOV 112°\\nCamera tele: 13MP, f/2.4', 'Camera trước': 'Camera chính 32MP: f/2.4; FOV 90°, ống kính: 5P, lấy nét cố định', 'Chipset': 'Qualcomm Snapdragon 8 Gen 1', 'Công nghệ NFC': 'Có', 'Dung lượng RAM': '12 GB', 'Bộ nhớ trong': '256 GB', 'Pin': '5.000 mAh', 'Thẻ SIM': '2 SIM (Nano-SIM)', 'Hệ điều hành': 'ColorOS 12.1 dựa trên Android 12', 'Độ phân giải màn hình': '1440 x 3216 pixels (QHD+)', 'Tính năng màn hình': 'Tần số quét 120 Hz (Dynamic)\\n1.07 tỉ màu\\nCorning Gorilla Glass Victus\\nGam màu:\\nChế độ sống động: 97% NTSC/100% DCI-P3 (Tiêu chuẩn)\\nChế độ dịu nhẹ: 71% NTSC/100% sRGB (Tiêu chuẩn)\\nĐộ sáng tối đa 1300 nits', 'Loại CPU': 'MariSilicon X Imaging NPU'}}\n",
            "Processing product 20 of 87\n",
            "{'Link': 'https://cellphones.com.vn/tecno-pova-5-8gb-256gb.html', 'Tên sản phẩm': 'TECNO POVA 5 (8GB - 256GB)', 'Thương hiệu': 'Tecno', 'Giá tạm tính': '4.390.000đ', 'Thông số kỹ thuật': {'Kích thước màn hình': '6.78 inches', 'Công nghệ màn hình': 'LCD', 'Camera sau': 'Camera góc rộng: 50 MP, f/1.66, PDAF\\nCamera chiều sâu: f/2.0', 'Camera trước': '8 MP, f/2.0', 'Chipset': 'Mediatek MT8781 Helio G99 (6nm)', 'Công nghệ NFC': 'Có', 'Dung lượng RAM': '8 GB', 'Bộ nhớ trong': '256 GB', 'Pin': '6000mAh', 'Thẻ SIM': '2 SIM (Nano-SIM)', 'Hệ điều hành': 'Android 13', 'Độ phân giải màn hình': '1080x2460 pixels', 'Tính năng màn hình': 'Tần số quét 120Hz, tần số cảm ứng 240Hz, 580 nits', 'Loại CPU': '2x2.2 GHz Cortex-A76 & 6x2.0 GHz Cortex-A55'}}\n",
            "Processing product 21 of 87\n",
            "{'Link': 'https://cellphones.com.vn/tecno-pova-5.html', 'Tên sản phẩm': 'TECNO POVA 5 8GB 128GB', 'Thương hiệu': 'Tecno', 'Giá tạm tính': '3.790.000đ', 'Thông số kỹ thuật': {'Kích thước màn hình': '6.78 inches', 'Công nghệ màn hình': 'LCD', 'Camera sau': 'Camera góc rộng: 50 MP, f/1.66, PDAF\\nCamera chiều sâu: f/2.0', 'Camera trước': '8 MP, f/2.0', 'Chipset': 'Mediatek MT8781 Helio G99 (6nm)', 'Công nghệ NFC': 'Có', 'Dung lượng RAM': '8 GB', 'Bộ nhớ trong': '128 GB', 'Pin': '6000mAh', 'Thẻ SIM': '2 SIM (Nano-SIM)', 'Hệ điều hành': 'Android 13', 'Độ phân giải màn hình': '1080x2460 pixels', 'Tính năng màn hình': 'Tần số quét 120Hz, tần số cảm ứng 240Hz, 580 nits', 'Loại CPU': '2x2.2 GHz Cortex-A76 & 6x2.0 GHz Cortex-A55'}}\n",
            "Processing product 22 of 87\n",
            "{'Link': 'https://cellphones.com.vn/dien-thoai-tecno-camon-30-12gb-256gb.html', 'Tên sản phẩm': 'Điện thoại Tecno Camon 30 12GB/256GB', 'Thương hiệu': 'Tecno', 'Giá tạm tính': '6.190.000đ', 'Thông số kỹ thuật': {'Kích thước màn hình': '6.78 inches', 'Công nghệ màn hình': 'AMOLED', 'Camera sau': 'Camera kép:\\n50 MP, ƒ/1.9 (Góc rộng), 1/1.57\" Kích thước cảm biến, chống rung quang học (OIS) + chống rung điện tử (EIS)\\n2 MP (Chiều sâu)\\nĐèn flash LED kép, Dải động cao (HDR), Toàn cảnh\\nĐộ phân giải video: 1440p @ 30 fps, 1080p @ 30/60 fps', 'Camera trước': 'Camera đơn: 50 MP (Góc rộng), Tự động lấy nét (PDAF)\\nĐèn flash LED kép\\nĐộ phân giải video: 1440p @ 30 fps, 1080p @ 30/60 fps', 'Chipset': 'Helio G99 Ultimate(6nm)', 'Công nghệ NFC': 'Có', 'Dung lượng RAM': '12 GB', 'Bộ nhớ trong': '256 GB', 'Pin': '5000 mAh', 'Thẻ SIM': 'Nano-SIM', 'Hệ điều hành': 'Android 14 (Upside Down Cake)', 'Độ phân giải màn hình': '1080 x 2436 pixels', 'Tính năng màn hình': 'Tần số quét 120Hz', 'Loại CPU': 'Lõi CPU: 8 lõi\\nCông nghệ CPU: 6 nm\\nTốc độ tối đa của CPU: 2.2 GHz\\nKiến trúc CPU: 64-bit\\nVi kiến trúc: 2x 2.2 GHz – Cortex-A76, 6x 2.0 GHz – Cortex-A55\\nLoại bộ nhớ: LPDDR4X'}}\n",
            "Processing product 23 of 87\n",
            "{'Link': 'https://cellphones.com.vn/tecno-camon-30.html', 'Tên sản phẩm': 'Điện thoại Tecno Camon 30 8GB/256GB', 'Thương hiệu': 'Tecno', 'Giá tạm tính': '5.690.000đ', 'Thông số kỹ thuật': {'Kích thước màn hình': '6.78 inches', 'Công nghệ màn hình': 'AMOLED', 'Camera sau': 'Camera kép:\\n50 MP, ƒ/1.9 (Góc rộng), 1/1.57\" Kích thước cảm biến, chống rung quang học (OIS) + chống rung điện tử (EIS)\\n2 MP (Chiều sâu)\\nĐèn flash LED kép, Dải động cao (HDR), Toàn cảnh\\nĐộ phân giải video: 1440p @ 30 fps, 1080p @ 30/60 fps', 'Camera trước': 'Camera đơn: 50 MP (Góc rộng), Tự động lấy nét (PDAF)\\nĐèn flash LED kép\\nĐộ phân giải video: 1440p @ 30 fps, 1080p @ 30/60 fps', 'Chipset': 'Helio G99 Ultimate(6nm)', 'Công nghệ NFC': 'Có', 'Dung lượng RAM': '8 GB', 'Bộ nhớ trong': '256 GB', 'Pin': '5000 mAh', 'Thẻ SIM': 'Nano-SIM', 'Hệ điều hành': 'Android 14 (Upside Down Cake)', 'Độ phân giải màn hình': '1080 x 2436 pixels', 'Tính năng màn hình': 'Tần số quét 120Hz', 'Loại CPU': 'Lõi CPU: 8 lõi\\nCông nghệ CPU: 6 nm\\nTốc độ tối đa của CPU: 2.2 GHz\\nKiến trúc CPU: 64-bit\\nVi kiến trúc: 2x 2.2 GHz – Cortex-A76, 6x 2.0 GHz – Cortex-A55\\nLoại bộ nhớ: LPDDR4X'}}\n",
            "Processing product 24 of 87\n",
            "{'Link': 'https://cellphones.com.vn/dien-thoai-tecno-camon-30-12gb-256gb.html', 'Tên sản phẩm': 'Điện thoại Tecno Camon 30 12GB/256GB', 'Thương hiệu': 'Tecno', 'Giá tạm tính': '6.190.000đ', 'Thông số kỹ thuật': {'Kích thước màn hình': '6.78 inches', 'Công nghệ màn hình': 'AMOLED', 'Camera sau': 'Camera kép:\\n50 MP, ƒ/1.9 (Góc rộng), 1/1.57\" Kích thước cảm biến, chống rung quang học (OIS) + chống rung điện tử (EIS)\\n2 MP (Chiều sâu)\\nĐèn flash LED kép, Dải động cao (HDR), Toàn cảnh\\nĐộ phân giải video: 1440p @ 30 fps, 1080p @ 30/60 fps', 'Camera trước': 'Camera đơn: 50 MP (Góc rộng), Tự động lấy nét (PDAF)\\nĐèn flash LED kép\\nĐộ phân giải video: 1440p @ 30 fps, 1080p @ 30/60 fps', 'Chipset': 'Helio G99 Ultimate(6nm)', 'Công nghệ NFC': 'Có', 'Dung lượng RAM': '12 GB', 'Bộ nhớ trong': '256 GB', 'Pin': '5000 mAh', 'Thẻ SIM': 'Nano-SIM', 'Hệ điều hành': 'Android 14 (Upside Down Cake)', 'Độ phân giải màn hình': '1080 x 2436 pixels', 'Tính năng màn hình': 'Tần số quét 120Hz', 'Loại CPU': 'Lõi CPU: 8 lõi\\nCông nghệ CPU: 6 nm\\nTốc độ tối đa của CPU: 2.2 GHz\\nKiến trúc CPU: 64-bit\\nVi kiến trúc: 2x 2.2 GHz – Cortex-A76, 6x 2.0 GHz – Cortex-A55\\nLoại bộ nhớ: LPDDR4X'}}\n",
            "Processing product 25 of 87\n",
            "{'Link': 'https://cellphones.com.vn/tecno-camon-30.html', 'Tên sản phẩm': 'Điện thoại Tecno Camon 30 8GB/256GB', 'Thương hiệu': 'Tecno', 'Giá tạm tính': '5.690.000đ', 'Thông số kỹ thuật': {'Kích thước màn hình': '6.78 inches', 'Công nghệ màn hình': 'AMOLED', 'Camera sau': 'Camera kép:\\n50 MP, ƒ/1.9 (Góc rộng), 1/1.57\" Kích thước cảm biến, chống rung quang học (OIS) + chống rung điện tử (EIS)\\n2 MP (Chiều sâu)\\nĐèn flash LED kép, Dải động cao (HDR), Toàn cảnh\\nĐộ phân giải video: 1440p @ 30 fps, 1080p @ 30/60 fps', 'Camera trước': 'Camera đơn: 50 MP (Góc rộng), Tự động lấy nét (PDAF)\\nĐèn flash LED kép\\nĐộ phân giải video: 1440p @ 30 fps, 1080p @ 30/60 fps', 'Chipset': 'Helio G99 Ultimate(6nm)', 'Công nghệ NFC': 'Có', 'Dung lượng RAM': '8 GB', 'Bộ nhớ trong': '256 GB', 'Pin': '5000 mAh', 'Thẻ SIM': 'Nano-SIM', 'Hệ điều hành': 'Android 14 (Upside Down Cake)', 'Độ phân giải màn hình': '1080 x 2436 pixels', 'Tính năng màn hình': 'Tần số quét 120Hz', 'Loại CPU': 'Lõi CPU: 8 lõi\\nCông nghệ CPU: 6 nm\\nTốc độ tối đa của CPU: 2.2 GHz\\nKiến trúc CPU: 64-bit\\nVi kiến trúc: 2x 2.2 GHz – Cortex-A76, 6x 2.0 GHz – Cortex-A55\\nLoại bộ nhớ: LPDDR4X'}}\n",
            "Processing product 26 of 87\n",
            "{'Link': 'https://cellphones.com.vn/dien-thoai-samsung-galaxy-s23-fe-256gb.html', 'Tên sản phẩm': 'Samsung Galaxy S23 FE 8GB 256GB', 'Thương hiệu': 'Samsung', 'Giá tạm tính': '12.890.000đ', 'Thông số kỹ thuật': {'Kích thước màn hình': '6.4 inches', 'Công nghệ màn hình': 'Dynamic AMOLED 2X', 'Camera sau': '50 MP & Phụ 12 MP, 8 MP', 'Camera trước': '10 MP', 'Chipset': 'Exynos 2200 8 nhân', 'Công nghệ NFC': 'Có', 'Dung lượng RAM': '8 GB', 'Bộ nhớ trong': '256 GB', 'Pin': '4500 mAh', 'Thẻ SIM': '2 Nano SIM hoặc 1 Nano + 1 eSIM', 'Hệ điều hành': 'Android 13', 'Độ phân giải màn hình': '1080 x 2340 pixels (FullHD+)', 'Tính năng màn hình': 'Tần số quét 120 Hz, 1450 nits\\nKính cường lực Corning Gorilla Glass 5', 'Loại CPU': '1 nhân 2.8 GHz, 3 nhân 2.5 GHz & 4 nhân 1.8 GHz'}}\n",
            "Processing product 27 of 87\n",
            "{'Link': 'https://cellphones.com.vn/samsung-galaxy-s23-fe.html', 'Tên sản phẩm': 'Samsung Galaxy S23 FE 5G 8GB 128GB', 'Thương hiệu': 'Samsung', 'Giá tạm tính': '11.390.000đ', 'Thông số kỹ thuật': {'Kích thước màn hình': '6.4 inches', 'Công nghệ màn hình': 'Dynamic AMOLED 2X', 'Camera sau': '50 MP & Phụ 12 MP, 8 MP', 'Camera trước': '10 MP', 'Chipset': 'Exynos 2200 8 nhân', 'Công nghệ NFC': 'Có', 'Dung lượng RAM': '8 GB', 'Bộ nhớ trong': '128 GB', 'Pin': '4500 mAh', 'Thẻ SIM': '2 Nano SIM hoặc 1 Nano + 1 eSIM', 'Hệ điều hành': 'Android 13', 'Độ phân giải màn hình': '1080 x 2340 pixels (FullHD+)', 'Tính năng màn hình': 'Tần số quét 120 Hz, 1450 nits\\nKính cường lực Corning Gorilla Glass 5', 'Loại CPU': '1 nhân 2.8 GHz, 3 nhân 2.5 GHz & 4 nhân 1.8 GHz'}}\n",
            "Processing product 28 of 87\n",
            "{'Link': 'https://cellphones.com.vn/dien-thoai-samsung-galaxy-m55.html', 'Tên sản phẩm': 'Samsung Galaxy M55 (12GB 256GB)', 'Thương hiệu': 'Samsung', 'Giá tạm tính': '10.990.000đ', 'Thông số kỹ thuật': {'Kích thước màn hình': '6.7 inches', 'Công nghệ màn hình': 'Super AMOLED Plus', 'Camera sau': 'Camera góc rộng: 50 MP, f/1.8, 1/1.56\", 1.0µm, PDAF, OIS\\nCamera góc siêu rộng: 8 MP, f/2.2, 123˚\\nCamera macro: 2 MP, f/2.4', 'Camera trước': 'Camera góc rộng: 50 MP, f/2.4', 'Chipset': 'Qualcomm Snapdragon 7 Gen 1 (4 nm)', 'Công nghệ NFC': 'Có', 'Dung lượng RAM': '12 GB', 'Bộ nhớ trong': '256 GB', 'Pin': '5000 mAh', 'Thẻ SIM': '2 SIM (Nano-SIM)', 'Hệ điều hành': 'Android 14', 'Độ phân giải màn hình': '1080 x 2400 pixels (FullHD+)', 'Tính năng màn hình': 'Tần số quét 120Hz, 1000 nits', 'Loại CPU': '1x2.4 GHz Cortex-A710 & 3x2.36 GHz Cortex-A710 & 4x1.8 GHz Cortex-A510'}}\n",
            "Processing product 29 of 87\n",
            "{'Link': 'https://cellphones.com.vn/tecno-spark-20.html', 'Tên sản phẩm': 'TECNO SPARK 20 8GB 128GB', 'Thương hiệu': 'Tecno', 'Giá tạm tính': '3.050.000đ', 'Thông số kỹ thuật': {'Kích thước màn hình': '6.56 inches', 'Công nghệ màn hình': 'IPS LCD', 'Camera sau': '50MP, f/1.6 | PDAF | 6P', 'Camera trước': '32 MP', 'Chipset': 'MediaTek Helio G85', 'Công nghệ NFC': 'Không', 'Dung lượng RAM': '8GB + Mở rộng 8GB', 'Bộ nhớ trong': '128 GB', 'Pin': '5.000 mAh', 'Thẻ SIM': '2 SIM (Nano-SIM)', 'Hệ điều hành': 'Android 13', 'Độ phân giải màn hình': '720 x 1612 (HD+)', 'Tính năng màn hình': 'Tần số quét 90Hz, Dymanic Port hiển thị thông tin tiện ích', 'Loại CPU': 'Octa-core (2x2.0 GHz Cortex-A75 & 6x1.8 GHz Cortex-A55)'}}\n",
            "Processing product 30 of 87\n",
            "{'Link': 'https://cellphones.com.vn/tecno-spark-20c.html', 'Tên sản phẩm': 'TECNO SPARK 20C 4GB 128GB', 'Thương hiệu': 'Tecno', 'Giá tạm tính': '2.490.000đ', 'Thông số kỹ thuật': {'Kích thước màn hình': '6.6 inches', 'Công nghệ màn hình': 'IPS LCD', 'Camera sau': '50MP, f/1.8', 'Camera trước': '8MP, f/2.0', 'Chipset': 'MTK G36', 'Công nghệ NFC': 'Không', 'Dung lượng RAM': '4GB + Mở rộng 4GB', 'Bộ nhớ trong': '128 GB', 'Pin': '5000mAh', 'Thẻ SIM': '2 SIM (Nano-SIM)', 'Hệ điều hành': 'Android T', 'Độ phân giải màn hình': '720 x 1612 (HD+)', 'Tính năng màn hình': 'Tần số quét 90Hz, Dynamic Port hiển thị đa dạng thông tin'}}\n",
            "Processing product 31 of 87\n",
            "{'Link': 'https://cellphones.com.vn/tecno-spark-go-2024.html', 'Tên sản phẩm': 'TECNO SPARK Go 2024 4GB 64GB', 'Thương hiệu': 'Tecno', 'Giá tạm tính': '1.950.000đ', 'Thông số kỹ thuật': {'Kích thước màn hình': '6.6 inches', 'Công nghệ màn hình': 'IPS LCD', 'Camera sau': '13MP, f/1.8 + AI-CAM', 'Camera trước': '8MP, f/2.0', 'Chipset': 'Unisoc T606', 'Công nghệ NFC': 'Không', 'Dung lượng RAM': '4GB + Mở rộng 4GB', 'Bộ nhớ trong': '64 GB', 'Pin': '5.000 mAh', 'Thẻ SIM': '2 SIM (Nano-SIM)', 'Hệ điều hành': 'Android 13', 'Độ phân giải màn hình': '720 x 1612 (HD+)', 'Tính năng màn hình': 'Tần số quét 90Hz, Dynamic Port hiển thị nhiều thông tin'}}\n",
            "Processing product 32 of 87\n",
            "{'Link': 'https://cellphones.com.vn/samsung-galaxy-s24-ultra-1tb.html', 'Tên sản phẩm': 'Samsung Galaxy S24 Ultra 12GB 1TB', 'Thương hiệu': 'Samsung', 'Giá tạm tính': '33.490.000đ', 'Thông số kỹ thuật': {'Kích thước màn hình': '6.8 inches', 'Công nghệ màn hình': 'Dynamic AMOLED 2X', 'Camera sau': 'Camera chính: 200MP, Laser AF, OIS\\nCamera: 50MP, PDAF, OIS, zoom quang học 5x\\nCamera tele: 10MP\\nCamera góc siêu rộng: 12 MP, f/2.2, 13mm, 120˚', 'Camera trước': '12 MP, f/2.2', 'Chipset': 'Snapdragon 8 Gen 3', 'Công nghệ NFC': 'Có', 'Dung lượng RAM': '12 GB', 'Bộ nhớ trong': '1 TB', 'Pin': '5.000mAh', 'Thẻ SIM': 'SIM 1 + SIM 2 / SIM 1 + eSIM / 2 eSIM', 'Hệ điều hành': 'Android 14, One UI 6.1', 'Độ phân giải màn hình': '1440 x 3120 pixels', 'Tính năng màn hình': 'Độ sáng cao nhất 2,600 nits, 120Hz, Corning® Gorilla® Armor®, 16 triệu màu', 'Loại CPU': '3.39GHz,3.1GHz,2.9GHz,2.2GHz', 'Tương thích': 'Bút SPEN - tích hợp sẵn lên máy'}}\n",
            "Processing product 33 of 87\n",
            "{'Link': 'https://cellphones.com.vn/samsung-galaxy-s24-ultra-512gb.html', 'Tên sản phẩm': 'Samsung Galaxy S24 Ultra 12GB 512GB', 'Thương hiệu': 'Samsung', 'Giá tạm tính': '31.490.000đ', 'Thông số kỹ thuật': {'Kích thước màn hình': '6.8 inches', 'Công nghệ màn hình': 'Dynamic AMOLED 2X', 'Camera sau': 'Camera chính: 200MP, Laser AF, OIS\\nCamera: 50MP, PDAF, OIS, zoom quang học 5x\\nCamera tele: 10MP\\nCamera góc siêu rộng: 12 MP, f/2.2, 13mm, 120˚', 'Camera trước': '12 MP, f/2.2', 'Chipset': 'Snapdragon 8 Gen 3', 'Công nghệ NFC': 'Có', 'Dung lượng RAM': '12 GB', 'Bộ nhớ trong': '512 GB', 'Pin': '5000mAh', 'Thẻ SIM': 'SIM 1 + SIM 2 / SIM 1 + eSIM / 2 eSIM', 'Hệ điều hành': 'Android 14, One UI 6.1', 'Độ phân giải màn hình': '1440 x 3120 pixels', 'Tính năng màn hình': 'Độ sáng cao nhất 2,600 nits, 120Hz, HDR10+'}}\n",
            "Processing product 34 of 87\n",
            "{'Link': 'https://cellphones.com.vn/samsung-galaxy-s24-ultra.html', 'Tên sản phẩm': 'Samsung Galaxy S24 Ultra 12GB 256GB', 'Thương hiệu': 'Samsung', 'Giá tạm tính': '27.990.000đ', 'Thông số kỹ thuật': {'Kích thước màn hình': '6.8 inches', 'Công nghệ màn hình': 'Dynamic AMOLED 2X', 'Camera sau': 'Camera chính: 200MP, Laser AF, OIS\\nCamera: 50MP, PDAF, OIS, zoom quang học 5x\\nCamera tele: 10MP\\nCamera góc siêu rộng: 12 MP, f/2.2, 13mm, 120˚', 'Camera trước': '12 MP, f/2.2', 'Chipset': 'Snapdragon 8 Gen 3 For Galaxy', 'Công nghệ NFC': 'Có', 'Dung lượng RAM': '12 GB', 'Bộ nhớ trong': '256 GB', 'Pin': '5,000mAh', 'Thẻ SIM': 'SIM 1 + SIM 2 / SIM 1 + eSIM / 2 eSIM', 'Hệ điều hành': 'Android 14, One UI 6.1', 'Độ phân giải màn hình': '1440 x 3120 pixels', 'Tính năng màn hình': 'Độ sáng cao nhất 2,600 nits, 120Hz, Corning® Gorilla® Armor®, 16 triệu màu', 'Loại CPU': '3.39GHz,3.1GHz,2.9GHz,2.2GHz', 'Tương thích': 'Bút SPEN - tích hợp sẵn lên máy'}}\n",
            "Processing product 35 of 87\n",
            "{'Link': 'https://cellphones.com.vn/tecno-pova-6.html', 'Tên sản phẩm': 'Tecno Pova 6 (8GB/256GB)', 'Thương hiệu': 'Tecno', 'Giá tạm tính': '5.690.000đ', 'Thông số kỹ thuật': {'Kích thước màn hình': '6.78 inches', 'Công nghệ màn hình': 'AMOLED', 'Camera sau': '108M + AI', 'Camera trước': 'Camera trước 32MP với đèn flash kép', 'Chipset': 'MediaTek G99 Ultimate', 'Công nghệ NFC': 'Có', 'Dung lượng RAM': '8 GB', 'Bộ nhớ trong': '256 GB', 'Pin': '6.000 mAh', 'Thẻ SIM': '2 Nano-SIM', 'Hệ điều hành': 'Android 14', 'Độ phân giải màn hình': '1080 x 2436 pixels', 'Loại CPU': '2*A76 up to 2.2Ghz 6*A55 up to 2.0Ghz'}}\n",
            "Processing product 36 of 87\n",
            "{'Link': 'https://cellphones.com.vn/tecno-pova-6-neo.html', 'Tên sản phẩm': 'Tecno Pova 6 Neo (8GB 128GB)', 'Thương hiệu': 'Tecno', 'Giá tạm tính': '4.150.000đ', 'Thông số kỹ thuật': {'Kích thước màn hình': '6.78 inches', 'Công nghệ màn hình': 'LCD', 'Camera sau': '50MP + AI', 'Camera trước': '8MP', 'Chipset': 'MediaTek Helio G99 Ultimate', 'Công nghệ NFC': 'Có', 'Dung lượng RAM': '8 GB', 'Bộ nhớ trong': '128 GB', 'Pin': '7000 mAh', 'Thẻ SIM': '2 Nano-SIM', 'Hệ điều hành': 'Android 14', 'Độ phân giải màn hình': '1080x2460 pixels', 'Tính năng màn hình': 'Tốc độ làm mới 120Hz'}}\n",
            "Processing product 37 of 87\n",
            "{'Link': 'https://cellphones.com.vn/samsung-galaxy-s23.html', 'Tên sản phẩm': 'Samsung Galaxy S23 8GB 256GB', 'Thương hiệu': 'Samsung', 'Giá tạm tính': '14.590.000đ', 'Thông số kỹ thuật': {'Kích thước màn hình': '6.1 inches', 'Công nghệ màn hình': 'Dynamic AMOLED 2X', 'Camera sau': 'Camera chính 50 MP, f/1.8 & Phụ 12 MP, f/2.2, 10 MP, f/2.4', 'Camera trước': '12MP, f/2.2', 'Chipset': 'Snapdragon 8 Gen 2', 'Công nghệ NFC': 'Có', 'Dung lượng RAM': '8 GB', 'Bộ nhớ trong': '256 GB', 'Pin': '3900 mAh', 'Thẻ SIM': '2 Nano-SIM + eSIM', 'Hệ điều hành': 'Android', 'Độ phân giải màn hình': '1080 x 2340 pixels (FullHD+)', 'Tính năng màn hình': 'Tần số quét 120Hz, Kính cường lực Corning Gorilla Glass Victus 2, Độ sáng tối đa: 1750 nits', 'Tương thích': 'Không hỗ trợ Spen'}}\n",
            "Processing product 38 of 87\n",
            "{'Link': 'https://cellphones.com.vn/samsung-galaxy-s23-128gb.html', 'Tên sản phẩm': 'Samsung Galaxy S23 8GB 128GB - Chỉ có tại CellphoneS', 'Thương hiệu': 'Samsung', 'Giá tạm tính': '13.490.000đ', 'Thông số kỹ thuật': {'Kích thước màn hình': '6.1 inches', 'Công nghệ màn hình': 'Dynamic AMOLED 2X', 'Camera sau': 'Camera chính 50 MP & Phụ 12 MP, 10 MP', 'Camera trước': '12MP', 'Chipset': 'Snapdragon 8 Gen 2 for Galaxy', 'Công nghệ NFC': 'Có', 'Dung lượng RAM': '8 GB', 'Bộ nhớ trong': '128 GB', 'Pin': '3900 mAh', 'Thẻ SIM': '2 Nano SIM hoặc 1 Nano + 1 eSIM', 'Hệ điều hành': 'Android 13', 'Độ phân giải màn hình': '1080 x 2340 pixels (FullHD+)', 'Tính năng màn hình': 'Tần số quét 120Hz, Độ sáng tối đa 1750 nits\\nKính cường lực Corning Gorilla Glass Victus 2', 'Loại CPU': '1 nhân 3.36 GHz, 4 nhân 2.8 GHz & 3 nhân 2 GHz'}}\n",
            "Processing product 39 of 87\n",
            "{'Link': 'https://cellphones.com.vn/iphone-15-pro-max-1tb.html', 'Tên sản phẩm': 'iPhone 15 Pro Max 1TB | Chính hãng VN/A', 'Thương hiệu': 'Apple', 'Giá tạm tính': '42.690.000đ', 'Thông số kỹ thuật': {'Kích thước màn hình': '6.7 inches', 'Công nghệ màn hình': 'Super Retina XDR OLED', 'Camera sau': 'Camera chính: 48MP, 24 mm, ƒ/1.78,\\nCamera góc siêu rộng: 12 MP, 13 mm, ƒ/2.2\\nCamera Tele 5x: 12 MP, 120 mm, ƒ/2.8', 'Camera trước': '12MP, ƒ/1.9', 'Chipset': 'Apple A17 Pro 6 nhân', 'Công nghệ NFC': 'Có', 'Dung lượng RAM': '8 GB', 'Bộ nhớ trong': '1 TB', 'Pin': '4422 mAh', 'Thẻ SIM': '2 SIM (nano‑SIM và eSIM)', 'Hệ điều hành': 'iOS 17', 'Độ phân giải màn hình': '2796 x 1290-pixel', 'Tính năng màn hình': 'Tốc độ làm mới 120Hz\\n460 ppi\\nHDR\\nTrue Tone\\nDải màu rộng (P3)\\nHaptic Touch\\nTỷ lệ tương phản 2.000.000:1'}}\n",
            "Processing product 40 of 87\n",
            "{'Link': 'https://cellphones.com.vn/iphone-15-pro-max-512gb.html', 'Tên sản phẩm': 'iPhone 15 Pro Max 512GB | Chính hãng VN/A', 'Thương hiệu': 'Apple', 'Giá tạm tính': '36.290.000đ', 'Thông số kỹ thuật': {'Kích thước màn hình': '6.7 inches', 'Công nghệ màn hình': 'Super Retina XDR OLED', 'Camera sau': 'Camera chính: 48MP, 24 mm, ƒ/1.78,\\nCamera góc siêu rộng: 12 MP, 13 mm, ƒ/2.2\\nCamera Tele 5x: 12 MP, 120 mm, ƒ/2.8', 'Camera trước': '12MP, ƒ/1.9', 'Chipset': 'Apple A17 Pro 6 nhân', 'Công nghệ NFC': 'Có', 'Dung lượng RAM': '8 GB', 'Bộ nhớ trong': '512 GB', 'Pin': '4422 mAh', 'Thẻ SIM': '2 SIM (nano‑SIM và eSIM)', 'Hệ điều hành': 'iOS 17', 'Độ phân giải màn hình': '2796 x 1290-pixel', 'Tính năng màn hình': 'Tốc độ làm mới 120Hz\\n460 ppi\\n2000 nits\\nHDR\\nTrue Tone\\nDải màu rộng (P3)\\nHaptic Touch\\nTỷ lệ tương phản 2.000.000:1'}}\n",
            "Processing product 41 of 87\n",
            "{'Link': 'https://cellphones.com.vn/iphone-15-pro-max.html', 'Tên sản phẩm': 'iPhone 15 Pro Max 256GB | Chính hãng VN/A', 'Thương hiệu': 'Apple', 'Giá tạm tính': '29.490.000đ', 'Thông số kỹ thuật': {'Kích thước màn hình': '6.7 inches', 'Công nghệ màn hình': 'Super Retina XDR OLED', 'Camera sau': 'Camera chính: 48MP, 24 mm, ƒ/1.78\\nCamera góc siêu rộng: 12 MP, 13 mm, ƒ/2.2\\nCamera Tele: 12 MP', 'Camera trước': '12MP, ƒ/1.9', 'Chipset': 'Apple A17 Pro 6 nhân', 'Công nghệ NFC': 'Có', 'Dung lượng RAM': '8 GB', 'Bộ nhớ trong': '256 GB', 'Pin': '4422 mAh', 'Thẻ SIM': '2 SIM (nano‑SIM và eSIM)', 'Hệ điều hành': 'iOS 17', 'Độ phân giải màn hình': '2796 x 1290-pixel', 'Tính năng màn hình': 'Tốc độ làm mới 120Hz\\n460 ppi\\n2000 nits\\nHDR\\nTrue Tone\\nDải màu rộng (P3)\\nHaptic Touch\\nTỷ lệ tương phản 2.000.000:1'}}\n",
            "Processing product 42 of 87\n",
            "{'Link': 'https://cellphones.com.vn/samsung-galaxy-s24-ultra-1tb.html', 'Tên sản phẩm': 'Samsung Galaxy S24 Ultra 12GB 1TB', 'Thương hiệu': None, 'Giá tạm tính': '33.490.000đ', 'Thông số kỹ thuật': {'Kích thước màn hình': '6.8 inches', 'Công nghệ màn hình': 'Dynamic AMOLED 2X', 'Camera sau': 'Camera chính: 200MP, Laser AF, OIS\\nCamera: 50MP, PDAF, OIS, zoom quang học 5x\\nCamera tele: 10MP\\nCamera góc siêu rộng: 12 MP, f/2.2, 13mm, 120˚', 'Camera trước': '12 MP, f/2.2', 'Chipset': 'Snapdragon 8 Gen 3', 'Công nghệ NFC': 'Có', 'Dung lượng RAM': '12 GB', 'Bộ nhớ trong': '1 TB', 'Pin': '5.000mAh', 'Thẻ SIM': 'SIM 1 + SIM 2 / SIM 1 + eSIM / 2 eSIM', 'Hệ điều hành': 'Android 14, One UI 6.1', 'Độ phân giải màn hình': '1440 x 3120 pixels', 'Tính năng màn hình': 'Độ sáng cao nhất 2,600 nits, 120Hz, Corning® Gorilla® Armor®, 16 triệu màu', 'Loại CPU': '3.39GHz,3.1GHz,2.9GHz,2.2GHz', 'Tương thích': 'Bút SPEN - tích hợp sẵn lên máy'}}\n",
            "Processing product 43 of 87\n",
            "{'Link': 'https://cellphones.com.vn/samsung-galaxy-s24-ultra-512gb.html', 'Tên sản phẩm': 'Samsung Galaxy S24 Ultra 12GB 512GB', 'Thương hiệu': 'Samsung', 'Giá tạm tính': '31.490.000đ', 'Thông số kỹ thuật': {'Kích thước màn hình': '6.8 inches', 'Công nghệ màn hình': 'Dynamic AMOLED 2X', 'Camera sau': 'Camera chính: 200MP, Laser AF, OIS\\nCamera: 50MP, PDAF, OIS, zoom quang học 5x\\nCamera tele: 10MP\\nCamera góc siêu rộng: 12 MP, f/2.2, 13mm, 120˚', 'Camera trước': '12 MP, f/2.2', 'Chipset': 'Snapdragon 8 Gen 3', 'Công nghệ NFC': 'Có', 'Dung lượng RAM': '12 GB', 'Bộ nhớ trong': '512 GB', 'Pin': '5000mAh', 'Thẻ SIM': 'SIM 1 + SIM 2 / SIM 1 + eSIM / 2 eSIM', 'Hệ điều hành': 'Android 14, One UI 6.1', 'Độ phân giải màn hình': '1440 x 3120 pixels', 'Tính năng màn hình': 'Độ sáng cao nhất 2,600 nits, 120Hz, HDR10+'}}\n",
            "Processing product 44 of 87\n",
            "{'Link': 'https://cellphones.com.vn/samsung-galaxy-s24-ultra.html', 'Tên sản phẩm': 'Samsung Galaxy S24 Ultra 12GB 256GB', 'Thương hiệu': 'Samsung', 'Giá tạm tính': '27.990.000đ', 'Thông số kỹ thuật': {'Kích thước màn hình': '6.8 inches', 'Công nghệ màn hình': 'Dynamic AMOLED 2X', 'Camera sau': 'Camera chính: 200MP, Laser AF, OIS\\nCamera: 50MP, PDAF, OIS, zoom quang học 5x\\nCamera tele: 10MP\\nCamera góc siêu rộng: 12 MP, f/2.2, 13mm, 120˚', 'Camera trước': '12 MP, f/2.2', 'Chipset': 'Snapdragon 8 Gen 3 For Galaxy', 'Công nghệ NFC': 'Có', 'Dung lượng RAM': '12 GB', 'Bộ nhớ trong': '256 GB', 'Pin': '5,000mAh', 'Thẻ SIM': 'SIM 1 + SIM 2 / SIM 1 + eSIM / 2 eSIM', 'Hệ điều hành': 'Android 14, One UI 6.1', 'Độ phân giải màn hình': '1440 x 3120 pixels', 'Tính năng màn hình': 'Độ sáng cao nhất 2,600 nits, 120Hz, Corning® Gorilla® Armor®, 16 triệu màu', 'Loại CPU': '3.39GHz,3.1GHz,2.9GHz,2.2GHz', 'Tương thích': 'Bút SPEN - tích hợp sẵn lên máy'}}\n",
            "Processing product 45 of 87\n",
            "{'Link': 'https://cellphones.com.vn/samsung-galaxy-z-flip-6-512gb.html', 'Tên sản phẩm': 'Samsung Galaxy Z Flip6 12GB 512GB', 'Thương hiệu': 'Samsung', 'Giá tạm tính': '30.990.000đ', 'Thông số kỹ thuật': {'Kích thước màn hình': '6.7 inches', 'Công nghệ màn hình': 'Dynamic AMOLED 2X', 'Camera sau': 'Camera góc chụp rộng: 50.0 MP, f/1.8, thu phóng quang học 2x\\nGóc chụp siêu rộng: 12.0 MP, f/2.2', 'Camera trước': '10.0 MP, f/2.2', 'Chipset': 'Snapdragon 8 Gen 3 for Galaxy Tăng lên 42% AI', 'Công nghệ NFC': 'Có', 'Dung lượng RAM': '12 GB', 'Bộ nhớ trong': '512 GB', 'Pin': '4000 mAh', 'Thẻ SIM': '2 Nano SIM hoặc 1 Nano + 1 eSIM', 'Hệ điều hành': 'Android', 'Độ phân giải màn hình': '1080 x 2640 pixels', 'Tính năng màn hình': 'Màn hình chính: 6.7 inch, 2640 x 1080 (FHD+), 120 Hz, độ sâu màu sắc: 16M, 1600nits\\nMàn hình phụ: 3.4\", 720 x 748, Super AMOLED, độ sâu màu sắc: 16M, 1600nits\\nKính Corning® Gorilla® Glass Victus® 2'}}\n",
            "Processing product 46 of 87\n",
            "{'Link': 'https://cellphones.com.vn/samsung-galaxy-z-flip-6.html', 'Tên sản phẩm': 'Samsung Galaxy Z Flip6', 'Thương hiệu': 'Samsung', 'Giá tạm tính': '26.990.000đ', 'Thông số kỹ thuật': {'Kích thước màn hình': '6.7 inches', 'Công nghệ màn hình': 'Dynamic AMOLED 2X', 'Camera sau': 'Camera góc chụp rộng: 50.0 MP, f/1.8, thu phóng quang học 2x\\nGóc chụp siêu rộng: 12.0 MP, f/2.2', 'Camera trước': '10.0 MP, f/2.2', 'Chipset': 'Snapdragon 8 Gen 3 for Galaxy Tăng lên 42% AI', 'Công nghệ NFC': 'Có', 'Dung lượng RAM': '12 GB', 'Bộ nhớ trong': '256 GB', 'Pin': '4000 mAh', 'Thẻ SIM': '2 Nano SIM hoặc 1 Nano + 1 eSIM', 'Hệ điều hành': 'Android', 'Độ phân giải màn hình': '1080 x 2640 pixels', 'Tính năng màn hình': 'Màn hình chính: 6.7 inch, 2640 x 1080 (FHD+), 120 Hz, độ sâu màu sắc: 16M, 1600nits\\nMàn hình phụ: 3.4\", 720 x 748, Super AMOLED, độ sâu màu sắc: 16M, 1600nits\\nKính Corning® Gorilla® Glass Victus® 2', 'Loại CPU': '8 nhân 3.39 GHz, 3.1GHz, 2.9GHz, 2.2GHz'}}\n",
            "Processing product 47 of 87\n",
            "{'Link': 'https://cellphones.com.vn/tecno-pova-6.html', 'Tên sản phẩm': 'Tecno Pova 6 (8GB/256GB)', 'Thương hiệu': 'Tecno', 'Giá tạm tính': '5.690.000đ', 'Thông số kỹ thuật': {'Kích thước màn hình': '6.78 inches', 'Công nghệ màn hình': 'AMOLED', 'Camera sau': '108M + AI', 'Camera trước': 'Camera trước 32MP với đèn flash kép', 'Chipset': 'MediaTek G99 Ultimate', 'Công nghệ NFC': 'Có', 'Dung lượng RAM': '8 GB', 'Bộ nhớ trong': '256 GB', 'Pin': '6.000 mAh', 'Thẻ SIM': '2 Nano-SIM', 'Hệ điều hành': 'Android 14', 'Độ phân giải màn hình': '1080 x 2436 pixels', 'Loại CPU': '2*A76 up to 2.2Ghz 6*A55 up to 2.0Ghz'}}\n",
            "Processing product 48 of 87\n",
            "{'Link': 'https://cellphones.com.vn/tecno-pova-6-neo.html', 'Tên sản phẩm': 'Tecno Pova 6 Neo (8GB 128GB)', 'Thương hiệu': 'Tecno', 'Giá tạm tính': '4.150.000đ', 'Thông số kỹ thuật': {'Kích thước màn hình': '6.78 inches', 'Công nghệ màn hình': 'LCD', 'Camera sau': '50MP + AI', 'Camera trước': '8MP', 'Chipset': 'MediaTek Helio G99 Ultimate', 'Công nghệ NFC': 'Có', 'Dung lượng RAM': '8 GB', 'Bộ nhớ trong': '128 GB', 'Pin': '7000 mAh', 'Thẻ SIM': '2 Nano-SIM', 'Hệ điều hành': 'Android 14', 'Độ phân giải màn hình': '1080x2460 pixels', 'Tính năng màn hình': 'Tốc độ làm mới 120Hz'}}\n",
            "Processing product 49 of 87\n",
            "{'Link': 'https://cellphones.com.vn/iphone-13-512gb.html', 'Tên sản phẩm': 'iPhone 13 512GB | Chính hãng VN/A', 'Thương hiệu': 'Apple', 'Giá tạm tính': '24.390.000đ', 'Thông số kỹ thuật': {'Kích thước màn hình': '6.1 inches', 'Công nghệ màn hình': 'Super Retina XDR OLED', 'Camera sau': 'Camera góc rộng: 12MP, f/1.6\\nCamera góc siêu rộng: 12MP, ƒ/2.4', 'Camera trước': '12MP, f/2.2', 'Chipset': 'Apple A15', 'Công nghệ NFC': 'Có', 'Dung lượng RAM': '4 GB', 'Bộ nhớ trong': '512 GB', 'Pin': '3,240mAh', 'Thẻ SIM': '2 SIM (nano‑SIM và eSIM)', 'Hệ điều hành': 'iOS 15', 'Độ phân giải màn hình': '2532 x 1170 pixels', 'Tính năng màn hình': 'Màn hình super Retina XDR, OLED, 460 ppi, 1200 nits, Tần số quét 60 Hz, HDR display, công nghệ True Tone Wide color (P3), Haptic Touch, Lớp phủ oleophobic chống bám vân tay'}}\n",
            "Processing product 50 of 87\n",
            "{'Link': 'https://cellphones.com.vn/iphone-13-256gb.html', 'Tên sản phẩm': 'iPhone 13 256GB | Chính hãng VN/A', 'Thương hiệu': 'Apple', 'Giá tạm tính': '17.490.000đ', 'Thông số kỹ thuật': {'Kích thước màn hình': '6.1 inches', 'Công nghệ màn hình': 'Super Retina XDR OLED', 'Camera sau': 'Camera góc rộng: 12MP, f/1.6\\nCamera góc siêu rộng: 12MP, ƒ/2.4', 'Camera trước': '12MP, f/2.2', 'Chipset': 'Apple A15', 'Công nghệ NFC': 'Có', 'Dung lượng RAM': '4 GB', 'Bộ nhớ trong': '256 GB', 'Pin': '3240 mAh', 'Thẻ SIM': '2 SIM (nano‑SIM và eSIM)', 'Hệ điều hành': 'iOS 15', 'Độ phân giải màn hình': '2532 x 1170 pixels', 'Tính năng màn hình': 'Màn hình super Retina XDR, OLED, 460 ppi, 1200 nits, Tần số quét 60 Hz, HDR display, công nghệ True Tone Wide color (P3), Haptic Touch, Lớp phủ oleophobic chống bám vân tay'}}\n",
            "Processing product 51 of 87\n",
            "{'Link': 'https://cellphones.com.vn/iphone-13.html', 'Tên sản phẩm': 'iPhone 13 128GB | Chính hãng VN/A', 'Thương hiệu': 'Apple', 'Giá tạm tính': '13.890.000đ', 'Thông số kỹ thuật': {'Kích thước màn hình': '6.1 inches', 'Công nghệ màn hình': 'Super Retina XDR OLED', 'Camera sau': 'Camera góc rộng: 12MP, f/1.6\\nCamera góc siêu rộng: 12MP, ƒ/2.4', 'Camera trước': '12MP, f/2.2', 'Chipset': 'Apple A15', 'Công nghệ NFC': 'Có', 'Dung lượng RAM': '4 GB', 'Bộ nhớ trong': '128 GB', 'Pin': '3240mAh', 'Thẻ SIM': '2 SIM (nano‑SIM và eSIM)', 'Hệ điều hành': 'iOS 15', 'Độ phân giải màn hình': '2532 x 1170 pixels', 'Tính năng màn hình': 'Màn hình super Retina XDR, OLED, 460 ppi, HDR display, công nghệ True Tone Wide color (P3), Haptic Touch, Lớp phủ oleophobic chống bám vân tay'}}\n",
            "Processing product 52 of 87\n",
            "{'Link': 'https://cellphones.com.vn/samsung-galaxy-z-fold-6-1tb.html', 'Tên sản phẩm': 'Samsung Galaxy Z Fold6 12GB 1TB', 'Thương hiệu': 'Samsung', 'Giá tạm tính': '52.990.000đ', 'Thông số kỹ thuật': {'Kích thước màn hình': '7.6 inches', 'Công nghệ màn hình': 'Dynamic AMOLED 2X', 'Camera sau': 'Camera góc rộng: 50.0 MP, f/1.8, Thu phóng quang học 2x\\nCamera chụp góc siêu rộng: 12.0 MP, f/2.2\\nCamera ống kính tele: 10.0 MP, f/2.4, Thu phóng Quang học 3x', 'Camera trước': 'Camera bên ngoài:10 MP, f/2.2\\nCamera bên trong: 4 MP, F1.8', 'Chipset': 'Snapdragon 8 Gen 3 for Galaxy Tăng lên 42% AI', 'Công nghệ NFC': 'Có', 'Dung lượng RAM': '12 GB', 'Bộ nhớ trong': '1 TB', 'Pin': '4400 mAh', 'Thẻ SIM': 'SIM 1 + SIM 2 / SIM 1 + eSIM / 2 eSIM', 'Hệ điều hành': 'Android', 'Độ phân giải màn hình': '2160 x 1856 (QXGA+)', 'Tính năng màn hình': 'Màn hình chính: 7.6\", Dynamic AMOLED 2X, 120Hz, độ sâu màu sắc 16M, 2600nits\\nMàn hình phụ: 6.3\", 968 x 2376 (HD+), Dynamic AMOLED 2X\\nKính cường lực Corning® Gorilla® Glass Victus® 2', 'Tương thích': 'Hỗ trợ S Pen'}}\n",
            "Processing product 53 of 87\n",
            "{'Link': 'https://cellphones.com.vn/samsung-galaxy-z-fold-6-512gb.html', 'Tên sản phẩm': 'Samsung Galaxy Z Fold6 12GB 512GB', 'Thương hiệu': 'Samsung', 'Giá tạm tính': '45.990.000đ', 'Thông số kỹ thuật': {'Kích thước màn hình': '7.6 inches', 'Công nghệ màn hình': 'Dynamic AMOLED 2X', 'Camera sau': 'Camera góc rộng: 50.0 MP, f/1.8, Thu phóng quang học 2x\\nCamera chụp góc siêu rộng: 12.0 MP, f/2.2\\nCamera ống kính tele: 10.0 MP, f/2.4, Thu phóng Quang học 3x', 'Camera trước': 'Camera bên ngoài:10 MP, f/2.2\\nCamera bên trong: 4 MP, F1.8', 'Chipset': 'Snapdragon 8 Gen 3 for Galaxy Tăng lên 42% AI', 'Công nghệ NFC': 'Có', 'Dung lượng RAM': '12 GB', 'Bộ nhớ trong': '512 GB', 'Pin': '4400 mAh', 'Thẻ SIM': 'SIM 1 + SIM 2 / SIM 1 + eSIM / 2 eSIM', 'Hệ điều hành': 'Android', 'Độ phân giải màn hình': '2160 x 1856 (QXGA+)', 'Tính năng màn hình': 'Màn hình chính: 7.6\", Dynamic AMOLED 2X, 120Hz, độ sâu màu sắc 16M, 2600nits\\nMàn hình phụ: 6.3\", 968 x 2376 (HD+), Dynamic AMOLED 2X\\nKính cường lực Corning® Gorilla® Glass Victus® 2', 'Tương thích': 'Hỗ trợ S Pen'}}\n",
            "Processing product 54 of 87\n",
            "{'Link': 'https://cellphones.com.vn/samsung-galaxy-z-fold-6.html', 'Tên sản phẩm': 'Samsung Galaxy Z Fold6', 'Thương hiệu': 'Samsung', 'Giá tạm tính': '41.990.000đ', 'Thông số kỹ thuật': {'Kích thước màn hình': '7.6 inches', 'Công nghệ màn hình': 'Dynamic AMOLED 2X', 'Camera sau': 'Camera góc rộng: 50.0 MP, f/1.8, Thu phóng quang học 2x\\nCamera chụp góc siêu rộng: 12.0 MP, f/2.2\\nCamera ống kính tele: 10.0 MP, f/2.4, Thu phóng Quang học 3x', 'Camera trước': 'Camera bên ngoài:10 MP, f/2.2\\nCamera bên trong: 4 MP, F1.8', 'Chipset': 'Snapdragon 8 Gen 3 for Galaxy Tăng lên 42% AI', 'Công nghệ NFC': 'Có', 'Dung lượng RAM': '12 GB', 'Bộ nhớ trong': '256 GB', 'Pin': '4400 mAh', 'Thẻ SIM': 'SIM 1 + SIM 2 / SIM 1 + eSIM / 2 eSIM', 'Hệ điều hành': 'Android', 'Độ phân giải màn hình': '2160 x 1856 (QXGA+)', 'Tính năng màn hình': 'Màn hình chính: 7.6\", Dynamic AMOLED 2X, 120Hz, độ sâu màu sắc 16M, 2600nits\\nMàn hình phụ: 6.3\", 968 x 2376 (HD+), Dynamic AMOLED 2X\\nKính cường lực Corning® Gorilla® Glass Victus® 2', 'Loại CPU': '8 nhân 3.39 GHz, 3.1GHz, 2.9GHz, 2.2GHz', 'Tương thích': 'Hỗ trợ S Pen'}}\n",
            "Processing product 55 of 87\n",
            "{'Link': 'https://cellphones.com.vn/iphone-15-512gb.html', 'Tên sản phẩm': 'iPhone 15 512GB | Chính hãng VN/A', 'Thương hiệu': 'Apple', 'Giá tạm tính': '28.490.000đ', 'Thông số kỹ thuật': {'Kích thước màn hình': '6.1 inches', 'Công nghệ màn hình': 'Super Retina XDR OLED', 'Camera sau': 'Chính 48 MP & Phụ 12 MP', 'Camera trước': '12MP, ƒ/1.9', 'Chipset': 'Apple A16 Bionic', 'Công nghệ NFC': 'Có', 'Dung lượng RAM': '6 GB', 'Bộ nhớ trong': '512 GB', 'Pin': '3349 mAh', 'Thẻ SIM': '2 SIM (nano‑SIM và eSIM)', 'Hệ điều hành': 'iOS 17', 'Độ phân giải màn hình': '2556 x 1179 pixels', 'Tính năng màn hình': 'Dynamic Island\\nHDR display\\nTrue Tone\\nWide color (P3)\\nHaptic Touch\\nLớp phủ oleophobia chống dấu vân tay\\nĐộ sáng tối đa: 2000 nits\\nMật độ điểm ảnh 460 ppi'}}\n",
            "Processing product 56 of 87\n",
            "{'Link': 'https://cellphones.com.vn/iphone-15-256gb.html', 'Tên sản phẩm': 'iPhone 15 256GB | Chính hãng VN/A', 'Thương hiệu': 'Apple', 'Giá tạm tính': '23.290.000đ', 'Thông số kỹ thuật': {'Kích thước màn hình': '6.1 inches', 'Công nghệ màn hình': 'Super Retina XDR OLED', 'Camera sau': 'Chính 48 MP & Phụ 12 MP', 'Camera trước': '12MP, ƒ/1.9', 'Chipset': 'Apple A16 Bionic 6 nhân', 'Công nghệ NFC': 'Có', 'Dung lượng RAM': '6 GB', 'Bộ nhớ trong': '256 GB', 'Pin': '3349 mAh', 'Thẻ SIM': '2 SIM (nano‑SIM và eSIM)', 'Hệ điều hành': 'iOS 17', 'Độ phân giải màn hình': '2556 x 1179 pixels', 'Tính năng màn hình': 'Dynamic Island\\nHDR display\\nTrue Tone\\nWide color (P3)\\nHaptic Touch\\nLớp phủ oleophobia chống dấu vân tay\\nĐộ sáng tối đa: 2000 nits\\nMặt kính cảm ứng: Kính cường lực Ceramic Shield\\nTần số quét 60 Hz'}}\n",
            "Processing product 57 of 87\n",
            "{'Link': 'https://cellphones.com.vn/iphone-15.html', 'Tên sản phẩm': 'iPhone 15 128GB | Chính hãng VN/A', 'Thương hiệu': 'Apple', 'Giá tạm tính': '19.690.000đ', 'Thông số kỹ thuật': {'Kích thước màn hình': '6.1 inches', 'Công nghệ màn hình': 'Super Retina XDR OLED', 'Camera sau': 'Chính 48 MP & Phụ 12 MP', 'Camera trước': '12MP, ƒ/1.9', 'Chipset': 'Apple A16 Bionic 6 nhân', 'Công nghệ NFC': 'Có', 'Dung lượng RAM': '6 GB', 'Bộ nhớ trong': '128 GB', 'Pin': '3349 mAh', 'Thẻ SIM': '2 SIM (nano‑SIM và eSIM)', 'Hệ điều hành': 'iOS 17', 'Độ phân giải màn hình': '2556 x 1179 pixels', 'Tính năng màn hình': 'Dynamic Island\\nHDR display\\nTrue Tone\\nWide color (P3)\\nHaptic Touch\\nLớp phủ oleophobia chống dấu vân tay\\nĐộ sáng tối đa: 2000 nits\\nMặt kính cảm ứng: Kính cường lực Ceramic Shield\\nTần số quét 60 Hz'}}\n",
            "Processing product 58 of 87\n",
            "{'Link': 'https://cellphones.com.vn/samsung-galaxy-s23.html', 'Tên sản phẩm': 'Samsung Galaxy S23 8GB 256GB', 'Thương hiệu': 'Samsung', 'Giá tạm tính': '14.590.000đ', 'Thông số kỹ thuật': {'Kích thước màn hình': '6.1 inches', 'Công nghệ màn hình': 'Dynamic AMOLED 2X', 'Camera sau': 'Camera chính 50 MP, f/1.8 & Phụ 12 MP, f/2.2, 10 MP, f/2.4', 'Camera trước': '12MP, f/2.2', 'Chipset': 'Snapdragon 8 Gen 2', 'Công nghệ NFC': 'Có', 'Dung lượng RAM': '8 GB', 'Bộ nhớ trong': '256 GB', 'Pin': '3900 mAh', 'Thẻ SIM': '2 Nano-SIM + eSIM', 'Hệ điều hành': 'Android', 'Độ phân giải màn hình': '1080 x 2340 pixels (FullHD+)', 'Tính năng màn hình': 'Tần số quét 120Hz, Kính cường lực Corning Gorilla Glass Victus 2, Độ sáng tối đa: 1750 nits', 'Tương thích': 'Không hỗ trợ Spen'}}\n",
            "Processing product 59 of 87\n",
            "{'Link': 'https://cellphones.com.vn/samsung-galaxy-s23-128gb.html', 'Tên sản phẩm': 'Samsung Galaxy S23 8GB 128GB - Chỉ có tại CellphoneS', 'Thương hiệu': 'Samsung', 'Giá tạm tính': '13.490.000đ', 'Thông số kỹ thuật': {'Kích thước màn hình': '6.1 inches', 'Công nghệ màn hình': 'Dynamic AMOLED 2X', 'Camera sau': 'Camera chính 50 MP & Phụ 12 MP, 10 MP', 'Camera trước': '12MP', 'Chipset': 'Snapdragon 8 Gen 2 for Galaxy', 'Công nghệ NFC': 'Có', 'Dung lượng RAM': '8 GB', 'Bộ nhớ trong': '128 GB', 'Pin': '3900 mAh', 'Thẻ SIM': '2 Nano SIM hoặc 1 Nano + 1 eSIM', 'Hệ điều hành': 'Android 13', 'Độ phân giải màn hình': '1080 x 2340 pixels (FullHD+)', 'Tính năng màn hình': 'Tần số quét 120Hz, Độ sáng tối đa 1750 nits\\nKính cường lực Corning Gorilla Glass Victus 2', 'Loại CPU': '1 nhân 3.36 GHz, 4 nhân 2.8 GHz & 3 nhân 2 GHz'}}\n",
            "Processing product 60 of 87\n",
            "{'Link': 'https://cellphones.com.vn/dien-thoai-samsung-galaxy-m55.html', 'Tên sản phẩm': 'Samsung Galaxy M55 (12GB 256GB)', 'Thương hiệu': 'Samsung', 'Giá tạm tính': '10.990.000đ', 'Thông số kỹ thuật': {'Kích thước màn hình': '6.7 inches', 'Công nghệ màn hình': 'Super AMOLED Plus', 'Camera sau': 'Camera góc rộng: 50 MP, f/1.8, 1/1.56\", 1.0µm, PDAF, OIS\\nCamera góc siêu rộng: 8 MP, f/2.2, 123˚\\nCamera macro: 2 MP, f/2.4', 'Camera trước': 'Camera góc rộng: 50 MP, f/2.4', 'Chipset': 'Qualcomm Snapdragon 7 Gen 1 (4 nm)', 'Công nghệ NFC': 'Có', 'Dung lượng RAM': '12 GB', 'Bộ nhớ trong': '256 GB', 'Pin': '5000 mAh', 'Thẻ SIM': '2 SIM (Nano-SIM)', 'Hệ điều hành': 'Android 14', 'Độ phân giải màn hình': '1080 x 2400 pixels (FullHD+)', 'Tính năng màn hình': 'Tần số quét 120Hz, 1000 nits', 'Loại CPU': '1x2.4 GHz Cortex-A710 & 3x2.36 GHz Cortex-A710 & 4x1.8 GHz Cortex-A510'}}\n",
            "Processing product 61 of 87\n",
            "{'Link': 'https://cellphones.com.vn/samsung-galaxy-a25.html', 'Tên sản phẩm': 'Samsung Galaxy A25 5G 6GB 128GB', 'Thương hiệu': 'Samsung', 'Giá tạm tính': '5.990.000đ', 'Thông số kỹ thuật': {'Kích thước màn hình': '6.5 inches', 'Công nghệ màn hình': 'Super AMOLED', 'Camera sau': 'Chính 50 MP & Phụ 8 MP, 2 MP', 'Camera trước': '13 MP', 'Chipset': 'Exynos 1280 8 nhân', 'Công nghệ NFC': 'Có', 'Dung lượng RAM': '6 GB', 'Bộ nhớ trong': '128 GB', 'Pin': '5000 mAh', 'Thẻ SIM': '2 SIM (Nano-SIM)', 'Hệ điều hành': 'Android 14', 'Độ phân giải màn hình': '1080 x 2340 pixels (FullHD+)', 'Tính năng màn hình': 'Tần số quét 120 Hz Độ sáng tối đa: 1000 nits\\nKính cường lực Corning Gorilla Glass 5'}}\n",
            "Processing product 62 of 87\n",
            "{'Link': 'https://cellphones.com.vn/samsung-galaxy-a15.html', 'Tên sản phẩm': 'Samsung Galaxy A15 LTE 8GB 128GB', 'Thương hiệu': 'Samsung', 'Giá tạm tính': '4.490.000đ', 'Thông số kỹ thuật': {'Kích thước màn hình': '6.5 inches', 'Công nghệ màn hình': 'Super AMOLED', 'Camera sau': 'Chính 50 MP & Phụ 5 MP, 2 MP', 'Camera trước': '13MP', 'Chipset': 'MediaTek G99', 'Công nghệ NFC': 'Có', 'Dung lượng RAM': '8 GB', 'Bộ nhớ trong': '128 GB', 'Pin': '5000 mAh', 'Thẻ SIM': '2 SIM (Nano-SIM)', 'Hệ điều hành': 'Android 14', 'Độ phân giải màn hình': '1080 x 2340 pixels (FullHD+)', 'Tính năng màn hình': 'Tần số quét 90 Hz\\nĐộ sáng tối đa: 800 nits\\nMặt kính cảm ứng: Kính cường lực'}}\n",
            "Processing product 63 of 87\n",
            "{'Link': 'https://cellphones.com.vn/xiaomi-redmi-note-13-pro-plus.html', 'Tên sản phẩm': 'Xiaomi Redmi Note 13 Pro Plus 5G 8GB 256GB', 'Thương hiệu': 'Xiaomi', 'Giá tạm tính': '9.690.000đ', 'Thông số kỹ thuật': {'Kích thước màn hình': '6.67 inches', 'Công nghệ màn hình': 'AMOLED', 'Camera sau': 'Chính 200 MP & Phụ 8 MP, 2 MP', 'Camera trước': '16 MP', 'Chipset': 'Mediatek Dimensity 7200 Ultra (4 nm)', 'Công nghệ NFC': 'Có', 'Dung lượng RAM': '8 GB', 'Bộ nhớ trong': '256 GB', 'Pin': '5000 mAh', 'Thẻ SIM': '2 SIM (Nano-SIM)', 'Hệ điều hành': 'Android 13', 'Độ phân giải màn hình': '1220 x 2712 pixels', 'Tính năng màn hình': 'Tần số quét 120Hz'}}\n",
            "Processing product 64 of 87\n",
            "{'Link': 'https://cellphones.com.vn/xiaomi-redmi-note-13-pro.html', 'Tên sản phẩm': 'Xiaomi Redmi Note 13 Pro 4G', 'Thương hiệu': 'Xiaomi', 'Giá tạm tính': '6.690.000đ', 'Thông số kỹ thuật': {'Kích thước màn hình': '6.67 inches', 'Công nghệ màn hình': 'AMOLED', 'Camera sau': 'Chính 200 MP & Phụ 8 MP, 2 MP', 'Camera trước': '16 MP', 'Chipset': 'MediaTek Helio G99-Ultra 8 nhân', 'Công nghệ NFC': 'Có', 'Dung lượng RAM': '8 GB', 'Bộ nhớ trong': '128 GB', 'Pin': '5000 mAh', 'Thẻ SIM': '2 SIM (Nano-SIM)', 'Hệ điều hành': 'Android 13', 'Độ phân giải màn hình': '1080 x 2400 pixels (FullHD+)', 'Tính năng màn hình': 'Tần số quét 120Hz\\n1300 nits\\nKính cường lực Corning Gorilla Glass 5'}}\n",
            "Processing product 65 of 87\n",
            "{'Link': 'https://cellphones.com.vn/xiaomi-redmi-note-13.html', 'Tên sản phẩm': 'Xiaomi Redmi Note 13 (6GB 128GB)', 'Thương hiệu': 'Xiaomi', 'Giá tạm tính': '4.690.000đ', 'Thông số kỹ thuật': {'Kích thước màn hình': '6.67 inches', 'Công nghệ màn hình': 'AMOLED', 'Camera sau': 'Chính 108 MP & Phụ 8 MP, 2 MP', 'Camera trước': '16MP', 'Chipset': 'Snapdragon 685', 'Công nghệ NFC': 'Không', 'Dung lượng RAM': '6 GB', 'Bộ nhớ trong': '128 GB', 'Pin': '5000 mAh', 'Thẻ SIM': '2 SIM (Nano-SIM)', 'Hệ điều hành': 'Android 13', 'Độ phân giải màn hình': '1080 x 2400 pixels (FullHD+)', 'Tính năng màn hình': 'Tần số quét 120Hz'}}\n",
            "Processing product 66 of 87\n",
            "{'Link': 'https://cellphones.com.vn/dien-thoai-xiaomi-poco-m6.html', 'Tên sản phẩm': 'Xiaomi POCO M6 (6GB 128GB)', 'Thương hiệu': 'Xiaomi', 'Giá tạm tính': '3.890.000đ', 'Thông số kỹ thuật': {'Kích thước màn hình': '6.79 inches', 'Công nghệ màn hình': 'IPS LCD', 'Camera sau': 'Camera chính: 108MP siêu rõ ống kính 6P, f/1,75\\nCamera macro: 2MP f/2,4', 'Camera trước': '13MP, f/2,45', 'Chipset': 'Helio G91-Ultra', 'Công nghệ NFC': 'Có', 'Dung lượng RAM': '6 GB', 'Bộ nhớ trong': '128 GB', 'Pin': '5030 mAh', 'Thẻ SIM': '2 SIM (Nano-SIM)', 'Hệ điều hành': 'Android 13', 'Độ phân giải màn hình': '2460x1080 pixels', 'Tính năng màn hình': '396 ppi\\nLên đến 90Hz\\n450 nit'}}\n",
            "Processing product 67 of 87\n",
            "{'Link': 'https://cellphones.com.vn/dien-thoai-xiaomi-poco-x6-pro.html', 'Tên sản phẩm': 'Xiaomi POCO X6 Pro 5G 8GB 256GB - Chỉ có tại CellphoneS', 'Thương hiệu': 'Điện thoại pin trâu', 'Giá tạm tính': '8.490.000đ', 'Thông số kỹ thuật': {'Kích thước màn hình': '6.67 inches', 'Công nghệ màn hình': 'AMOLED', 'Camera sau': 'Camera góc siêu rộng: 64 MP, f/1.7\\nCamera góc siêu rộng: 8 MP, 120° FOV, f/2.2\\nCamera macro: 2 MP, f/2.4', 'Camera trước': 'Camera góc siêu rộng: 16 MP', 'Chipset': 'Dimensity 8300-Ultra', 'Công nghệ NFC': 'Có', 'Dung lượng RAM': '8 GB', 'Bộ nhớ trong': '256 GB', 'Pin': '5000 mAh', 'Thẻ SIM': '2 SIM (Nano-SIM)', 'Hệ điều hành': 'Android 14', 'Độ phân giải màn hình': '1220 x 2712 pixels', 'Tính năng màn hình': '68 tỷ màu, tần số 120Hz, Dolby Vision, HDR10+, 1800 nits, 5,000,000:1, DCI-P3\\nCorning Gorilla Glass 5'}}\n",
            "Processing product 68 of 87\n",
            "{'Link': 'https://cellphones.com.vn/iphone-15-plus-512gb.html', 'Tên sản phẩm': 'iPhone 15 Plus 512GB | Chính hãng VN/A', 'Thương hiệu': 'Apple', 'Giá tạm tính': '30.590.000đ', 'Thông số kỹ thuật': {'Kích thước màn hình': '6.7 inches', 'Công nghệ màn hình': 'Super Retina XDR OLED', 'Camera sau': 'Chính 48 MP & Phụ 12 MP', 'Camera trước': '12MP, ƒ/1.9', 'Chipset': 'Apple A16 Bionic', 'Công nghệ NFC': 'Có', 'Dung lượng RAM': '6 GB', 'Bộ nhớ trong': '512 GB', 'Pin': '4383 mAh', 'Thẻ SIM': '2 SIM (nano‑SIM và eSIM)', 'Hệ điều hành': 'iOS 17', 'Độ phân giải màn hình': '2796 x 1290-pixel', 'Tính năng màn hình': 'Dynamic Island\\nHDR display\\nTrue Tone\\nWide color (P3)\\nTần số quét 60 Hz\\nHaptic Touch\\nLớp phủ oleophobia chống dấu vân tay\\nĐộ sáng tối đa: 2000 nits\\nMật độ điểm ảnh 460 ppi'}}\n",
            "Processing product 69 of 87\n",
            "{'Link': 'https://cellphones.com.vn/iphone-15-plus-256gb.html', 'Tên sản phẩm': 'iPhone 15 Plus 256GB | Chính hãng VN/A', 'Thương hiệu': 'Apple', 'Giá tạm tính': '25.990.000đ', 'Thông số kỹ thuật': {'Kích thước màn hình': '6.7 inches', 'Công nghệ màn hình': 'Super Retina XDR OLED', 'Camera sau': 'Chính 48 MP & Phụ 12 MP', 'Camera trước': '12MP, ƒ/1.9', 'Chipset': 'Apple A16 Bionic', 'Công nghệ NFC': 'Có', 'Dung lượng RAM': '6 GB', 'Bộ nhớ trong': '256 GB', 'Pin': '4383 mAh', 'Thẻ SIM': '2 SIM (nano‑SIM và eSIM)', 'Hệ điều hành': 'iOS 17', 'Độ phân giải màn hình': '2796 x 1290-pixel', 'Tính năng màn hình': 'Dynamic Island\\nHDR display\\nTrue Tone\\nWide color (P3)\\nTần số quét 60 Hz\\nHaptic Touch\\nLớp phủ oleophobia chống dấu vân tay\\nĐộ sáng tối đa: 2000 nits\\nMật độ điểm ảnh 460 ppi'}}\n",
            "Processing product 70 of 87\n",
            "{'Link': 'https://cellphones.com.vn/iphone-15-plus.html', 'Tên sản phẩm': 'iPhone 15 Plus 128GB | Chính hãng VN/A', 'Thương hiệu': 'Apple', 'Giá tạm tính': '22.690.000đ', 'Thông số kỹ thuật': {'Kích thước màn hình': '6.7 inches', 'Công nghệ màn hình': 'Super Retina XDR OLED', 'Camera sau': 'Chính 48 MP & Phụ 12 MP', 'Camera trước': '12MP, ƒ/1.9', 'Chipset': 'Apple A16 Bionic', 'Công nghệ NFC': 'Có', 'Dung lượng RAM': '6 GB', 'Bộ nhớ trong': '128 GB', 'Pin': '4383 mAh', 'Thẻ SIM': '2 SIM (nano‑SIM và eSIM)', 'Hệ điều hành': 'iOS 17', 'Độ phân giải màn hình': '2796 x 1290-pixel', 'Tính năng màn hình': 'Dynamic Island\\nHDR display\\nTrue Tone\\nWide color (P3)\\nTần số quét 60 Hz\\nHaptic Touch\\nLớp phủ oleophobia chống dấu vân tay\\nĐộ sáng tối đa: 2000 nits\\nMật độ điểm ảnh 460 ppi'}}\n",
            "Processing product 71 of 87\n",
            "{'Link': 'https://cellphones.com.vn/xiaomi-redmi-note-13-pro-plus.html', 'Tên sản phẩm': 'Xiaomi Redmi Note 13 Pro Plus 5G 8GB 256GB', 'Thương hiệu': 'Xiaomi', 'Giá tạm tính': '9.690.000đ', 'Thông số kỹ thuật': {'Kích thước màn hình': '6.67 inches', 'Công nghệ màn hình': 'AMOLED', 'Camera sau': 'Chính 200 MP & Phụ 8 MP, 2 MP', 'Camera trước': '16 MP', 'Chipset': 'Mediatek Dimensity 7200 Ultra (4 nm)', 'Công nghệ NFC': 'Có', 'Dung lượng RAM': '8 GB', 'Bộ nhớ trong': '256 GB', 'Pin': '5000 mAh', 'Thẻ SIM': '2 SIM (Nano-SIM)', 'Hệ điều hành': 'Android 13', 'Độ phân giải màn hình': '1220 x 2712 pixels', 'Tính năng màn hình': 'Tần số quét 120Hz'}}\n",
            "Processing product 72 of 87\n",
            "{'Link': 'https://cellphones.com.vn/xiaomi-redmi-note-13-pro.html', 'Tên sản phẩm': 'Xiaomi Redmi Note 13 Pro 4G', 'Thương hiệu': 'Xiaomi', 'Giá tạm tính': '6.690.000đ', 'Thông số kỹ thuật': {'Kích thước màn hình': '6.67 inches', 'Công nghệ màn hình': 'AMOLED', 'Camera sau': 'Chính 200 MP & Phụ 8 MP, 2 MP', 'Camera trước': '16 MP', 'Chipset': 'MediaTek Helio G99-Ultra 8 nhân', 'Công nghệ NFC': 'Có', 'Dung lượng RAM': '8 GB', 'Bộ nhớ trong': '128 GB', 'Pin': '5000 mAh', 'Thẻ SIM': '2 SIM (Nano-SIM)', 'Hệ điều hành': 'Android 13', 'Độ phân giải màn hình': '1080 x 2400 pixels (FullHD+)', 'Tính năng màn hình': 'Tần số quét 120Hz\\n1300 nits\\nKính cường lực Corning Gorilla Glass 5'}}\n",
            "Processing product 73 of 87\n",
            "{'Link': 'https://cellphones.com.vn/xiaomi-redmi-note-13.html', 'Tên sản phẩm': 'Xiaomi Redmi Note 13 (6GB 128GB)', 'Thương hiệu': 'Xiaomi', 'Giá tạm tính': '4.690.000đ', 'Thông số kỹ thuật': {'Kích thước màn hình': '6.67 inches', 'Công nghệ màn hình': 'AMOLED', 'Camera sau': 'Chính 108 MP & Phụ 8 MP, 2 MP', 'Camera trước': '16MP', 'Chipset': 'Snapdragon 685', 'Công nghệ NFC': 'Không', 'Dung lượng RAM': '6 GB', 'Bộ nhớ trong': '128 GB', 'Pin': '5000 mAh', 'Thẻ SIM': '2 SIM (Nano-SIM)', 'Hệ điều hành': 'Android 13', 'Độ phân giải màn hình': '1080 x 2400 pixels (FullHD+)', 'Tính năng màn hình': 'Tần số quét 120Hz'}}\n",
            "Processing product 74 of 87\n",
            "{'Link': 'https://cellphones.com.vn/iphone-15-pro-1tb.html', 'Tên sản phẩm': 'iPhone 15 Pro 1TB | Chính hãng VN/A', 'Thương hiệu': 'Apple', 'Giá tạm tính': '38.490.000đ', 'Thông số kỹ thuật': {'Kích thước màn hình': '6.1 inches', 'Công nghệ màn hình': 'Super Retina XDR OLED', 'Camera sau': 'Camera chính: 48MP, 24 mm, ƒ/1.78,\\nCamera góc siêu rộng: 12 MP, 13 mm, ƒ/2.2\\nCamera Tele 3x: 12 MP, 77 mm, ƒ/2.8', 'Camera trước': '12MP, ƒ/1.9', 'Chipset': 'Apple A17 Pro 6 nhân', 'Công nghệ NFC': 'Có', 'Dung lượng RAM': '8 GB', 'Bộ nhớ trong': '1 TB', 'Pin': '3274 mAh', 'Thẻ SIM': '2 SIM (nano‑SIM và eSIM)', 'Hệ điều hành': 'iOS 17', 'Độ phân giải màn hình': '2556 x 1179 pixels', 'Tính năng màn hình': 'Tốc độ làm mới 120Hz\\n460 ppi\\nHDR\\nTrue Tone\\nDải màu rộng (P3)\\nHaptic Touch\\nTỷ lệ tương phản 2.000.000:1'}}\n",
            "Processing product 75 of 87\n",
            "{'Link': 'https://cellphones.com.vn/iphone-15-pro-512gb.html', 'Tên sản phẩm': 'iPhone 15 Pro 512GB | Chính hãng VN/A', 'Thương hiệu': 'Apple', 'Giá tạm tính': '32.990.000đ', 'Thông số kỹ thuật': {'Kích thước màn hình': '6.1 inches', 'Công nghệ màn hình': 'Super Retina XDR OLED', 'Camera sau': 'Camera chính: 48MP, 24 mm, ƒ/1.78,\\nCamera góc siêu rộng: 12 MP, 13 mm, ƒ/2.2\\nCamera Tele 3x: 12 MP, 77 mm, ƒ/2.8', 'Camera trước': '12MP, ƒ/1.9', 'Chipset': 'Apple A17 Pro 6 nhân', 'Công nghệ NFC': 'Có', 'Dung lượng RAM': '8 GB', 'Bộ nhớ trong': '512 GB', 'Pin': '3274 mAh', 'Thẻ SIM': '2 SIM (nano‑SIM và eSIM)', 'Hệ điều hành': 'iOS 17', 'Độ phân giải màn hình': '2556 x 1179 pixels', 'Tính năng màn hình': 'Tốc độ làm mới 120Hz\\n460 ppi\\nHDR\\nTrue Tone\\nDải màu rộng (P3)\\nHaptic Touch\\nTỷ lệ tương phản 2.000.000:1'}}\n",
            "Processing product 76 of 87\n",
            "{'Link': 'https://cellphones.com.vn/iphone-15-pro-256gb.html', 'Tên sản phẩm': 'iPhone 15 Pro 256GB | Chính hãng VN/A', 'Thương hiệu': 'Apple', 'Giá tạm tính': '27.990.000đ', 'Thông số kỹ thuật': {'Kích thước màn hình': '6.1 inches', 'Công nghệ màn hình': 'Super Retina XDR OLED', 'Camera sau': 'Camera chính: 48MP, 24 mm, ƒ/1.78,\\nCamera góc siêu rộng: 12 MP, 13 mm, ƒ/2.2\\nCamera Tele 3x: 12 MP, 77 mm, ƒ/2.8', 'Camera trước': '12MP, ƒ/1.9', 'Chipset': 'Apple A17 Pro 6 nhân', 'Công nghệ NFC': 'Có', 'Dung lượng RAM': '8 GB', 'Bộ nhớ trong': '256 GB', 'Pin': '3274 mAh', 'Thẻ SIM': '2 SIM (nano‑SIM và eSIM)', 'Hệ điều hành': 'iOS 17', 'Độ phân giải màn hình': '2556 x 1179 pixels', 'Tính năng màn hình': 'Tốc độ làm mới 120Hz\\n460 ppi\\nHDR\\nTrue Tone\\nDải màu rộng (P3)\\nHaptic Touch\\nTỷ lệ tương phản 2.000.000:1'}}\n",
            "Processing product 77 of 87\n",
            "{'Link': 'https://cellphones.com.vn/iphone-15-pro.html', 'Tên sản phẩm': 'iPhone 15 Pro 128GB | Chính hãng VN/A', 'Thương hiệu': 'Apple', 'Giá tạm tính': '24.790.000đ', 'Thông số kỹ thuật': {'Kích thước màn hình': '6.1 inches', 'Công nghệ màn hình': 'Super Retina XDR OLED', 'Camera sau': 'Camera chính: 48MP, 24 mm, ƒ/1.78,\\nCamera góc siêu rộng: 12 MP, 13 mm, ƒ/2.2\\nCamera Tele 3x: 12 MP, 77 mm, ƒ/2.8', 'Camera trước': '12MP, ƒ/1.9', 'Chipset': 'Apple A17 Pro 6 nhân', 'Công nghệ NFC': 'Có', 'Dung lượng RAM': '8 GB', 'Bộ nhớ trong': '128 GB', 'Pin': '3274 mAh', 'Thẻ SIM': '2 SIM (nano‑SIM và eSIM)', 'Hệ điều hành': 'iOS 17', 'Độ phân giải màn hình': '2556 x 1179 pixels', 'Tính năng màn hình': 'Tốc độ làm mới 120Hz\\n460 ppi\\nHDR\\nTrue Tone\\nDải màu rộng (P3)\\nHaptic Touch\\nTỷ lệ tương phản 2.000.000:1\\nĐộ sáng 2.000 nit'}}\n",
            "Processing product 78 of 87\n",
            "{'Link': 'https://cellphones.com.vn/iphone-11-256gb.html', 'Tên sản phẩm': 'iPhone 11 256GB I Chính hãng VN/A', 'Thương hiệu': 'Apple', 'Giá tạm tính': '19.990.000đ', 'Thông số kỹ thuật': {'Kích thước màn hình': '6.1 inches', 'Công nghệ màn hình': 'OLED', 'Camera sau': 'Camera kép 12MP:\\n- Camera góc rộng: ƒ/1.8 aperture\\n- Camera siêu rộng: ƒ/2.4 aperture', 'Camera trước': '12 MP, ƒ/2.2 aperture', 'Chipset': 'A13 Bionic', 'Công nghệ NFC': 'Có', 'Dung lượng RAM': '4 GB', 'Bộ nhớ trong': '256 GB', 'Pin': '3110 mAh', 'Thẻ SIM': 'Nano-SIM + eSIM', 'Hệ điều hành': 'iOS 13 hoặc cao hơn (Tùy vào phiên bản phát hành)', 'Độ phân giải màn hình': '1792 x 828 pixel', 'Tính năng màn hình': 'True-tone', 'Cảm biến': 'FaceID, Con quay hồi chuyển, Gia tốc kế, Cảm biến tiệm cận, Cảm biến ánh sáng xung quanh'}}\n",
            "Processing product 79 of 87\n",
            "{'Link': 'https://cellphones.com.vn/iphone-11-128gb.html', 'Tên sản phẩm': 'iPhone 11 128GB | Chính hãng VN/A', 'Thương hiệu': 'Apple', 'Giá tạm tính': '10.090.000đ', 'Thông số kỹ thuật': {'Kích thước màn hình': '6.1 inches', 'Công nghệ màn hình': 'IPS LCD', 'Camera sau': 'Camera kép 12MP:\\n- Camera góc rộng: ƒ/1.8 aperture\\n- Camera siêu rộng: ƒ/2.4 aperture', 'Camera trước': '12 MP, ƒ/2.2 aperture', 'Chipset': 'A13 Bionic', 'Công nghệ NFC': 'Có', 'Dung lượng RAM': '4 GB', 'Bộ nhớ trong': '128 GB', 'Pin': '3110 mAh', 'Thẻ SIM': 'Nano-SIM + eSIM', 'Hệ điều hành': 'iOS 13 hoặc cao hơn (Tùy vào phiên bản phát hành)', 'Độ phân giải màn hình': '1792 x 828 pixel', 'Tính năng màn hình': 'True-tone', 'Cảm biến': 'FaceID, Con quay hồi chuyển, Gia tốc kế, Cảm biến tiệm cận, Cảm biến ánh sáng xung quanh'}}\n",
            "Processing product 80 of 87\n",
            "{'Link': 'https://cellphones.com.vn/iphone-11.html', 'Tên sản phẩm': 'iPhone 11 64GB | Chính hãng VN/A', 'Thương hiệu': 'Apple', 'Giá tạm tính': '8.950.000đ', 'Thông số kỹ thuật': {'Kích thước màn hình': '6.1 inches', 'Công nghệ màn hình': 'IPS LCD', 'Camera sau': 'Camera kép 12MP:\\n- Camera góc rộng: ƒ/1.8 aperture\\n- Camera siêu rộng: ƒ/2.4 aperture', 'Camera trước': '12 MP, ƒ/2.2 aperture', 'Chipset': 'A13 Bionic', 'Công nghệ NFC': 'Có', 'Dung lượng RAM': '4 GB', 'Bộ nhớ trong': '64 GB', 'Pin': '3110 mAh', 'Thẻ SIM': 'Nano-SIM + eSIM', 'Hệ điều hành': 'iOS 13 hoặc cao hơn (Tùy vào phiên bản phát hành)', 'Độ phân giải màn hình': '1792 x 828 pixel', 'Tính năng màn hình': 'True-tone', 'Cảm biến': 'FaceID, Con quay hồi chuyển, Gia tốc kế, Cảm biến tiệm cận, Cảm biến ánh sáng xung quanh'}}\n",
            "Processing product 81 of 87\n",
            "{'Link': 'https://cellphones.com.vn/dien-thoai-infinix-note-40-pro.html', 'Tên sản phẩm': 'Infinix Note 40 Pro 8GB 256GB', 'Thương hiệu': 'Infinix', 'Giá tạm tính': '5.790.000đ', 'Thông số kỹ thuật': {'Kích thước màn hình': '6.78 inches', 'Công nghệ màn hình': 'AMOLED', 'Camera sau': '108MP, f/1.75, 1/1.67\"OIS\\n2MP, f/2.4\\n2MP, f/2.4', 'Camera trước': '32MP, f/2.2, FF', 'Chipset': 'MediaTek Helio G99 Ultimate', 'Công nghệ NFC': 'Có', 'Dung lượng RAM': '8 GB', 'Bộ nhớ trong': '256 GB', 'Pin': '5000 mAh', 'Thẻ SIM': '2 SIM (Nano-SIM)', 'Hệ điều hành': 'XOS 14', 'Độ phân giải màn hình': '1080 x 2436 pixels', 'Tính năng màn hình': '93.80%, 550nit\\nTần số quét 120Hz\\nKính cường lực 3D Corning Gorilla'}}\n",
            "Processing product 82 of 87\n",
            "{'Link': 'https://cellphones.com.vn/nubia-neo-2.html', 'Tên sản phẩm': 'Điện thoại Nubia Neo 2', 'Thương hiệu': 'Chuẩn NFC', 'Giá tạm tính': '4.990.000đ', 'Thông số kỹ thuật': {'Kích thước màn hình': '6.72 inches', 'Công nghệ màn hình': 'IPS LCD', 'Camera sau': 'Camera góc rộng: 50 MP, f/1.8, PDAF\\nCamera đo độ sâu: 2 MP, f/2.4', 'Camera trước': '16MP', 'Chipset': 'Unisoc T820 (6 nm)', 'Công nghệ NFC': 'Có', 'Dung lượng RAM': '8 GB', 'Bộ nhớ trong': '256 GB', 'Pin': '6000mAh', 'Thẻ SIM': '2 SIM (Nano-SIM)', 'Hệ điều hành': 'Android 13', 'Độ phân giải màn hình': '1080 x 2400 pixels (FullHD+)', 'Tính năng màn hình': 'Corning Gorilla Glass, 400 ppi\\nTần số quét 120Hz', 'Loại CPU': '1x2.7 GHz Cortex-A76 & 3x2.3 GHz Cortex-A76 & 4x2.1 GHz Cortex-A55'}}\n",
            "Processing product 83 of 87\n",
            "{'Link': 'https://cellphones.com.vn/nubia-neo-5g.html', 'Tên sản phẩm': 'Nubia Neo 8GB 256GB', 'Thương hiệu': 'Chuẩn NFC', 'Giá tạm tính': '4.290.000đ', 'Thông số kỹ thuật': {'Kích thước màn hình': '6.6 inches', 'Công nghệ màn hình': 'IPS LCD', 'Camera sau': '50M AF,f/1.8 +2M, f/2.4', 'Camera trước': '8M, f/2.0, FF', 'Chipset': 'Chip Unisoc T820', 'Dung lượng RAM': '8 GB', 'Bộ nhớ trong': '256 GB', 'Pin': '4500mAh', 'Thẻ SIM': '2 SIM (Nano-SIM)', 'Hệ điều hành': 'Android 13', 'Độ phân giải màn hình': '1080 x 2408 pixels', 'Tính năng màn hình': 'Tần số quét 120Hz'}}\n",
            "Processing product 84 of 87\n",
            "{'Link': 'https://cellphones.com.vn/xiaomi-redmi-note-13-pro-plus.html', 'Tên sản phẩm': 'Xiaomi Redmi Note 13 Pro Plus 5G 8GB 256GB', 'Thương hiệu': 'Xiaomi', 'Giá tạm tính': '9.690.000đ', 'Thông số kỹ thuật': {'Kích thước màn hình': '6.67 inches', 'Công nghệ màn hình': 'AMOLED', 'Camera sau': 'Chính 200 MP & Phụ 8 MP, 2 MP', 'Camera trước': '16 MP', 'Chipset': 'Mediatek Dimensity 7200 Ultra (4 nm)', 'Công nghệ NFC': 'Có', 'Dung lượng RAM': '8 GB', 'Bộ nhớ trong': '256 GB', 'Pin': '5000 mAh', 'Thẻ SIM': '2 SIM (Nano-SIM)', 'Hệ điều hành': 'Android 13', 'Độ phân giải màn hình': '1220 x 2712 pixels', 'Tính năng màn hình': 'Tần số quét 120Hz'}}\n",
            "Processing product 85 of 87\n",
            "{'Link': 'https://cellphones.com.vn/xiaomi-redmi-note-13-pro.html', 'Tên sản phẩm': 'Xiaomi Redmi Note 13 Pro 4G', 'Thương hiệu': 'Xiaomi', 'Giá tạm tính': '6.690.000đ', 'Thông số kỹ thuật': {'Kích thước màn hình': '6.67 inches', 'Công nghệ màn hình': 'AMOLED', 'Camera sau': 'Chính 200 MP & Phụ 8 MP, 2 MP', 'Camera trước': '16 MP', 'Chipset': 'MediaTek Helio G99-Ultra 8 nhân', 'Công nghệ NFC': 'Có', 'Dung lượng RAM': '8 GB', 'Bộ nhớ trong': '128 GB', 'Pin': '5000 mAh', 'Thẻ SIM': '2 SIM (Nano-SIM)', 'Hệ điều hành': 'Android 13', 'Độ phân giải màn hình': '1080 x 2400 pixels (FullHD+)', 'Tính năng màn hình': 'Tần số quét 120Hz\\n1300 nits\\nKính cường lực Corning Gorilla Glass 5'}}\n",
            "Processing product 86 of 87\n",
            "{'Link': 'https://cellphones.com.vn/xiaomi-redmi-note-13.html', 'Tên sản phẩm': 'Xiaomi Redmi Note 13 (6GB 128GB)', 'Thương hiệu': 'Xiaomi', 'Giá tạm tính': '4.690.000đ', 'Thông số kỹ thuật': {'Kích thước màn hình': '6.67 inches', 'Công nghệ màn hình': 'AMOLED', 'Camera sau': 'Chính 108 MP & Phụ 8 MP, 2 MP', 'Camera trước': '16MP', 'Chipset': 'Snapdragon 685', 'Công nghệ NFC': 'Không', 'Dung lượng RAM': '6 GB', 'Bộ nhớ trong': '128 GB', 'Pin': '5000 mAh', 'Thẻ SIM': '2 SIM (Nano-SIM)', 'Hệ điều hành': 'Android 13', 'Độ phân giải màn hình': '1080 x 2400 pixels (FullHD+)', 'Tính năng màn hình': 'Tần số quét 120Hz'}}\n",
            "Processing product 87 of 87\n"
          ]
        }
      ]
    },
    {
      "cell_type": "markdown",
      "metadata": {
        "id": "7RrVeG-jDwMb"
      },
      "source": [
        "#**Xử lý giá trị trước**"
      ]
    },
    {
      "cell_type": "code",
      "source": [
        "import pandas as pd\n",
        "import numpy as np\n",
        "\n",
        "all_products_df = pd.DataFrame(all_products)\n",
        "info_df = all_products_df['Thông số kỹ thuật'].apply(pd.Series)\n",
        "\n",
        "df = all_products_df.copy().drop(columns='Thông số kỹ thuật').join(info_df)\n",
        "\n",
        "df = df[['Tên sản phẩm','Thương hiệu','Giá tạm tính','Kích thước màn hình','Camera sau','Chipset','Dung lượng RAM','Bộ nhớ trong','Pin']]\n",
        "# Chuẩn hóa cột 'Pin'\n",
        "def normalize_battery_capacity(capacity):\n",
        "    # Loại bỏ dấu phẩy và khoảng trắng thừa\n",
        "    if ',' in capacity:\n",
        "        capacity = capacity.replace(',', '').replace('\\n', '')\n",
        "    elif '.' in capacity:\n",
        "        capacity = capacity.replace('.', '').replace('\\n', '')\n",
        "    elif ' ' in capacity:\n",
        "        capacity = capacity.replace(' ', '').replace('\\n', '')\n",
        "\n",
        "    # Nếu có đơn vị mAh thì giữ nguyên, nếu không thì thêm 'mAh'\n",
        "    if 'mAh' not in capacity:\n",
        "        capacity += 'mAh'\n",
        "\n",
        "    return capacity\n",
        "\n",
        "df['Pin'] = df['Pin'].apply(normalize_battery_capacity)\n",
        "\n",
        "# Hàm chuẩn hóa giá\n",
        "def normalize_price(price):\n",
        "    # Kiểm tra nếu giá trị là chuỗi số (có thể có dấu chấm, đ, v.v.)\n",
        "    if isinstance(price, str) and any(char.isdigit() for char in price):\n",
        "        # Loại bỏ ký tự không phải số và chuyển đổi thành float\n",
        "        normalized_price = float(price.replace('.', '').replace('đ', '').replace(' ', '').replace(',', ''))\n",
        "    else:\n",
        "        # Nếu giá trị không phải là số, thay thế bằng NaN (hoặc 0, tùy thuộc vào nhu cầu của bạn)\n",
        "        normalized_price = np.nan\n",
        "    return normalized_price\n",
        "\n",
        "# Áp dụng hàm chuẩn hóa cho cột \"Giá tạm tính\"\n",
        "df['Giá tạm tính'] = df['Giá tạm tính'].apply(normalize_price)\n",
        "\n",
        "# Hàm để thay thế giá trị 'Thương hiệu' nếu có nhiều hơn một từ\n",
        "def replace_brand(row):\n",
        "    # Kiểm tra nếu 'Thương hiệu' là None\n",
        "    if pd.notna(row['Thương hiệu']):\n",
        "        # Tách từ trong cột 'Thương hiệu'\n",
        "        brand_words = row['Thương hiệu'].split()\n",
        "\n",
        "        # Kiểm tra nếu có nhiều hơn một từ\n",
        "        if len(brand_words) > 1:\n",
        "            # Lấy từ đầu tiên từ cột 'Tên sản phẩm'\n",
        "            first_word = row['Tên sản phẩm'].split()[0]\n",
        "            return first_word\n",
        "\n",
        "    else:\n",
        "        # Nếu 'Thương hiệu' là None, trả về giá trị từ cột 'Tên sản phẩm'\n",
        "        return row['Tên sản phẩm'].split()[0]\n",
        "\n",
        "    return row['Thương hiệu']\n",
        "\n",
        "# Áp dụng hàm cho DataFrame\n",
        "df['Thương hiệu'] = df.apply(replace_brand, axis=1)\n",
        "\n",
        "# Tạo cột 'Độ phân giải Camera' từ cột 'Camera sau'\n",
        "df['Camera sau'] = df['Camera sau'].str.split('\\n').str[0]\n",
        "\n",
        "# Tạo DataFrame mới với tên cột và định dạng yêu cầu\n",
        "result_df = df[['Tên sản phẩm', 'Thương hiệu', 'Bộ nhớ trong', 'Dung lượng RAM', 'Chipset', 'Kích thước màn hình', 'Camera sau', 'Pin', 'Giá tạm tính']]\n",
        "\n",
        "# Đổi tên cột để phù hợp với định dạng yêu cầu\n",
        "result_df.columns = ['Tên sản phẩm', 'Hãng sản xuất', 'Bộ nhớ trong', 'Ram', 'Chipset(CPU)', 'Kích thước màn hình', 'Độ phân giải Camera', 'Dung lượng pin', 'Giá']\n",
        "\n",
        "result_df.dropna(inplace=True)\n",
        "# Chuyển đổi DataFrame trở lại thành danh sách\n",
        "result_list = result_df.to_dict(orient='records')\n"
      ],
      "metadata": {
        "id": "qp7IQD035cvL",
        "colab": {
          "base_uri": "https://localhost:8080/"
        },
        "outputId": "ca94b745-7cbc-4cfc-989e-b8fdc6ba6379"
      },
      "execution_count": null,
      "outputs": [
        {
          "output_type": "stream",
          "name": "stderr",
          "text": [
            "<ipython-input-2-b51c6c07956b>:67: SettingWithCopyWarning: \n",
            "A value is trying to be set on a copy of a slice from a DataFrame\n",
            "\n",
            "See the caveats in the documentation: https://pandas.pydata.org/pandas-docs/stable/user_guide/indexing.html#returning-a-view-versus-a-copy\n",
            "  result_df.dropna(inplace=True)\n"
          ]
        }
      ]
    },
    {
      "cell_type": "code",
      "source": [
        "import pandas as pd\n",
        "import numpy as np\n",
        "\n",
        "\n",
        "all_products_df = pd.read_csv('/content/drive/MyDrive/SIC/SIC Project/data/all_products_cellphones.csv')\n",
        "info_df = all_products_df['Thông số kỹ thuật'].apply(lambda x: pd.Series(eval(x)))"
      ],
      "metadata": {
        "id": "Ur6tnCuSsjR1"
      },
      "execution_count": null,
      "outputs": []
    },
    {
      "cell_type": "code",
      "source": [
        "merged_df = all_products_df.copy().drop(columns='Thông số kỹ thuật').join(info_df)\n",
        "merged_df = merged_df[['Tên sản phẩm','Thương hiệu','Kích thước màn hình','Camera sau','Chipset','Dung lượng RAM','Bộ nhớ trong','Pin','Giá tạm tính']]\n",
        "\n",
        "# Chuẩn hóa cột 'Pin'\n",
        "def normalize_battery_capacity(capacity):\n",
        "    # Loại bỏ dấu phẩy và khoảng trắng thừa\n",
        "    if ',' in capacity:\n",
        "        capacity = capacity.replace(',', '').replace('\\n', '')\n",
        "    elif '.' in capacity:\n",
        "        capacity = capacity.replace('.', '').replace('\\n', '')\n",
        "    elif ' ' in capacity:\n",
        "        capacity = capacity.replace(' ', '').replace('\\n', '')\n",
        "\n",
        "    # Nếu có đơn vị mAh thì giữ nguyên, nếu không thì thêm 'mAh'\n",
        "    if 'mAh' not in capacity:\n",
        "        capacity += 'mAh'\n",
        "\n",
        "    return capacity\n",
        "\n",
        "merged_df['Pin'] = merged_df['Pin'].apply(normalize_battery_capacity)\n",
        "\n",
        "# Hàm chuẩn hóa giá\n",
        "def normalize_price(price):\n",
        "    # Kiểm tra nếu giá trị là chuỗi số (có thể có dấu chấm, đ, v.v.)\n",
        "    if isinstance(price, str) and any(char.isdigit() for char in price):\n",
        "        # Loại bỏ ký tự không phải số và chuyển đổi thành float\n",
        "        normalized_price = float(price.replace('.', '').replace('đ', '').replace(' ', '').replace(',', ''))\n",
        "    else:\n",
        "        # Nếu giá trị không phải là số, thay thế bằng NaN (hoặc 0, tùy thuộc vào nhu cầu của bạn)\n",
        "        normalized_price = np.nan\n",
        "    return normalized_price\n",
        "\n",
        "# Áp dụng hàm chuẩn hóa cho cột \"Giá tạm tính\"\n",
        "merged_df['Giá tạm tính'] = merged_df['Giá tạm tính'].apply(normalize_price)\n",
        "\n",
        "# Hàm để thay thế giá trị 'Thương hiệu' nếu có nhiều hơn một từ\n",
        "def replace_brand(row):\n",
        "    # Kiểm tra nếu 'Thương hiệu' là None\n",
        "    if pd.notna(row['Thương hiệu']):\n",
        "        # Tách từ trong cột 'Thương hiệu'\n",
        "        brand_words = row['Thương hiệu'].split()\n",
        "\n",
        "        # Kiểm tra nếu có nhiều hơn một từ\n",
        "        if len(brand_words) > 1:\n",
        "            # Lấy từ đầu tiên từ cột 'Tên sản phẩm'\n",
        "            first_word = row['Tên sản phẩm'].split()[0]\n",
        "            return first_word\n",
        "\n",
        "    else:\n",
        "        # Nếu 'Thương hiệu' là None, trả về giá trị từ cột 'Tên sản phẩm'\n",
        "        return row['Tên sản phẩm'].split()[0]\n",
        "\n",
        "    return row['Thương hiệu']\n",
        "\n",
        "# Áp dụng hàm cho DataFrame\n",
        "merged_df['Thương hiệu'] = merged_df.apply(replace_brand, axis=1)\n",
        "\n",
        "# Tạo cột 'Độ phân giải Camera' từ cột 'Camera sau'\n",
        "merged_df['Camera sau'] = merged_df['Camera sau'].str.split('\\n').str[0]\n",
        "\n",
        "merged_df = merged_df.dropna()"
      ],
      "metadata": {
        "id": "ATOZxqw6lQZN"
      },
      "execution_count": null,
      "outputs": []
    },
    {
      "cell_type": "code",
      "source": [
        "merged_df.isna().sum()\n",
        "len(merged_df)"
      ],
      "metadata": {
        "colab": {
          "base_uri": "https://localhost:8080/"
        },
        "id": "-mSrtvDnlvzK",
        "outputId": "40f892dc-e6f7-475b-bf5e-57cd28eadf94"
      },
      "execution_count": null,
      "outputs": [
        {
          "output_type": "execute_result",
          "data": {
            "text/plain": [
              "493"
            ]
          },
          "metadata": {},
          "execution_count": 32
        }
      ]
    },
    {
      "cell_type": "markdown",
      "source": [
        "https://github.com/aymane-maghouti/Big-Data-Project.git\n",
        "\n",
        "https://github.com/Harmonic2004/Predict-Phone-Price/blob/main/ML/EDA.ipynb"
      ],
      "metadata": {
        "id": "XeUCGglNswaE"
      }
    }
  ],
  "metadata": {
    "colab": {
      "collapsed_sections": [
        "p9aPxoiuzc4Y",
        "x-Ax5QQL8__F"
      ],
      "provenance": [],
      "mount_file_id": "1xSeDxo1OVzfOQPM3xYS4OYI_3mYu3sVo",
      "authorship_tag": "ABX9TyPIB9WaYWO4ydfBZ0GbGYC6",
      "include_colab_link": true
    },
    "kernelspec": {
      "display_name": "Python 3",
      "name": "python3"
    },
    "language_info": {
      "name": "python"
    }
  },
  "nbformat": 4,
  "nbformat_minor": 0
}